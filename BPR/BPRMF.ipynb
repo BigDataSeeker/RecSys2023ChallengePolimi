{
  "cells": [
    {
      "cell_type": "code",
      "execution_count": 1,
      "metadata": {
        "id": "TdBpmeqSyZ0W"
      },
      "outputs": [],
      "source": [
        "import pandas as pd\n",
        "import numpy as np\n",
        "import scipy.sparse as sps\n",
        "\n",
        "from scipy.sparse import *"
      ]
    },
    {
      "cell_type": "code",
      "execution_count": 2,
      "metadata": {},
      "outputs": [],
      "source": [
        "import time"
      ]
    },
    {
      "cell_type": "code",
      "execution_count": 3,
      "metadata": {},
      "outputs": [],
      "source": [
        "from sklearn.metrics import roc_auc_score"
      ]
    },
    {
      "cell_type": "markdown",
      "metadata": {},
      "source": [
        "# BPR\n",
        "We train the BPR on all the training set and we stop when we reach auc of 0.9"
      ]
    },
    {
      "cell_type": "code",
      "execution_count": 4,
      "metadata": {
        "id": "D6wm0tQmgeYZ"
      },
      "outputs": [],
      "source": [
        "urm_path = '../content/data_train.csv'\n",
        "# urm_link = https://raw.githubusercontent.com/BigDataSeeker/RecSys2023ChallengePolimi/main/content/data_train.csv?token=GHSAT0AAAAAACJDMXTAQR5UXGIBQ2LSOT4WZK45D2Q\n",
        "\n",
        "urm_all_df = pd.read_csv(filepath_or_buffer=urm_path,\n",
        "                                sep=\",\",\n",
        "                                header=0,\n",
        "                                dtype={0:int, 1:int, 2:float},\n",
        "                                engine='python')\n",
        "\n",
        "urm_all_df.columns = [\"UserID\", \"ItemID\", \"Interaction\"]"
      ]
    },
    {
      "cell_type": "code",
      "execution_count": 5,
      "metadata": {
        "colab": {
          "base_uri": "https://localhost:8080/",
          "height": 363
        },
        "id": "-QIVaUitoOkR",
        "outputId": "ae3f8b3b-0e4c-4d56-b2c5-0ffb84cdda18"
      },
      "outputs": [
        {
          "data": {
            "text/html": [
              "<div>\n",
              "<style scoped>\n",
              "    .dataframe tbody tr th:only-of-type {\n",
              "        vertical-align: middle;\n",
              "    }\n",
              "\n",
              "    .dataframe tbody tr th {\n",
              "        vertical-align: top;\n",
              "    }\n",
              "\n",
              "    .dataframe thead th {\n",
              "        text-align: right;\n",
              "    }\n",
              "</style>\n",
              "<table border=\"1\" class=\"dataframe\">\n",
              "  <thead>\n",
              "    <tr style=\"text-align: right;\">\n",
              "      <th></th>\n",
              "      <th>UserID</th>\n",
              "      <th>ItemID</th>\n",
              "      <th>Interaction</th>\n",
              "    </tr>\n",
              "  </thead>\n",
              "  <tbody>\n",
              "    <tr>\n",
              "      <th>0</th>\n",
              "      <td>1</td>\n",
              "      <td>7</td>\n",
              "      <td>1.0</td>\n",
              "    </tr>\n",
              "    <tr>\n",
              "      <th>1</th>\n",
              "      <td>1</td>\n",
              "      <td>15</td>\n",
              "      <td>1.0</td>\n",
              "    </tr>\n",
              "    <tr>\n",
              "      <th>2</th>\n",
              "      <td>1</td>\n",
              "      <td>16</td>\n",
              "      <td>1.0</td>\n",
              "    </tr>\n",
              "    <tr>\n",
              "      <th>3</th>\n",
              "      <td>1</td>\n",
              "      <td>133</td>\n",
              "      <td>1.0</td>\n",
              "    </tr>\n",
              "    <tr>\n",
              "      <th>4</th>\n",
              "      <td>1</td>\n",
              "      <td>161</td>\n",
              "      <td>1.0</td>\n",
              "    </tr>\n",
              "    <tr>\n",
              "      <th>5</th>\n",
              "      <td>1</td>\n",
              "      <td>187</td>\n",
              "      <td>1.0</td>\n",
              "    </tr>\n",
              "    <tr>\n",
              "      <th>6</th>\n",
              "      <td>1</td>\n",
              "      <td>205</td>\n",
              "      <td>1.0</td>\n",
              "    </tr>\n",
              "    <tr>\n",
              "      <th>7</th>\n",
              "      <td>1</td>\n",
              "      <td>222</td>\n",
              "      <td>1.0</td>\n",
              "    </tr>\n",
              "    <tr>\n",
              "      <th>8</th>\n",
              "      <td>1</td>\n",
              "      <td>237</td>\n",
              "      <td>1.0</td>\n",
              "    </tr>\n",
              "    <tr>\n",
              "      <th>9</th>\n",
              "      <td>1</td>\n",
              "      <td>354</td>\n",
              "      <td>1.0</td>\n",
              "    </tr>\n",
              "  </tbody>\n",
              "</table>\n",
              "</div>"
            ],
            "text/plain": [
              "   UserID  ItemID  Interaction\n",
              "0       1       7          1.0\n",
              "1       1      15          1.0\n",
              "2       1      16          1.0\n",
              "3       1     133          1.0\n",
              "4       1     161          1.0\n",
              "5       1     187          1.0\n",
              "6       1     205          1.0\n",
              "7       1     222          1.0\n",
              "8       1     237          1.0\n",
              "9       1     354          1.0"
            ]
          },
          "execution_count": 5,
          "metadata": {},
          "output_type": "execute_result"
        }
      ],
      "source": [
        "urm_all_df.head(10)"
      ]
    },
    {
      "cell_type": "code",
      "execution_count": 6,
      "metadata": {
        "colab": {
          "base_uri": "https://localhost:8080/"
        },
        "id": "KQWSAcheqshX",
        "outputId": "76fce1a2-4b3a-4f03-b834-b31b8c65e2ac"
      },
      "outputs": [
        {
          "name": "stdout",
          "output_type": "stream",
          "text": [
            "The number of interactions is 478730\n"
          ]
        }
      ],
      "source": [
        "print (\"The number of interactions is {}\".format(len(urm_all_df)))"
      ]
    },
    {
      "cell_type": "code",
      "execution_count": 7,
      "metadata": {
        "colab": {
          "base_uri": "https://localhost:8080/"
        },
        "id": "dD663Pajrych",
        "outputId": "00f98fc4-e4ac-4cb0-cf7d-141880cbd218"
      },
      "outputs": [
        {
          "name": "stdout",
          "output_type": "stream",
          "text": [
            "Number of items\t 22222, Number of users\t 12638\n",
            "Max ID items\t 22347, Max Id users\t 13024\n",
            "\n",
            "Average interactions per user 37.88\n",
            "Average interactions per item 21.54\n",
            "\n",
            "Sparsity 99.83 %\n"
          ]
        }
      ],
      "source": [
        "userID_unique = urm_all_df[\"UserID\"].unique()\n",
        "itemID_unique = urm_all_df[\"ItemID\"].unique()\n",
        "\n",
        "n_users = len(userID_unique)\n",
        "n_items = len(itemID_unique)\n",
        "n_interactions = len(urm_all_df)\n",
        "\n",
        "print (\"Number of items\\t {}, Number of users\\t {}\".format(n_items, n_users))\n",
        "print (\"Max ID items\\t {}, Max Id users\\t {}\\n\".format(max(itemID_unique), max(userID_unique)))\n",
        "print (\"Average interactions per user {:.2f}\".format(n_interactions/n_users))\n",
        "print (\"Average interactions per item {:.2f}\\n\".format(n_interactions/n_items))\n",
        "\n",
        "print (\"Sparsity {:.2f} %\".format((1-float(n_interactions)/(n_items*n_users))*100))"
      ]
    },
    {
      "cell_type": "markdown",
      "metadata": {},
      "source": [
        "Not all users are in the urm:"
      ]
    },
    {
      "cell_type": "code",
      "execution_count": 8,
      "metadata": {},
      "outputs": [],
      "source": [
        "mapped_id, original_id = pd.factorize(urm_all_df[\"UserID\"].unique())\n",
        "user_original_ID_to_index = pd.Series(mapped_id, index=original_id)\n",
        "\n",
        "mapped_id, original_id = pd.factorize(urm_all_df[\"ItemID\"].unique())\n",
        "item_original_ID_to_index = pd.Series(mapped_id, index=original_id)"
      ]
    },
    {
      "cell_type": "markdown",
      "metadata": {},
      "source": [
        "We now replace the IDs in the dataframe and we are ready to use the data"
      ]
    },
    {
      "cell_type": "code",
      "execution_count": 9,
      "metadata": {},
      "outputs": [],
      "source": [
        "urm_all_df[\"UserID\"] = urm_all_df[\"UserID\"].map(user_original_ID_to_index)\n",
        "urm_all_df[\"ItemID\"] = urm_all_df[\"ItemID\"].map(item_original_ID_to_index)"
      ]
    },
    {
      "cell_type": "code",
      "execution_count": 10,
      "metadata": {},
      "outputs": [
        {
          "data": {
            "text/html": [
              "<div>\n",
              "<style scoped>\n",
              "    .dataframe tbody tr th:only-of-type {\n",
              "        vertical-align: middle;\n",
              "    }\n",
              "\n",
              "    .dataframe tbody tr th {\n",
              "        vertical-align: top;\n",
              "    }\n",
              "\n",
              "    .dataframe thead th {\n",
              "        text-align: right;\n",
              "    }\n",
              "</style>\n",
              "<table border=\"1\" class=\"dataframe\">\n",
              "  <thead>\n",
              "    <tr style=\"text-align: right;\">\n",
              "      <th></th>\n",
              "      <th>UserID</th>\n",
              "      <th>ItemID</th>\n",
              "      <th>Interaction</th>\n",
              "    </tr>\n",
              "  </thead>\n",
              "  <tbody>\n",
              "    <tr>\n",
              "      <th>0</th>\n",
              "      <td>0</td>\n",
              "      <td>0</td>\n",
              "      <td>1.0</td>\n",
              "    </tr>\n",
              "    <tr>\n",
              "      <th>1</th>\n",
              "      <td>0</td>\n",
              "      <td>1</td>\n",
              "      <td>1.0</td>\n",
              "    </tr>\n",
              "    <tr>\n",
              "      <th>2</th>\n",
              "      <td>0</td>\n",
              "      <td>2</td>\n",
              "      <td>1.0</td>\n",
              "    </tr>\n",
              "    <tr>\n",
              "      <th>3</th>\n",
              "      <td>0</td>\n",
              "      <td>3</td>\n",
              "      <td>1.0</td>\n",
              "    </tr>\n",
              "    <tr>\n",
              "      <th>4</th>\n",
              "      <td>0</td>\n",
              "      <td>4</td>\n",
              "      <td>1.0</td>\n",
              "    </tr>\n",
              "    <tr>\n",
              "      <th>5</th>\n",
              "      <td>0</td>\n",
              "      <td>5</td>\n",
              "      <td>1.0</td>\n",
              "    </tr>\n",
              "    <tr>\n",
              "      <th>6</th>\n",
              "      <td>0</td>\n",
              "      <td>6</td>\n",
              "      <td>1.0</td>\n",
              "    </tr>\n",
              "    <tr>\n",
              "      <th>7</th>\n",
              "      <td>0</td>\n",
              "      <td>7</td>\n",
              "      <td>1.0</td>\n",
              "    </tr>\n",
              "    <tr>\n",
              "      <th>8</th>\n",
              "      <td>0</td>\n",
              "      <td>8</td>\n",
              "      <td>1.0</td>\n",
              "    </tr>\n",
              "    <tr>\n",
              "      <th>9</th>\n",
              "      <td>0</td>\n",
              "      <td>9</td>\n",
              "      <td>1.0</td>\n",
              "    </tr>\n",
              "  </tbody>\n",
              "</table>\n",
              "</div>"
            ],
            "text/plain": [
              "   UserID  ItemID  Interaction\n",
              "0       0       0          1.0\n",
              "1       0       1          1.0\n",
              "2       0       2          1.0\n",
              "3       0       3          1.0\n",
              "4       0       4          1.0\n",
              "5       0       5          1.0\n",
              "6       0       6          1.0\n",
              "7       0       7          1.0\n",
              "8       0       8          1.0\n",
              "9       0       9          1.0"
            ]
          },
          "execution_count": 10,
          "metadata": {},
          "output_type": "execute_result"
        }
      ],
      "source": [
        "urm_all_df.head(n=10)"
      ]
    },
    {
      "cell_type": "code",
      "execution_count": 11,
      "metadata": {},
      "outputs": [
        {
          "data": {
            "text/plain": [
              "<12638x22222 sparse matrix of type '<class 'numpy.float64'>'\n",
              "\twith 478730 stored elements in COOrdinate format>"
            ]
          },
          "execution_count": 11,
          "metadata": {},
          "output_type": "execute_result"
        }
      ],
      "source": [
        "urm_all = sps.coo_matrix((urm_all_df[\"Interaction\"].values,\n",
        "                          (urm_all_df[\"UserID\"].values, urm_all_df[\"ItemID\"].values)))\n",
        "\n",
        "urm_all"
      ]
    },
    {
      "cell_type": "code",
      "execution_count": 12,
      "metadata": {},
      "outputs": [],
      "source": [
        "urm_all = urm_all.tocsr()"
      ]
    },
    {
      "cell_type": "code",
      "execution_count": 13,
      "metadata": {
        "id": "IJ-h5XsbuvEU"
      },
      "outputs": [],
      "source": [
        "def precision(recommended_items, relevant_items):\n",
        "\n",
        "    is_relevant = np.in1d(recommended_items, relevant_items, assume_unique=True)\n",
        "\n",
        "    precision_score = np.sum(is_relevant, dtype=np.float32) / len(is_relevant)\n",
        "\n",
        "    return precision_score\n",
        "\n",
        "def recall(recommended_items, relevant_items):\n",
        "\n",
        "    is_relevant = np.in1d(recommended_items, relevant_items, assume_unique=True)\n",
        "\n",
        "    recall_score = np.sum(is_relevant, dtype=np.float32) / relevant_items.shape[0]\n",
        "\n",
        "    return recall_score\n",
        "\n",
        "def AP(recommended_items, relevant_items):\n",
        "\n",
        "    is_relevant = np.in1d(recommended_items, relevant_items, assume_unique=True)\n",
        "\n",
        "    # Cumulative sum: precision at 1, at 2, at 3 ...\n",
        "    p_at_k = is_relevant * np.cumsum(is_relevant, dtype=np.float32) / (1 + np.arange(is_relevant.shape[0]))\n",
        "\n",
        "    ap_score = np.sum(p_at_k) / np.min([relevant_items.shape[0], is_relevant.shape[0]])\n",
        "\n",
        "    return ap_score"
      ]
    },
    {
      "cell_type": "code",
      "execution_count": 14,
      "metadata": {
        "id": "WMRVTPEwu4Qb"
      },
      "outputs": [],
      "source": [
        "def evaluate_algorithm(URM_test, recommender_object, at=5):\n",
        "\n",
        "    cumulative_precision = 0.0\n",
        "    cumulative_recall = 0.0\n",
        "    cumulative_AP = 0.0\n",
        "\n",
        "    num_eval = 0\n",
        "\n",
        "\n",
        "    for user_id in range(URM_test.shape[0]):\n",
        "\n",
        "        relevant_items = URM_test.indices[URM_test.indptr[user_id]:URM_test.indptr[user_id+1]]\n",
        "\n",
        "        if len(relevant_items)>0:\n",
        "\n",
        "            recommended_items = recommender_object.recommend(user_id, at=at)\n",
        "            num_eval+=1\n",
        "\n",
        "            cumulative_precision += precision(recommended_items, relevant_items)\n",
        "            cumulative_recall += recall(recommended_items, relevant_items)\n",
        "            cumulative_AP += AP(recommended_items, relevant_items)\n",
        "\n",
        "    cumulative_precision /= num_eval\n",
        "    cumulative_recall /= num_eval\n",
        "    MAP = cumulative_AP / num_eval\n",
        "\n",
        "    print(\"Recommender results are: Precision = {:.4f}, Recall = {:.4f}, MAP = {:.4f}\".format(\n",
        "        cumulative_precision, cumulative_recall, MAP))"
      ]
    },
    {
      "cell_type": "markdown",
      "metadata": {},
      "source": [
        "---"
      ]
    },
    {
      "cell_type": "markdown",
      "metadata": {},
      "source": [
        "# BRP implementation"
      ]
    },
    {
      "cell_type": "markdown",
      "metadata": {},
      "source": [
        "## Step 1: We create the dense latent factor matrices"
      ]
    },
    {
      "cell_type": "code",
      "execution_count": 15,
      "metadata": {},
      "outputs": [],
      "source": [
        "n_users, n_items = urm_all.shape"
      ]
    },
    {
      "cell_type": "code",
      "execution_count": 16,
      "metadata": {},
      "outputs": [],
      "source": [
        "num_factors = 20\n",
        "\n",
        "user_factors = np.random.random((n_users, num_factors))\n",
        "item_factors = np.random.random((n_items, num_factors))"
      ]
    },
    {
      "cell_type": "markdown",
      "metadata": {},
      "source": [
        "## Step 2: We sample a triplet\n",
        "\n",
        "#### Create a mask of positive interactions."
      ]
    },
    {
      "cell_type": "code",
      "execution_count": 17,
      "metadata": {},
      "outputs": [
        {
          "data": {
            "text/plain": [
              "<12638x22222 sparse matrix of type '<class 'numpy.float64'>'\n",
              "\twith 478730 stored elements in Compressed Sparse Row format>"
            ]
          },
          "execution_count": 17,
          "metadata": {},
          "output_type": "execute_result"
        }
      ],
      "source": [
        "URM_mask = urm_all.copy()\n",
        "URM_mask.data[URM_mask.data < 1.0] = 0\n",
        "\n",
        "URM_mask.eliminate_zeros()\n",
        "URM_mask"
      ]
    },
    {
      "cell_type": "markdown",
      "metadata": {},
      "source": [
        "## Create a function to get a triplet (user_id, pos_item_id, neg_item_id)"
      ]
    },
    {
      "cell_type": "code",
      "execution_count": 18,
      "metadata": {},
      "outputs": [],
      "source": [
        "def sample_triplet():\n",
        "    \n",
        "    non_empty_user = False\n",
        "    \n",
        "    while not non_empty_user:\n",
        "        user_id = np.random.choice(n_users)\n",
        "        user_seen_items = URM_mask.indices[URM_mask.indptr[user_id]:URM_mask.indptr[user_id+1]]\n",
        "        \n",
        "        if len(user_seen_items)>0:\n",
        "            non_empty_user = True\n",
        "\n",
        "    pos_item_id = np.random.choice(user_seen_items)\n",
        "\n",
        "    neg_item_selected = False\n",
        "\n",
        "    # It's faster to just try again then to build a mapping of the non-seen items\n",
        "    while (not neg_item_selected):\n",
        "        neg_item_id = np.random.randint(0, n_items)\n",
        "\n",
        "        if (neg_item_id not in user_seen_items):\n",
        "            neg_item_selected = True\n",
        "\n",
        "    return user_id, pos_item_id, neg_item_id    "
      ]
    },
    {
      "cell_type": "markdown",
      "metadata": {},
      "source": [
        "## Create the function to train the model"
      ]
    },
    {
      "cell_type": "code",
      "execution_count": 19,
      "metadata": {},
      "outputs": [],
      "source": [
        "learning_rate = 1e-4\n",
        "regularization = 1e-4"
      ]
    },
    {
      "cell_type": "code",
      "execution_count": 20,
      "metadata": {},
      "outputs": [],
      "source": [
        "def train_one_epoch(user_factors, item_factors, learning_rate):\n",
        "\n",
        "    for sample_num in range(n_users):\n",
        "\n",
        "        # Sample triplet\n",
        "        user_id, pos_item_id, neg_item_id = sample_triplet()\n",
        "        \n",
        "        # Prediction\n",
        "        x_ui = np.dot(user_factors[user_id,:], item_factors[pos_item_id,:])\n",
        "        x_uj = np.dot(user_factors[user_id,:], item_factors[neg_item_id,:])\n",
        "        \n",
        "        # Gradient\n",
        "        x_uij = x_ui - x_uj\n",
        "\n",
        "        sigmoid_item = 1 / (1 + np.exp(x_uij))\n",
        "                \n",
        "        H_i = item_factors[pos_item_id,:]\n",
        "        H_j = item_factors[neg_item_id,:]\n",
        "        W_u = user_factors[user_id,:]\n",
        "\n",
        "\n",
        "        user_factors[user_id,:] += learning_rate * (sigmoid_item * ( H_i - H_j ) - regularization * W_u)\n",
        "        item_factors[pos_item_id,:] += learning_rate * (sigmoid_item * ( W_u ) - regularization * H_i)\n",
        "        item_factors[neg_item_id,:] += learning_rate * (sigmoid_item * (-W_u ) - regularization * H_j)\n",
        "\n",
        "    return user_factors, item_factors"
      ]
    },
    {
      "cell_type": "markdown",
      "metadata": {},
      "source": [
        "---"
      ]
    },
    {
      "cell_type": "markdown",
      "metadata": {},
      "source": [
        "# Actual training"
      ]
    },
    {
      "cell_type": "code",
      "execution_count": 21,
      "metadata": {},
      "outputs": [],
      "source": [
        "# List of tuples (user_id, positive_movie) and (user_id, negative_movie)\n",
        "num_samples = 1000  # Adjust the number of samples based on your needs\n",
        "\n",
        "positive_samples = []\n",
        "negative_samples = []\n",
        "\n",
        "for _ in range(num_samples):\n",
        "    user_id, pos_item_id, neg_item_id = sample_triplet()\n",
        "    \n",
        "    positive_samples.append((user_id, pos_item_id))  # Label 1 for positive samples\n",
        "    negative_samples.append((user_id, neg_item_id))  # Label 0 for negative samples"
      ]
    },
    {
      "cell_type": "code",
      "execution_count": 40,
      "metadata": {},
      "outputs": [
        {
          "ename": "KeyboardInterrupt",
          "evalue": "",
          "output_type": "error",
          "traceback": [
            "\u001b[1;31m---------------------------------------------------------------------------\u001b[0m",
            "\u001b[1;31mKeyboardInterrupt\u001b[0m                         Traceback (most recent call last)",
            "\u001b[1;32md:\\Programmazione\\RecSys\\Project\\RecSys2023ChallengePolimi\\BPR\\BPRMF.ipynb Cell 33\u001b[0m line \u001b[0;36m4\n\u001b[0;32m      <a href='vscode-notebook-cell:/d%3A/Programmazione/RecSys/Project/RecSys2023ChallengePolimi/BPR/BPRMF.ipynb#X44sZmlsZQ%3D%3D?line=1'>2</a>\u001b[0m auc_score \u001b[39m=\u001b[39m \u001b[39m0\u001b[39m\n\u001b[0;32m      <a href='vscode-notebook-cell:/d%3A/Programmazione/RecSys/Project/RecSys2023ChallengePolimi/BPR/BPRMF.ipynb#X44sZmlsZQ%3D%3D?line=2'>3</a>\u001b[0m \u001b[39mwhile\u001b[39;00m auc_score\u001b[39m<\u001b[39mtarget_auc:\n\u001b[1;32m----> <a href='vscode-notebook-cell:/d%3A/Programmazione/RecSys/Project/RecSys2023ChallengePolimi/BPR/BPRMF.ipynb#X44sZmlsZQ%3D%3D?line=3'>4</a>\u001b[0m   user_factors, item_factors \u001b[39m=\u001b[39m train_one_epoch(user_factors, item_factors, learning_rate)\n\u001b[0;32m      <a href='vscode-notebook-cell:/d%3A/Programmazione/RecSys/Project/RecSys2023ChallengePolimi/BPR/BPRMF.ipynb#X44sZmlsZQ%3D%3D?line=4'>5</a>\u001b[0m   true_labels \u001b[39m=\u001b[39m []\n\u001b[0;32m      <a href='vscode-notebook-cell:/d%3A/Programmazione/RecSys/Project/RecSys2023ChallengePolimi/BPR/BPRMF.ipynb#X44sZmlsZQ%3D%3D?line=5'>6</a>\u001b[0m   predicted_scores \u001b[39m=\u001b[39m []\n",
            "\u001b[1;32md:\\Programmazione\\RecSys\\Project\\RecSys2023ChallengePolimi\\BPR\\BPRMF.ipynb Cell 33\u001b[0m line \u001b[0;36m9\n\u001b[0;32m      <a href='vscode-notebook-cell:/d%3A/Programmazione/RecSys/Project/RecSys2023ChallengePolimi/BPR/BPRMF.ipynb#X44sZmlsZQ%3D%3D?line=5'>6</a>\u001b[0m user_id, pos_item_id, neg_item_id \u001b[39m=\u001b[39m sample_triplet()\n\u001b[0;32m      <a href='vscode-notebook-cell:/d%3A/Programmazione/RecSys/Project/RecSys2023ChallengePolimi/BPR/BPRMF.ipynb#X44sZmlsZQ%3D%3D?line=7'>8</a>\u001b[0m \u001b[39m# Prediction\u001b[39;00m\n\u001b[1;32m----> <a href='vscode-notebook-cell:/d%3A/Programmazione/RecSys/Project/RecSys2023ChallengePolimi/BPR/BPRMF.ipynb#X44sZmlsZQ%3D%3D?line=8'>9</a>\u001b[0m x_ui \u001b[39m=\u001b[39m np\u001b[39m.\u001b[39;49mdot(user_factors[user_id,:], item_factors[pos_item_id,:])\n\u001b[0;32m     <a href='vscode-notebook-cell:/d%3A/Programmazione/RecSys/Project/RecSys2023ChallengePolimi/BPR/BPRMF.ipynb#X44sZmlsZQ%3D%3D?line=9'>10</a>\u001b[0m x_uj \u001b[39m=\u001b[39m np\u001b[39m.\u001b[39mdot(user_factors[user_id,:], item_factors[neg_item_id,:])\n\u001b[0;32m     <a href='vscode-notebook-cell:/d%3A/Programmazione/RecSys/Project/RecSys2023ChallengePolimi/BPR/BPRMF.ipynb#X44sZmlsZQ%3D%3D?line=11'>12</a>\u001b[0m \u001b[39m# Gradient\u001b[39;00m\n",
            "File \u001b[1;32m<__array_function__ internals>:200\u001b[0m, in \u001b[0;36mdot\u001b[1;34m(*args, **kwargs)\u001b[0m\n",
            "\u001b[1;31mKeyboardInterrupt\u001b[0m: "
          ]
        }
      ],
      "source": [
        "target_auc = 0.9\n",
        "auc_score = 0\n",
        "while auc_score<target_auc:\n",
        "  user_factors, item_factors = train_one_epoch(user_factors, item_factors, learning_rate)\n",
        "  true_labels = []\n",
        "  predicted_scores = []\n",
        "\n",
        "  for user, item in positive_samples:\n",
        "    true_labels.append(1)\n",
        "    predicted_scores.append(np.dot(user_factors[user], item_factors[item]))\n",
        "\n",
        "  for user, item in negative_samples:\n",
        "    true_labels.append(0)\n",
        "    predicted_scores.append(np.dot(user_factors[user], item_factors[item]))\n",
        "  auc_score = roc_auc_score(true_labels, predicted_scores)\n",
        "  # print(\"AUC Score:\", auc_score)"
      ]
    },
    {
      "cell_type": "markdown",
      "metadata": {},
      "source": [
        "---"
      ]
    },
    {
      "cell_type": "markdown",
      "metadata": {},
      "source": [
        "# AUC Score\n",
        "We use the AUC score to know how we're doing"
      ]
    },
    {
      "cell_type": "code",
      "execution_count": 23,
      "metadata": {},
      "outputs": [],
      "source": [
        "true_labels = []\n",
        "predicted_scores = []\n",
        "\n",
        "for user, item in positive_samples:\n",
        "    true_labels.append(1)\n",
        "    predicted_scores.append(np.dot(user_factors[user], item_factors[item]))\n",
        "\n",
        "for user, item in negative_samples:\n",
        "    true_labels.append(0)\n",
        "    predicted_scores.append(np.dot(user_factors[user], item_factors[item]))"
      ]
    },
    {
      "cell_type": "code",
      "execution_count": 24,
      "metadata": {},
      "outputs": [
        {
          "name": "stdout",
          "output_type": "stream",
          "text": [
            "AUC Score: 0.8100390000000001\n"
          ]
        }
      ],
      "source": [
        "auc_score = roc_auc_score(true_labels, predicted_scores)\n",
        "print(\"AUC Score:\", auc_score)"
      ]
    },
    {
      "cell_type": "markdown",
      "metadata": {},
      "source": [
        "---"
      ]
    },
    {
      "cell_type": "markdown",
      "metadata": {},
      "source": [
        "I want to save the matrices for future reloading (I may not want to retrain the model)"
      ]
    },
    {
      "cell_type": "code",
      "execution_count": 43,
      "metadata": {},
      "outputs": [],
      "source": [
        "# Save the matrices\n",
        "np.save('user_factors.npy', user_factors)\n",
        "np.save('item_factors.npy', item_factors)"
      ]
    },
    {
      "cell_type": "markdown",
      "metadata": {},
      "source": [
        "To load them use:"
      ]
    },
    {
      "cell_type": "code",
      "execution_count": 22,
      "metadata": {},
      "outputs": [],
      "source": [
        "# Load the matrices\n",
        "user_factors = np.load('user_factors.npy')\n",
        "item_factors = np.load('item_factors.npy')"
      ]
    },
    {
      "cell_type": "markdown",
      "metadata": {},
      "source": [
        "---"
      ]
    },
    {
      "cell_type": "markdown",
      "metadata": {},
      "source": [
        "# Predictions"
      ]
    },
    {
      "cell_type": "code",
      "execution_count": 25,
      "metadata": {},
      "outputs": [
        {
          "name": "stdout",
          "output_type": "stream",
          "text": [
            "Prediction for user 0 and item 1: 12.219314716431663\n"
          ]
        }
      ],
      "source": [
        "# After training, you can use the learned user and item factors for making predictions\n",
        "# For example, to predict the score for a specific user and item:\n",
        "user_id = 0\n",
        "item_id = 1\n",
        "prediction = np.dot(user_factors[user_id, :], item_factors[item_id, :])\n",
        "print(f\"Prediction for user {user_id} and item {item_id}: {prediction}\")"
      ]
    },
    {
      "cell_type": "markdown",
      "metadata": {},
      "source": [
        "**Now let's read the data we want to predict for and see if there're overlaps with UserIDs in train data**"
      ]
    },
    {
      "cell_type": "code",
      "execution_count": 26,
      "metadata": {},
      "outputs": [
        {
          "name": "stdout",
          "output_type": "stream",
          "text": [
            "Unique user id to predict: 10882\n"
          ]
        }
      ],
      "source": [
        "urm_pred_path = '../content/data_target_users_test.csv'\n",
        "# urm_pred_link = https://raw.githubusercontent.com/BigDataSeeker/RecSys2023ChallengePolimi/main/content/data_target_users_test.csv?token=GHSAT0AAAAAACJDMXTAFRCU7IGLON6ME7I2ZK4273Q\n",
        "\n",
        "urm_pred_df = pd.read_csv(filepath_or_buffer=urm_pred_path,\n",
        "                                sep=\",\",\n",
        "                                header=0,\n",
        "                                dtype={0:int},\n",
        "                                engine='python')\n",
        "\n",
        "urm_pred_df.columns = [\"UserID\"]\n",
        "len(urm_pred_df['UserID'])\n",
        "print('Unique user id to predict:', urm_pred_df['UserID'].nunique())"
      ]
    },
    {
      "cell_type": "markdown",
      "metadata": {},
      "source": [
        "We need to convert it to the mapping we've already done for urm_all_df. But we may then have duplicates ids. So we need another method. We may want to convert to the mapped id only when we make a prediction. If the user is not in the mapping then we return the top recommender result (\"[517, 189, 44, 0, 284, 808, 285, 1, 557, 1266]\")"
      ]
    },
    {
      "cell_type": "code",
      "execution_count": 27,
      "metadata": {},
      "outputs": [],
      "source": [
        "def predict_for_user(user_id, user_factors, item_factors, user_original_ID_to_index):\n",
        "    # Check if the user is in the mapping\n",
        "    if user_id in user_original_ID_to_index:\n",
        "        mapped_user_id = user_original_ID_to_index[user_id]\n",
        "        already_seen = urm_all_df.loc[urm_all_df['UserID'] == mapped_user_id, 'ItemID'].values\n",
        "\n",
        "        \n",
        "        item_for_user = np.dot(user_factors[mapped_user_id, :], item_factors.T)\n",
        "        item_for_user[already_seen] = -np.inf\n",
        "        top_item_indices = np.argsort(item_for_user)[::-1][:10]\n",
        "        prediction = item_original_ID_to_index.index[top_item_indices].values\n",
        "        \n",
        "    else:\n",
        "        # Use default recommendations for users not in the mapping\n",
        "        # But I need to convert the default recommendation to the mapped one!\n",
        "        # And then remap it to the original\n",
        "        top_recommendations = [517, 189, 44, 0, 284, 808, 285, 1, 557, 1266]\n",
        "        prediction = top_recommendations\n",
        "    \n",
        "    return prediction"
      ]
    },
    {
      "cell_type": "code",
      "execution_count": 28,
      "metadata": {},
      "outputs": [],
      "source": [
        "predictions = []\n",
        "\n",
        "for user_id in urm_pred_df['UserID']:\n",
        "    prediction = predict_for_user(user_id, user_factors, item_factors, user_original_ID_to_index)\n",
        "    predictions.append(prediction)"
      ]
    },
    {
      "cell_type": "code",
      "execution_count": 29,
      "metadata": {},
      "outputs": [
        {
          "data": {
            "text/html": [
              "<div>\n",
              "<style scoped>\n",
              "    .dataframe tbody tr th:only-of-type {\n",
              "        vertical-align: middle;\n",
              "    }\n",
              "\n",
              "    .dataframe tbody tr th {\n",
              "        vertical-align: top;\n",
              "    }\n",
              "\n",
              "    .dataframe thead th {\n",
              "        text-align: right;\n",
              "    }\n",
              "</style>\n",
              "<table border=\"1\" class=\"dataframe\">\n",
              "  <thead>\n",
              "    <tr style=\"text-align: right;\">\n",
              "      <th></th>\n",
              "      <th>UserID</th>\n",
              "    </tr>\n",
              "  </thead>\n",
              "  <tbody>\n",
              "    <tr>\n",
              "      <th>0</th>\n",
              "      <td>1</td>\n",
              "    </tr>\n",
              "    <tr>\n",
              "      <th>1</th>\n",
              "      <td>2</td>\n",
              "    </tr>\n",
              "    <tr>\n",
              "      <th>2</th>\n",
              "      <td>3</td>\n",
              "    </tr>\n",
              "    <tr>\n",
              "      <th>3</th>\n",
              "      <td>4</td>\n",
              "    </tr>\n",
              "    <tr>\n",
              "      <th>4</th>\n",
              "      <td>5</td>\n",
              "    </tr>\n",
              "    <tr>\n",
              "      <th>...</th>\n",
              "      <td>...</td>\n",
              "    </tr>\n",
              "    <tr>\n",
              "      <th>10877</th>\n",
              "      <td>13020</td>\n",
              "    </tr>\n",
              "    <tr>\n",
              "      <th>10878</th>\n",
              "      <td>13021</td>\n",
              "    </tr>\n",
              "    <tr>\n",
              "      <th>10879</th>\n",
              "      <td>13022</td>\n",
              "    </tr>\n",
              "    <tr>\n",
              "      <th>10880</th>\n",
              "      <td>13023</td>\n",
              "    </tr>\n",
              "    <tr>\n",
              "      <th>10881</th>\n",
              "      <td>13024</td>\n",
              "    </tr>\n",
              "  </tbody>\n",
              "</table>\n",
              "<p>10882 rows × 1 columns</p>\n",
              "</div>"
            ],
            "text/plain": [
              "       UserID\n",
              "0           1\n",
              "1           2\n",
              "2           3\n",
              "3           4\n",
              "4           5\n",
              "...       ...\n",
              "10877   13020\n",
              "10878   13021\n",
              "10879   13022\n",
              "10880   13023\n",
              "10881   13024\n",
              "\n",
              "[10882 rows x 1 columns]"
            ]
          },
          "execution_count": 29,
          "metadata": {},
          "output_type": "execute_result"
        }
      ],
      "source": [
        "urm_pred_df"
      ]
    },
    {
      "cell_type": "markdown",
      "metadata": {},
      "source": [
        "The predictions array should have the same length of the length of the users to predict"
      ]
    },
    {
      "cell_type": "code",
      "execution_count": 30,
      "metadata": {},
      "outputs": [
        {
          "data": {
            "text/plain": [
              "10882"
            ]
          },
          "execution_count": 30,
          "metadata": {},
          "output_type": "execute_result"
        }
      ],
      "source": [
        "len(predictions)"
      ]
    },
    {
      "cell_type": "code",
      "execution_count": 31,
      "metadata": {},
      "outputs": [],
      "source": [
        "predictions_as_strings = [' '.join(map(str, arr)) for arr in predictions]"
      ]
    },
    {
      "cell_type": "code",
      "execution_count": 32,
      "metadata": {},
      "outputs": [],
      "source": [
        "pred_df = pd.DataFrame(columns = ['user_id','item_list'])\n",
        "\n",
        "for i in range(len(predictions)):\n",
        "  pred_df.at[i,'user_id'] = urm_pred_df.loc[i, 'UserID']\n",
        "  pred_df.at[i, 'item_list'] = predictions_as_strings[i]"
      ]
    },
    {
      "cell_type": "code",
      "execution_count": 33,
      "metadata": {},
      "outputs": [
        {
          "data": {
            "text/plain": [
              "user_id                                       60\n",
              "item_list    517 189 44 0 284 808 285 1 557 1266\n",
              "Name: 54, dtype: object"
            ]
          },
          "execution_count": 33,
          "metadata": {},
          "output_type": "execute_result"
        }
      ],
      "source": [
        "pred_df.loc[54]"
      ]
    },
    {
      "cell_type": "code",
      "execution_count": 34,
      "metadata": {},
      "outputs": [],
      "source": [
        "pred_df.to_csv('../content/predBPRMF80AUCwithoutAlreadySeen.csv',index=False)"
      ]
    }
  ],
  "metadata": {
    "colab": {
      "provenance": []
    },
    "kernelspec": {
      "display_name": "Python 3",
      "name": "python3"
    },
    "language_info": {
      "codemirror_mode": {
        "name": "ipython",
        "version": 3
      },
      "file_extension": ".py",
      "mimetype": "text/x-python",
      "name": "python",
      "nbconvert_exporter": "python",
      "pygments_lexer": "ipython3",
      "version": "3.8.18"
    }
  },
  "nbformat": 4,
  "nbformat_minor": 0
}
