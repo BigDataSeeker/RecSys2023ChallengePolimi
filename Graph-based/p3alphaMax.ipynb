{
  "cells": [
    {
      "cell_type": "code",
      "execution_count": null,
      "metadata": {
        "id": "qGZ3gwZEJcMy"
      },
      "outputs": [],
      "source": [
        "import pandas as pd\n",
        "import numpy as np\n",
        "import scipy.sparse as sps\n",
        "\n",
        "from scipy.sparse import *"
      ]
    },
    {
      "cell_type": "markdown",
      "metadata": {
        "id": "Mj9vMDkWJcM6"
      },
      "source": [
        "# P3Alpha"
      ]
    },
    {
      "cell_type": "code",
      "execution_count": null,
      "metadata": {
        "id": "ZWoirK_KJcNA"
      },
      "outputs": [],
      "source": [
        "urm_path = '../content/data_train.csv'\n",
        "urm_all_df = pd.read_csv(filepath_or_buffer=urm_path,\n",
        "                                sep=\",\",\n",
        "                                header=0,\n",
        "                                dtype={0:int, 1:int, 2:float},\n",
        "                                engine='python')\n",
        "\n",
        "urm_all_df.columns = [\"UserID\", \"ItemID\", \"Interaction\"]"
      ]
    },
    {
      "cell_type": "code",
      "execution_count": null,
      "metadata": {
        "colab": {
          "base_uri": "https://localhost:8080/",
          "height": 363
        },
        "id": "wlzOaAmIJcND",
        "outputId": "57d8166d-c475-4b6d-a18c-759212d02a18"
      },
      "outputs": [
        {
          "output_type": "execute_result",
          "data": {
            "text/plain": [
              "   UserID  ItemID  Interaction\n",
              "0       1       7          1.0\n",
              "1       1      15          1.0\n",
              "2       1      16          1.0\n",
              "3       1     133          1.0\n",
              "4       1     161          1.0\n",
              "5       1     187          1.0\n",
              "6       1     205          1.0\n",
              "7       1     222          1.0\n",
              "8       1     237          1.0\n",
              "9       1     354          1.0"
            ],
            "text/html": [
              "\n",
              "  <div id=\"df-20c5c2b7-40a7-415b-b8fa-05a149f299e4\" class=\"colab-df-container\">\n",
              "    <div>\n",
              "<style scoped>\n",
              "    .dataframe tbody tr th:only-of-type {\n",
              "        vertical-align: middle;\n",
              "    }\n",
              "\n",
              "    .dataframe tbody tr th {\n",
              "        vertical-align: top;\n",
              "    }\n",
              "\n",
              "    .dataframe thead th {\n",
              "        text-align: right;\n",
              "    }\n",
              "</style>\n",
              "<table border=\"1\" class=\"dataframe\">\n",
              "  <thead>\n",
              "    <tr style=\"text-align: right;\">\n",
              "      <th></th>\n",
              "      <th>UserID</th>\n",
              "      <th>ItemID</th>\n",
              "      <th>Interaction</th>\n",
              "    </tr>\n",
              "  </thead>\n",
              "  <tbody>\n",
              "    <tr>\n",
              "      <th>0</th>\n",
              "      <td>1</td>\n",
              "      <td>7</td>\n",
              "      <td>1.0</td>\n",
              "    </tr>\n",
              "    <tr>\n",
              "      <th>1</th>\n",
              "      <td>1</td>\n",
              "      <td>15</td>\n",
              "      <td>1.0</td>\n",
              "    </tr>\n",
              "    <tr>\n",
              "      <th>2</th>\n",
              "      <td>1</td>\n",
              "      <td>16</td>\n",
              "      <td>1.0</td>\n",
              "    </tr>\n",
              "    <tr>\n",
              "      <th>3</th>\n",
              "      <td>1</td>\n",
              "      <td>133</td>\n",
              "      <td>1.0</td>\n",
              "    </tr>\n",
              "    <tr>\n",
              "      <th>4</th>\n",
              "      <td>1</td>\n",
              "      <td>161</td>\n",
              "      <td>1.0</td>\n",
              "    </tr>\n",
              "    <tr>\n",
              "      <th>5</th>\n",
              "      <td>1</td>\n",
              "      <td>187</td>\n",
              "      <td>1.0</td>\n",
              "    </tr>\n",
              "    <tr>\n",
              "      <th>6</th>\n",
              "      <td>1</td>\n",
              "      <td>205</td>\n",
              "      <td>1.0</td>\n",
              "    </tr>\n",
              "    <tr>\n",
              "      <th>7</th>\n",
              "      <td>1</td>\n",
              "      <td>222</td>\n",
              "      <td>1.0</td>\n",
              "    </tr>\n",
              "    <tr>\n",
              "      <th>8</th>\n",
              "      <td>1</td>\n",
              "      <td>237</td>\n",
              "      <td>1.0</td>\n",
              "    </tr>\n",
              "    <tr>\n",
              "      <th>9</th>\n",
              "      <td>1</td>\n",
              "      <td>354</td>\n",
              "      <td>1.0</td>\n",
              "    </tr>\n",
              "  </tbody>\n",
              "</table>\n",
              "</div>\n",
              "    <div class=\"colab-df-buttons\">\n",
              "\n",
              "  <div class=\"colab-df-container\">\n",
              "    <button class=\"colab-df-convert\" onclick=\"convertToInteractive('df-20c5c2b7-40a7-415b-b8fa-05a149f299e4')\"\n",
              "            title=\"Convert this dataframe to an interactive table.\"\n",
              "            style=\"display:none;\">\n",
              "\n",
              "  <svg xmlns=\"http://www.w3.org/2000/svg\" height=\"24px\" viewBox=\"0 -960 960 960\">\n",
              "    <path d=\"M120-120v-720h720v720H120Zm60-500h600v-160H180v160Zm220 220h160v-160H400v160Zm0 220h160v-160H400v160ZM180-400h160v-160H180v160Zm440 0h160v-160H620v160ZM180-180h160v-160H180v160Zm440 0h160v-160H620v160Z\"/>\n",
              "  </svg>\n",
              "    </button>\n",
              "\n",
              "  <style>\n",
              "    .colab-df-container {\n",
              "      display:flex;\n",
              "      gap: 12px;\n",
              "    }\n",
              "\n",
              "    .colab-df-convert {\n",
              "      background-color: #E8F0FE;\n",
              "      border: none;\n",
              "      border-radius: 50%;\n",
              "      cursor: pointer;\n",
              "      display: none;\n",
              "      fill: #1967D2;\n",
              "      height: 32px;\n",
              "      padding: 0 0 0 0;\n",
              "      width: 32px;\n",
              "    }\n",
              "\n",
              "    .colab-df-convert:hover {\n",
              "      background-color: #E2EBFA;\n",
              "      box-shadow: 0px 1px 2px rgba(60, 64, 67, 0.3), 0px 1px 3px 1px rgba(60, 64, 67, 0.15);\n",
              "      fill: #174EA6;\n",
              "    }\n",
              "\n",
              "    .colab-df-buttons div {\n",
              "      margin-bottom: 4px;\n",
              "    }\n",
              "\n",
              "    [theme=dark] .colab-df-convert {\n",
              "      background-color: #3B4455;\n",
              "      fill: #D2E3FC;\n",
              "    }\n",
              "\n",
              "    [theme=dark] .colab-df-convert:hover {\n",
              "      background-color: #434B5C;\n",
              "      box-shadow: 0px 1px 3px 1px rgba(0, 0, 0, 0.15);\n",
              "      filter: drop-shadow(0px 1px 2px rgba(0, 0, 0, 0.3));\n",
              "      fill: #FFFFFF;\n",
              "    }\n",
              "  </style>\n",
              "\n",
              "    <script>\n",
              "      const buttonEl =\n",
              "        document.querySelector('#df-20c5c2b7-40a7-415b-b8fa-05a149f299e4 button.colab-df-convert');\n",
              "      buttonEl.style.display =\n",
              "        google.colab.kernel.accessAllowed ? 'block' : 'none';\n",
              "\n",
              "      async function convertToInteractive(key) {\n",
              "        const element = document.querySelector('#df-20c5c2b7-40a7-415b-b8fa-05a149f299e4');\n",
              "        const dataTable =\n",
              "          await google.colab.kernel.invokeFunction('convertToInteractive',\n",
              "                                                    [key], {});\n",
              "        if (!dataTable) return;\n",
              "\n",
              "        const docLinkHtml = 'Like what you see? Visit the ' +\n",
              "          '<a target=\"_blank\" href=https://colab.research.google.com/notebooks/data_table.ipynb>data table notebook</a>'\n",
              "          + ' to learn more about interactive tables.';\n",
              "        element.innerHTML = '';\n",
              "        dataTable['output_type'] = 'display_data';\n",
              "        await google.colab.output.renderOutput(dataTable, element);\n",
              "        const docLink = document.createElement('div');\n",
              "        docLink.innerHTML = docLinkHtml;\n",
              "        element.appendChild(docLink);\n",
              "      }\n",
              "    </script>\n",
              "  </div>\n",
              "\n",
              "\n",
              "<div id=\"df-bb566bbf-3956-4229-8acd-ee43d531090d\">\n",
              "  <button class=\"colab-df-quickchart\" onclick=\"quickchart('df-bb566bbf-3956-4229-8acd-ee43d531090d')\"\n",
              "            title=\"Suggest charts\"\n",
              "            style=\"display:none;\">\n",
              "\n",
              "<svg xmlns=\"http://www.w3.org/2000/svg\" height=\"24px\"viewBox=\"0 0 24 24\"\n",
              "     width=\"24px\">\n",
              "    <g>\n",
              "        <path d=\"M19 3H5c-1.1 0-2 .9-2 2v14c0 1.1.9 2 2 2h14c1.1 0 2-.9 2-2V5c0-1.1-.9-2-2-2zM9 17H7v-7h2v7zm4 0h-2V7h2v10zm4 0h-2v-4h2v4z\"/>\n",
              "    </g>\n",
              "</svg>\n",
              "  </button>\n",
              "\n",
              "<style>\n",
              "  .colab-df-quickchart {\n",
              "      --bg-color: #E8F0FE;\n",
              "      --fill-color: #1967D2;\n",
              "      --hover-bg-color: #E2EBFA;\n",
              "      --hover-fill-color: #174EA6;\n",
              "      --disabled-fill-color: #AAA;\n",
              "      --disabled-bg-color: #DDD;\n",
              "  }\n",
              "\n",
              "  [theme=dark] .colab-df-quickchart {\n",
              "      --bg-color: #3B4455;\n",
              "      --fill-color: #D2E3FC;\n",
              "      --hover-bg-color: #434B5C;\n",
              "      --hover-fill-color: #FFFFFF;\n",
              "      --disabled-bg-color: #3B4455;\n",
              "      --disabled-fill-color: #666;\n",
              "  }\n",
              "\n",
              "  .colab-df-quickchart {\n",
              "    background-color: var(--bg-color);\n",
              "    border: none;\n",
              "    border-radius: 50%;\n",
              "    cursor: pointer;\n",
              "    display: none;\n",
              "    fill: var(--fill-color);\n",
              "    height: 32px;\n",
              "    padding: 0;\n",
              "    width: 32px;\n",
              "  }\n",
              "\n",
              "  .colab-df-quickchart:hover {\n",
              "    background-color: var(--hover-bg-color);\n",
              "    box-shadow: 0 1px 2px rgba(60, 64, 67, 0.3), 0 1px 3px 1px rgba(60, 64, 67, 0.15);\n",
              "    fill: var(--button-hover-fill-color);\n",
              "  }\n",
              "\n",
              "  .colab-df-quickchart-complete:disabled,\n",
              "  .colab-df-quickchart-complete:disabled:hover {\n",
              "    background-color: var(--disabled-bg-color);\n",
              "    fill: var(--disabled-fill-color);\n",
              "    box-shadow: none;\n",
              "  }\n",
              "\n",
              "  .colab-df-spinner {\n",
              "    border: 2px solid var(--fill-color);\n",
              "    border-color: transparent;\n",
              "    border-bottom-color: var(--fill-color);\n",
              "    animation:\n",
              "      spin 1s steps(1) infinite;\n",
              "  }\n",
              "\n",
              "  @keyframes spin {\n",
              "    0% {\n",
              "      border-color: transparent;\n",
              "      border-bottom-color: var(--fill-color);\n",
              "      border-left-color: var(--fill-color);\n",
              "    }\n",
              "    20% {\n",
              "      border-color: transparent;\n",
              "      border-left-color: var(--fill-color);\n",
              "      border-top-color: var(--fill-color);\n",
              "    }\n",
              "    30% {\n",
              "      border-color: transparent;\n",
              "      border-left-color: var(--fill-color);\n",
              "      border-top-color: var(--fill-color);\n",
              "      border-right-color: var(--fill-color);\n",
              "    }\n",
              "    40% {\n",
              "      border-color: transparent;\n",
              "      border-right-color: var(--fill-color);\n",
              "      border-top-color: var(--fill-color);\n",
              "    }\n",
              "    60% {\n",
              "      border-color: transparent;\n",
              "      border-right-color: var(--fill-color);\n",
              "    }\n",
              "    80% {\n",
              "      border-color: transparent;\n",
              "      border-right-color: var(--fill-color);\n",
              "      border-bottom-color: var(--fill-color);\n",
              "    }\n",
              "    90% {\n",
              "      border-color: transparent;\n",
              "      border-bottom-color: var(--fill-color);\n",
              "    }\n",
              "  }\n",
              "</style>\n",
              "\n",
              "  <script>\n",
              "    async function quickchart(key) {\n",
              "      const quickchartButtonEl =\n",
              "        document.querySelector('#' + key + ' button');\n",
              "      quickchartButtonEl.disabled = true;  // To prevent multiple clicks.\n",
              "      quickchartButtonEl.classList.add('colab-df-spinner');\n",
              "      try {\n",
              "        const charts = await google.colab.kernel.invokeFunction(\n",
              "            'suggestCharts', [key], {});\n",
              "      } catch (error) {\n",
              "        console.error('Error during call to suggestCharts:', error);\n",
              "      }\n",
              "      quickchartButtonEl.classList.remove('colab-df-spinner');\n",
              "      quickchartButtonEl.classList.add('colab-df-quickchart-complete');\n",
              "    }\n",
              "    (() => {\n",
              "      let quickchartButtonEl =\n",
              "        document.querySelector('#df-bb566bbf-3956-4229-8acd-ee43d531090d button');\n",
              "      quickchartButtonEl.style.display =\n",
              "        google.colab.kernel.accessAllowed ? 'block' : 'none';\n",
              "    })();\n",
              "  </script>\n",
              "</div>\n",
              "    </div>\n",
              "  </div>\n"
            ]
          },
          "metadata": {},
          "execution_count": 3
        }
      ],
      "source": [
        "urm_all_df.head(10)"
      ]
    },
    {
      "cell_type": "code",
      "execution_count": null,
      "metadata": {
        "colab": {
          "base_uri": "https://localhost:8080/"
        },
        "id": "EVebVGOtJcNG",
        "outputId": "5dd7464c-f9cf-4714-ff12-e42fe6bf7fff"
      },
      "outputs": [
        {
          "output_type": "stream",
          "name": "stdout",
          "text": [
            "The number of interactions is 478730\n"
          ]
        }
      ],
      "source": [
        "print (\"The number of interactions is {}\".format(len(urm_all_df)))"
      ]
    },
    {
      "cell_type": "code",
      "execution_count": null,
      "metadata": {
        "colab": {
          "base_uri": "https://localhost:8080/"
        },
        "id": "RCpXGvrYJcNI",
        "outputId": "999faf14-4bf5-4eec-d99b-682faea7a59e"
      },
      "outputs": [
        {
          "output_type": "stream",
          "name": "stdout",
          "text": [
            "Number of items\t 22222, Number of users\t 12638\n",
            "Max ID items\t 22347, Max Id users\t 13024\n",
            "\n",
            "Average interactions per user 37.88\n",
            "Average interactions per item 21.54\n",
            "\n",
            "Sparsity 99.83 %\n"
          ]
        }
      ],
      "source": [
        "userID_unique = urm_all_df[\"UserID\"].unique()\n",
        "itemID_unique = urm_all_df[\"ItemID\"].unique()\n",
        "\n",
        "n_users = len(userID_unique)\n",
        "n_items = len(itemID_unique)\n",
        "n_interactions = len(urm_all_df)\n",
        "\n",
        "print (\"Number of items\\t {}, Number of users\\t {}\".format(n_items, n_users))\n",
        "print (\"Max ID items\\t {}, Max Id users\\t {}\\n\".format(max(itemID_unique), max(userID_unique)))\n",
        "print (\"Average interactions per user {:.2f}\".format(n_interactions/n_users))\n",
        "print (\"Average interactions per item {:.2f}\\n\".format(n_interactions/n_items))\n",
        "\n",
        "print (\"Sparsity {:.2f} %\".format((1-float(n_interactions)/(n_items*n_users))*100))"
      ]
    },
    {
      "cell_type": "code",
      "execution_count": null,
      "metadata": {
        "colab": {
          "base_uri": "https://localhost:8080/"
        },
        "id": "vcFGlwZxJcNJ",
        "outputId": "f70eb11a-90b4-4a84-cec4-2eac9dcf9de4"
      },
      "outputs": [
        {
          "output_type": "execute_result",
          "data": {
            "text/plain": [
              "<13025x22348 sparse matrix of type '<class 'numpy.float64'>'\n",
              "\twith 478730 stored elements in COOrdinate format>"
            ]
          },
          "metadata": {},
          "execution_count": 108
        }
      ],
      "source": [
        "urm_all = sps.coo_matrix((urm_all_df[\"Interaction\"].values,\n",
        "                          (urm_all_df[\"UserID\"].values, urm_all_df[\"ItemID\"].values)))\n",
        "\n",
        "urm_all"
      ]
    },
    {
      "cell_type": "code",
      "execution_count": null,
      "metadata": {
        "colab": {
          "base_uri": "https://localhost:8080/"
        },
        "id": "wLxA9L6kJcNL",
        "outputId": "dffbd33a-0dd1-4d0f-e9ce-ddc81c63a62a"
      },
      "outputs": [
        {
          "output_type": "execute_result",
          "data": {
            "text/plain": [
              "<13025x22348 sparse matrix of type '<class 'numpy.float64'>'\n",
              "\twith 478730 stored elements in Compressed Sparse Row format>"
            ]
          },
          "metadata": {},
          "execution_count": 106
        }
      ],
      "source": [
        "urm_all = urm_all.tocsr()\n",
        "urm_all"
      ]
    },
    {
      "cell_type": "markdown",
      "metadata": {
        "id": "2L70SofLJcNM"
      },
      "source": [
        "# Some useful import for the algorithm"
      ]
    },
    {
      "cell_type": "code",
      "execution_count": null,
      "metadata": {
        "id": "bo00mRmHJcNN"
      },
      "outputs": [],
      "source": [
        "import scipy.sparse as sps\n",
        "\n",
        "from sklearn.preprocessing import normalize\n",
        "from Recommenders.Recommender_utils import check_matrix, similarityMatrixTopK\n",
        "from Utils.seconds_to_biggest_unit import seconds_to_biggest_unit\n",
        "\n",
        "\n",
        "from Recommenders.BaseSimilarityMatrixRecommender import BaseItemSimilarityMatrixRecommender\n",
        "from Recommenders.Similarity.Compute_Similarity_Python import Incremental_Similarity_Builder\n",
        "import time, sys\n"
      ]
    },
    {
      "cell_type": "code",
      "source": [
        "def precision(recommended_items, relevant_items):\n",
        "\n",
        "    is_relevant = np.in1d(recommended_items, relevant_items, assume_unique=True)\n",
        "\n",
        "    precision_score = np.sum(is_relevant, dtype=np.float32) / len(is_relevant)\n",
        "\n",
        "    return precision_score\n",
        "\n",
        "def recall(recommended_items, relevant_items):\n",
        "\n",
        "    is_relevant = np.in1d(recommended_items, relevant_items, assume_unique=True)\n",
        "\n",
        "    recall_score = np.sum(is_relevant, dtype=np.float32) / relevant_items.shape[0]\n",
        "\n",
        "    return recall_score\n",
        "\n",
        "def AP(recommended_items, relevant_items):\n",
        "\n",
        "    is_relevant = np.in1d(recommended_items, relevant_items, assume_unique=True)\n",
        "\n",
        "    # Cumulative sum: precision at 1, at 2, at 3 ...\n",
        "    p_at_k = is_relevant * np.cumsum(is_relevant, dtype=np.float32) / (1 + np.arange(is_relevant.shape[0]))\n",
        "\n",
        "    ap_score = np.sum(p_at_k) / np.min([relevant_items.shape[0], is_relevant.shape[0]])\n",
        "\n",
        "    return ap_score\n",
        "\n",
        "def evaluate_algorithm(URM_test, recommender_object, at=10):\n",
        "\n",
        "    cumulative_precision = 0.0\n",
        "    cumulative_recall = 0.0\n",
        "    cumulative_AP = 0.0\n",
        "\n",
        "    num_eval = 0\n",
        "\n",
        "\n",
        "    for user_id in range(URM_test.shape[0]):\n",
        "\n",
        "        relevant_items = URM_test.indices[URM_test.indptr[user_id]:URM_test.indptr[user_id+1]]\n",
        "\n",
        "        if len(relevant_items)>0:\n",
        "\n",
        "            recommended_items = recommender_object.recommend(user_id, at=at)\n",
        "            num_eval+=1\n",
        "\n",
        "            cumulative_precision += precision(recommended_items, relevant_items)\n",
        "            cumulative_recall += recall(recommended_items, relevant_items)\n",
        "            cumulative_AP += AP(recommended_items, relevant_items)\n",
        "\n",
        "    mean_precision = cumulative_precision / num_eval\n",
        "    mean_recall = cumulative_recall / num_eval\n",
        "    MAP = cumulative_AP / num_eval\n",
        "\n",
        "    print(\"Recommender results are: Precision = {:.4f}, Recall = {:.4f}, MAP = {:.4f}\".format(\n",
        "        cumulative_precision, cumulative_recall, MAP))\n",
        "    return MAP, mean_precision, mean_recall"
      ],
      "metadata": {
        "id": "jJ9TJFDof4ZW"
      },
      "execution_count": null,
      "outputs": []
    },
    {
      "cell_type": "markdown",
      "metadata": {
        "id": "temRIwuGJcNO"
      },
      "source": [
        "# Algorithm"
      ]
    },
    {
      "cell_type": "markdown",
      "metadata": {
        "id": "aog5xmCjJcNP"
      },
      "source": [
        "## Class for P3alpha"
      ]
    },
    {
      "cell_type": "code",
      "source": [
        "!unzip /content/Recommenders.zip\n",
        "!unzip /content/Utils.zip"
      ],
      "metadata": {
        "id": "KrgVoSwlnq5m"
      },
      "execution_count": null,
      "outputs": []
    },
    {
      "cell_type": "code",
      "execution_count": null,
      "metadata": {
        "id": "eiyufl5CJcNP"
      },
      "outputs": [],
      "source": [
        "#!/usr/bin/env python3\n",
        "# -*- coding: utf-8 -*-\n",
        "\"\"\"\n",
        "@author: Cesare Bernardis\n",
        "\"\"\"\n",
        "\n",
        "# import scipy.sparse as sps\n",
        "\n",
        "# from sklearn.preprocessing import normalize\n",
        "# from Recommenders.Recommender_utils import check_matrix, similarityMatrixTopK\n",
        "# from Utils.seconds_to_biggest_unit import seconds_to_biggest_unit\n",
        "\n",
        "# from Recommenders.BaseSimilarityMatrixRecommender import BaseItemSimilarityMatrixRecommender\n",
        "# from Recommenders.Similarity.Compute_Similarity_Python import Incremental_Similarity_Builder\n",
        "# import time, sys\n",
        "\n",
        "\n",
        "\n",
        "\n",
        "class P3alphaRecommender(BaseItemSimilarityMatrixRecommender):\n",
        "    \"\"\" P3alpha recommender \"\"\"\n",
        "\n",
        "    RECOMMENDER_NAME = \"P3alphaRecommender\"\n",
        "\n",
        "    def __init__(self, URM_train, verbose = True):\n",
        "        super(P3alphaRecommender, self).__init__(URM_train, verbose = verbose)\n",
        "\n",
        "\n",
        "    def __str__(self):\n",
        "        return \"P3alpha(alpha={}, min_rating={}, topk={}, implicit={}, normalize_similarity={})\".format(self.alpha,\n",
        "                                                                            self.min_rating, self.topK, self.implicit,\n",
        "                                                                            self.normalize_similarity)\n",
        "\n",
        "\n",
        "    def fit(self, topK=100, alpha=1., min_rating=0, implicit=False, normalize_similarity=False):\n",
        "\n",
        "        self.topK = topK\n",
        "        self.alpha = alpha\n",
        "        self.min_rating = min_rating\n",
        "        self.implicit = implicit\n",
        "        self.normalize_similarity = normalize_similarity\n",
        "\n",
        "\n",
        "        # if X.dtype != np.float32:\n",
        "        #     print(\"P3ALPHA fit: For memory usage reasons, we suggest to use np.float32 as dtype for the dataset\")\n",
        "\n",
        "        # In our case this shouldn't apply: we're using IMPLICIT RATINGS\n",
        "        if self.min_rating > 0:\n",
        "            self.URM_train.data[self.URM_train.data < self.min_rating] = 0\n",
        "            self.URM_train.eliminate_zeros()\n",
        "            if self.implicit:\n",
        "                self.URM_train.data = np.ones(self.URM_train.data.size, dtype=np.float32)\n",
        "\n",
        "        #Pui is the row-normalized urm\n",
        "        Pui = normalize(self.URM_train, norm='l1', axis=1)\n",
        "        self.Pui = Pui\n",
        "\n",
        "        #Piu is the column-normalized, \"boolean\" urm transposed\n",
        "        X_bool = self.URM_train.transpose(copy=True)\n",
        "        X_bool.data = np.ones(X_bool.data.size, np.float32)\n",
        "        #ATTENTION: axis is still 1 because i transposed before the normalization\n",
        "        Piu = normalize(X_bool, norm='l1', axis=1)\n",
        "        del(X_bool)\n",
        "        self.Piu = Piu\n",
        "\n",
        "        # Alfa power\n",
        "        if self.alpha != 1.:\n",
        "            Pui = Pui.power(self.alpha)\n",
        "            Piu = Piu.power(self.alpha)\n",
        "\n",
        "        # Final matrix is computed as Pui * Piu * Pui\n",
        "        # Multiplication unpacked for memory usage reasons\n",
        "        block_dim = 200\n",
        "        d_t = Piu\n",
        "\n",
        "        similarity_builder = Incremental_Similarity_Builder(Pui.shape[1], initial_data_block=Pui.shape[1]*self.topK, dtype = np.float32)\n",
        "\n",
        "        start_time = time.time()\n",
        "        start_time_printBatch = start_time\n",
        "\n",
        "        for current_block_start_row in range(0, Pui.shape[1], block_dim):\n",
        "\n",
        "            if current_block_start_row + block_dim > Pui.shape[1]:\n",
        "                block_dim = Pui.shape[1] - current_block_start_row\n",
        "\n",
        "            similarity_block = d_t[current_block_start_row:current_block_start_row + block_dim, :] * Pui\n",
        "            similarity_block = similarity_block.toarray()\n",
        "\n",
        "            for row_in_block in range(block_dim):\n",
        "                row_data = similarity_block[row_in_block, :]\n",
        "                row_data[current_block_start_row + row_in_block] = 0\n",
        "\n",
        "                relevant_items_partition = np.argpartition(-row_data, self.topK-1, axis=0)[:self.topK]\n",
        "                row_data = row_data[relevant_items_partition]\n",
        "\n",
        "                # Incrementally build sparse matrix, do not add zeros\n",
        "                if np.any(row_data == 0.0):\n",
        "                    non_zero_mask = row_data != 0.0\n",
        "                    relevant_items_partition = relevant_items_partition[non_zero_mask]\n",
        "                    row_data = row_data[non_zero_mask]\n",
        "\n",
        "                similarity_builder.add_data_lists(row_list_to_add=np.ones(len(row_data), dtype = int) * (current_block_start_row + row_in_block), col_list_to_add=relevant_items_partition, data_list_to_add=row_data)\n",
        "\n",
        "\n",
        "            if time.time() - start_time_printBatch > 300 or current_block_start_row + block_dim == Pui.shape[1]:\n",
        "                new_time_value, new_time_unit = seconds_to_biggest_unit(time.time() - start_time)\n",
        "\n",
        "                self._print(\"Similarity column {} ({:4.1f}%), {:.2f} column/sec. Elapsed time {:.2f} {}\".format(\n",
        "                    current_block_start_row + block_dim,\n",
        "                    100.0 * float( current_block_start_row + block_dim) / Pui.shape[1],\n",
        "                    float( current_block_start_row + block_dim) / (time.time() - start_time),\n",
        "                    new_time_value, new_time_unit))\n",
        "\n",
        "                sys.stdout.flush()\n",
        "                sys.stderr.flush()\n",
        "\n",
        "                start_time_printBatch = time.time()\n",
        "\n",
        "\n",
        "        self.W_sparse = similarity_builder.get_SparseMatrix()\n",
        "\n",
        "\n",
        "        if self.normalize_similarity:\n",
        "            self.W_sparse = normalize(self.W_sparse, norm='l1', axis=1)\n",
        "\n",
        "\n",
        "        if self.topK != False:\n",
        "            self.W_sparse = similarityMatrixTopK(self.W_sparse, k=self.topK)\n",
        "\n",
        "        self.W_sparse = check_matrix(self.W_sparse, format='csr')\n",
        "\n",
        "    \"\"\" RECOMMENDATIONS \"\"\"\n",
        "    def recommend(self, user_id, at=10,users_not_in_train=[], remove_seen = True):\n",
        "        top_pop_recommendations = [517, 189, 44, 0, 284, 808, 285, 1, 557, 1266]\n",
        "        # Check if user_id not in train use the topRec\n",
        "        if user_id in users_not_in_train:\n",
        "            return top_pop_recommendations\n",
        "\n",
        "        # Assuming you have Pui, Piu, and W_sparse from your fit method\n",
        "        # Calculate the predicted scores for all items\n",
        "        predicted_scores = np.dot(self.Pui[user_id, :], self.W_sparse ).toarray().ravel()\n",
        "        # Find the items with zero score\n",
        "        #items2delete = np.where(predicted_scores < 1e-13)[0]\n",
        "        items2delete = np.array([]) # keep empty array in order not to delete zero scores\n",
        "\n",
        "        # Find items that the user has already seen\n",
        "        seen_items = np.array(self.URM_train.indices[self.URM_train.indptr[user_id]:self.URM_train.indptr[user_id + 1]])\n",
        "\n",
        "        if remove_seen:\n",
        "          #Remove seen itmes\n",
        "          items2delete = np.concatenate([items2delete,seen_items],axis = 0).astype(np.int32)\n",
        "\n",
        "        # Remove items with zero score and/or seen items\n",
        "        predicted_scores[items2delete] = -np.inf\n",
        "        # Sort the items in score descending order\n",
        "        ranking = predicted_scores.argsort()[::-1]\n",
        "        # Check if we recommend at least 10 items\n",
        "        if len(ranking) < 10:\n",
        "                # new_items = [item for item in top_pop_recommendations if item not in sorted_items]\n",
        "\n",
        "                # The real one should be this one, but I need a way to avoid having less than 10 recommended items.\n",
        "                # One possible way may be to add to top_pop_recommendations other items\n",
        "\n",
        "            new_items = [item for item in top_pop_recommendations if item not in ranking and item not in seen_items]\n",
        "            ranking = np.concatenate([ranking,new_items[:min(10 - len(ranking), len(new_items))]])\n",
        "        # Return the top N recommendations\n",
        "        return ranking[:at]\n",
        "\n",
        "\n",
        "\n",
        "\n"
      ]
    },
    {
      "cell_type": "markdown",
      "source": [
        "# Evaluate algoritm\n"
      ],
      "metadata": {
        "id": "udJvxEz-W--V"
      }
    },
    {
      "cell_type": "markdown",
      "source": [
        "Split the data into train/val\n"
      ],
      "metadata": {
        "id": "p1SIoHBnw0B8"
      }
    },
    {
      "cell_type": "code",
      "source": [
        "train_test_split = 0.80\n",
        "\n",
        "n_interactions = urm_all.nnz\n",
        "\n",
        "train_mask = np.random.choice([True,False], n_interactions, p=[train_test_split, 1-train_test_split])\n",
        "\n",
        "urm_train = sps.csr_matrix((urm_all.data[train_mask],\n",
        "                            (urm_all.row[train_mask], urm_all.col[train_mask])))\n",
        "\n",
        "val_mask = np.logical_not(train_mask)\n",
        "\n",
        "urm_val = sps.csr_matrix((urm_all.data[val_mask],\n",
        "                            (urm_all.row[val_mask], urm_all.col[val_mask])))"
      ],
      "metadata": {
        "id": "ibEws2UGv7wk"
      },
      "execution_count": null,
      "outputs": []
    },
    {
      "cell_type": "code",
      "source": [
        "recommender = P3alphaRecommender(urm_train)\n",
        "recommender.fit(topK=250,alpha=0.2, min_rating=0.1, implicit=True, normalize_similarity=False)\n",
        "\n",
        "map, mp,mr = evaluate_algorithm(urm_val,recommender)\n",
        "print(f'MAP - {map}')"
      ],
      "metadata": {
        "colab": {
          "base_uri": "https://localhost:8080/"
        },
        "id": "5ljlC6sXVnrW",
        "outputId": "db2ee17f-da23-4889-a6ed-78302af715b1"
      },
      "execution_count": null,
      "outputs": [
        {
          "output_type": "stream",
          "name": "stdout",
          "text": [
            "P3alphaRecommender: URM Detected 622 ( 4.8%) users with no interactions.\n",
            "P3alphaRecommender: URM Detected 244 ( 1.1%) items with no interactions.\n",
            "P3alphaRecommender: Similarity column 22348 (100.0%), 1670.02 column/sec. Elapsed time 13.38 sec\n",
            "Recommender results are: Precision = 586.2000, Recall = 1004.4931, MAP = 0.0479\n",
            "MAP - 0.047867463701126704\n"
          ]
        }
      ]
    },
    {
      "cell_type": "markdown",
      "metadata": {
        "id": "SsK_PH8DJcNS"
      },
      "source": [
        "## Let's create the matrices"
      ]
    },
    {
      "cell_type": "code",
      "execution_count": null,
      "metadata": {
        "id": "BsKCYFnzJcNS",
        "outputId": "5cfde937-3472-43e1-d4f4-efec363b84ab",
        "colab": {
          "base_uri": "https://localhost:8080/"
        }
      },
      "outputs": [
        {
          "output_type": "stream",
          "name": "stdout",
          "text": [
            "P3alphaRecommender: URM Detected 387 ( 3.0%) users with no interactions.\n",
            "P3alphaRecommender: URM Detected 126 ( 0.6%) items with no interactions.\n",
            "P3alphaRecommender: Similarity column 22348 (100.0%), 1737.21 column/sec. Elapsed time 12.86 sec\n"
          ]
        }
      ],
      "source": [
        "# Create an instance of the P3alphaRecommender class\n",
        "p3alpha_recommender = P3alphaRecommender(urm_all)\n",
        "\n",
        "# Fit the recommender (you can customize the fit parameters if needed)\n",
        "p3alpha_recommender.fit(topK=250,alpha=0.2, min_rating=0.1, implicit=True, normalize_similarity=False)"
      ]
    },
    {
      "cell_type": "markdown",
      "metadata": {
        "id": "b77fbW34JcNT"
      },
      "source": [
        "We can see that W_sparse is N rows (users) * M columns (items). We can see the items are with the proper ID since they go up to the true max ID, 22347. Moreover, W_sparse is not empty!"
      ]
    },
    {
      "cell_type": "markdown",
      "metadata": {
        "id": "LljPpvtzJcNU"
      },
      "source": [
        "# Predictions"
      ]
    },
    {
      "cell_type": "code",
      "execution_count": null,
      "metadata": {
        "id": "1tTZg3O6JcNV",
        "outputId": "2c79212c-944f-48d6-a5e4-3030f8d946cc",
        "colab": {
          "base_uri": "https://localhost:8080/"
        }
      },
      "outputs": [
        {
          "output_type": "stream",
          "name": "stdout",
          "text": [
            "Unique user id to predict: 10882\n"
          ]
        }
      ],
      "source": [
        "urm_pred_path = '../content/data_target_users_test.csv'\n",
        "# urm_pred_link = https://raw.githubusercontent.com/BigDataSeeker/RecSys2023ChallengePolimi/main/content/data_target_users_test.csv?token=GHSAT0AAAAAACJDMXTAFRCU7IGLON6ME7I2ZK4273Q\n",
        "\n",
        "urm_pred_df = pd.read_csv(filepath_or_buffer=urm_pred_path,\n",
        "                                sep=\",\",\n",
        "                                header=0,\n",
        "                                dtype={0:int},\n",
        "                                engine='python')\n",
        "\n",
        "urm_pred_df.columns = [\"UserID\"]\n",
        "len(urm_pred_df['UserID'])\n",
        "print('Unique user id to predict:', urm_pred_df['UserID'].nunique())"
      ]
    },
    {
      "cell_type": "code",
      "source": [
        "users_not_in_train = urm_pred_df[~urm_pred_df['UserID'].isin(urm_all_df['UserID'])]\n",
        "\n",
        "print(\"Users in urm_pred_df but not in urm_all_orgdf:\")\n",
        "print(users_not_in_train)\n",
        "print(len(users_not_in_train))\n",
        "\n",
        "users_not_in_train = users_not_in_train['UserID'].to_numpy()"
      ],
      "metadata": {
        "colab": {
          "base_uri": "https://localhost:8080/"
        },
        "id": "ShnRA_luo9BW",
        "outputId": "96f0690a-fdf4-4a00-ce9a-e8dfb964f876"
      },
      "execution_count": null,
      "outputs": [
        {
          "output_type": "stream",
          "name": "stdout",
          "text": [
            "Users in urm_pred_df but not in urm_all_orgdf:\n",
            "       UserID\n",
            "54         60\n",
            "58         65\n",
            "147       168\n",
            "223       261\n",
            "272       316\n",
            "...       ...\n",
            "10682   12775\n",
            "10699   12798\n",
            "10729   12837\n",
            "10802   12921\n",
            "10856   12992\n",
            "\n",
            "[221 rows x 1 columns]\n",
            "221\n"
          ]
        }
      ]
    },
    {
      "cell_type": "code",
      "execution_count": null,
      "metadata": {
        "id": "vU-I31OjJcNW",
        "outputId": "c229f5c4-58b6-4010-cbe8-6428bd832d17",
        "colab": {
          "base_uri": "https://localhost:8080/"
        }
      },
      "outputs": [
        {
          "output_type": "stream",
          "name": "stdout",
          "text": [
            "Predicting for user - 61\n",
            "The prediction is [  6   7  51  15  87 107  88  81 202  29]\n"
          ]
        }
      ],
      "source": [
        "# Try for one specific user\n",
        "user_id = 61\n",
        "print(f'Predicting for user - {user_id}')\n",
        "prediction = p3alpha_recommender.recommend(user_id,users_not_in_train = users_not_in_train)\n",
        "print(f\"The prediction is {prediction}\")"
      ]
    },
    {
      "cell_type": "code",
      "execution_count": null,
      "metadata": {
        "id": "rX6s8MyHJcNW",
        "outputId": "35d31ff6-2aa4-41ab-afdf-526fe4cbd49b",
        "colab": {
          "base_uri": "https://localhost:8080/"
        }
      },
      "outputs": [
        {
          "output_type": "stream",
          "name": "stdout",
          "text": [
            "--------\n",
            "Predicting for user - 0\n",
            "The prediction is [22347  7451  7443  7444  7445  7446  7447  7448  7449  7450]\n",
            "--------\n",
            "Predicting for user - 1\n",
            "The prediction is [  3  36   2   1 101   8   4   6  25  31]\n",
            "--------\n",
            "Predicting for user - 2\n",
            "The prediction is [ 2  4  3  6  8 11  9 19  5 14]\n",
            "--------\n",
            "Predicting for user - 3\n",
            "The prediction is [ 59 259 536   9   1   2 648 584   3 414]\n",
            "--------\n",
            "Predicting for user - 4\n",
            "The prediction is [ 1  2  4  6  7  3 28  9  8  5]\n",
            "--------\n",
            "Predicting for user - 5\n",
            "The prediction is [ 4  2  6  8  7 20  3 14 19 77]\n",
            "--------\n",
            "Predicting for user - 6\n",
            "The prediction is [ 2  6  3  7  8 14 19 20  9 22]\n",
            "--------\n",
            "Predicting for user - 7\n",
            "The prediction is [  4   1   7   3   2 192  88   6  15   8]\n",
            "--------\n",
            "Predicting for user - 8\n",
            "The prediction is [ 4  2  6  3  8  7 17 11  9 80]\n",
            "--------\n",
            "Predicting for user - 9\n",
            "The prediction is [ 859  554 9018 6197 3071 5724 7056 2821 2282 6450]\n"
          ]
        }
      ],
      "source": [
        "# Try for some specific user\n",
        "for user_id in range(10):\n",
        "  print(\"--------\")\n",
        "  print(f'Predicting for user - {user_id}')\n",
        "  prediction = p3alpha_recommender.recommend(user_id,users_not_in_train = users_not_in_train)\n",
        "  print(f\"The prediction is {prediction}\")"
      ]
    },
    {
      "cell_type": "code",
      "source": [
        "pred_df = pd.DataFrame(columns = ['user_id','item_list'])\n",
        "\n",
        "for userid in urm_pred_df['UserID']:\n",
        "  recommendations = p3alpha_recommender.recommend(userid, at=10,remove_seen = True, users_not_in_train=users_not_in_train)\n",
        "  recommendations = \" \".join(str(item) for item in recommendations)\n",
        "  pred_df.loc[len(pred_df)] = [userid,recommendations]"
      ],
      "metadata": {
        "id": "CCXgLHFLja4N"
      },
      "execution_count": null,
      "outputs": []
    },
    {
      "cell_type": "code",
      "source": [
        "pred_df"
      ],
      "metadata": {
        "colab": {
          "base_uri": "https://localhost:8080/",
          "height": 423
        },
        "id": "amWCfIrWjtbE",
        "outputId": "270abccc-c4d8-4eb8-d655-969d600b627d"
      },
      "execution_count": null,
      "outputs": [
        {
          "output_type": "execute_result",
          "data": {
            "text/plain": [
              "       user_id                               item_list\n",
              "0            1                3 36 2 1 101 8 4 6 25 31\n",
              "1            2                  2 4 3 6 8 11 9 19 5 14\n",
              "2            3          59 259 536 9 1 2 648 584 3 414\n",
              "3            4                    1 2 4 6 7 3 28 9 8 5\n",
              "4            5                 4 2 6 8 7 20 3 14 19 77\n",
              "...        ...                                     ...\n",
              "10877    13020                  1 2 7 4 3 6 51 34 8 85\n",
              "10878    13021                2 1 3 8 6 133 20 9 13 32\n",
              "10879    13022  809 1411 1446 1668 1674 3 39 148 20 41\n",
              "10880    13023               32 3 4 2 7 1 96 20 138 19\n",
              "10881    13024                2 4 3 8 9 14 20 19 22 33\n",
              "\n",
              "[10882 rows x 2 columns]"
            ],
            "text/html": [
              "\n",
              "  <div id=\"df-7b46cf3d-17ff-41e2-892a-34172ccc5b82\" class=\"colab-df-container\">\n",
              "    <div>\n",
              "<style scoped>\n",
              "    .dataframe tbody tr th:only-of-type {\n",
              "        vertical-align: middle;\n",
              "    }\n",
              "\n",
              "    .dataframe tbody tr th {\n",
              "        vertical-align: top;\n",
              "    }\n",
              "\n",
              "    .dataframe thead th {\n",
              "        text-align: right;\n",
              "    }\n",
              "</style>\n",
              "<table border=\"1\" class=\"dataframe\">\n",
              "  <thead>\n",
              "    <tr style=\"text-align: right;\">\n",
              "      <th></th>\n",
              "      <th>user_id</th>\n",
              "      <th>item_list</th>\n",
              "    </tr>\n",
              "  </thead>\n",
              "  <tbody>\n",
              "    <tr>\n",
              "      <th>0</th>\n",
              "      <td>1</td>\n",
              "      <td>3 36 2 1 101 8 4 6 25 31</td>\n",
              "    </tr>\n",
              "    <tr>\n",
              "      <th>1</th>\n",
              "      <td>2</td>\n",
              "      <td>2 4 3 6 8 11 9 19 5 14</td>\n",
              "    </tr>\n",
              "    <tr>\n",
              "      <th>2</th>\n",
              "      <td>3</td>\n",
              "      <td>59 259 536 9 1 2 648 584 3 414</td>\n",
              "    </tr>\n",
              "    <tr>\n",
              "      <th>3</th>\n",
              "      <td>4</td>\n",
              "      <td>1 2 4 6 7 3 28 9 8 5</td>\n",
              "    </tr>\n",
              "    <tr>\n",
              "      <th>4</th>\n",
              "      <td>5</td>\n",
              "      <td>4 2 6 8 7 20 3 14 19 77</td>\n",
              "    </tr>\n",
              "    <tr>\n",
              "      <th>...</th>\n",
              "      <td>...</td>\n",
              "      <td>...</td>\n",
              "    </tr>\n",
              "    <tr>\n",
              "      <th>10877</th>\n",
              "      <td>13020</td>\n",
              "      <td>1 2 7 4 3 6 51 34 8 85</td>\n",
              "    </tr>\n",
              "    <tr>\n",
              "      <th>10878</th>\n",
              "      <td>13021</td>\n",
              "      <td>2 1 3 8 6 133 20 9 13 32</td>\n",
              "    </tr>\n",
              "    <tr>\n",
              "      <th>10879</th>\n",
              "      <td>13022</td>\n",
              "      <td>809 1411 1446 1668 1674 3 39 148 20 41</td>\n",
              "    </tr>\n",
              "    <tr>\n",
              "      <th>10880</th>\n",
              "      <td>13023</td>\n",
              "      <td>32 3 4 2 7 1 96 20 138 19</td>\n",
              "    </tr>\n",
              "    <tr>\n",
              "      <th>10881</th>\n",
              "      <td>13024</td>\n",
              "      <td>2 4 3 8 9 14 20 19 22 33</td>\n",
              "    </tr>\n",
              "  </tbody>\n",
              "</table>\n",
              "<p>10882 rows × 2 columns</p>\n",
              "</div>\n",
              "    <div class=\"colab-df-buttons\">\n",
              "\n",
              "  <div class=\"colab-df-container\">\n",
              "    <button class=\"colab-df-convert\" onclick=\"convertToInteractive('df-7b46cf3d-17ff-41e2-892a-34172ccc5b82')\"\n",
              "            title=\"Convert this dataframe to an interactive table.\"\n",
              "            style=\"display:none;\">\n",
              "\n",
              "  <svg xmlns=\"http://www.w3.org/2000/svg\" height=\"24px\" viewBox=\"0 -960 960 960\">\n",
              "    <path d=\"M120-120v-720h720v720H120Zm60-500h600v-160H180v160Zm220 220h160v-160H400v160Zm0 220h160v-160H400v160ZM180-400h160v-160H180v160Zm440 0h160v-160H620v160ZM180-180h160v-160H180v160Zm440 0h160v-160H620v160Z\"/>\n",
              "  </svg>\n",
              "    </button>\n",
              "\n",
              "  <style>\n",
              "    .colab-df-container {\n",
              "      display:flex;\n",
              "      gap: 12px;\n",
              "    }\n",
              "\n",
              "    .colab-df-convert {\n",
              "      background-color: #E8F0FE;\n",
              "      border: none;\n",
              "      border-radius: 50%;\n",
              "      cursor: pointer;\n",
              "      display: none;\n",
              "      fill: #1967D2;\n",
              "      height: 32px;\n",
              "      padding: 0 0 0 0;\n",
              "      width: 32px;\n",
              "    }\n",
              "\n",
              "    .colab-df-convert:hover {\n",
              "      background-color: #E2EBFA;\n",
              "      box-shadow: 0px 1px 2px rgba(60, 64, 67, 0.3), 0px 1px 3px 1px rgba(60, 64, 67, 0.15);\n",
              "      fill: #174EA6;\n",
              "    }\n",
              "\n",
              "    .colab-df-buttons div {\n",
              "      margin-bottom: 4px;\n",
              "    }\n",
              "\n",
              "    [theme=dark] .colab-df-convert {\n",
              "      background-color: #3B4455;\n",
              "      fill: #D2E3FC;\n",
              "    }\n",
              "\n",
              "    [theme=dark] .colab-df-convert:hover {\n",
              "      background-color: #434B5C;\n",
              "      box-shadow: 0px 1px 3px 1px rgba(0, 0, 0, 0.15);\n",
              "      filter: drop-shadow(0px 1px 2px rgba(0, 0, 0, 0.3));\n",
              "      fill: #FFFFFF;\n",
              "    }\n",
              "  </style>\n",
              "\n",
              "    <script>\n",
              "      const buttonEl =\n",
              "        document.querySelector('#df-7b46cf3d-17ff-41e2-892a-34172ccc5b82 button.colab-df-convert');\n",
              "      buttonEl.style.display =\n",
              "        google.colab.kernel.accessAllowed ? 'block' : 'none';\n",
              "\n",
              "      async function convertToInteractive(key) {\n",
              "        const element = document.querySelector('#df-7b46cf3d-17ff-41e2-892a-34172ccc5b82');\n",
              "        const dataTable =\n",
              "          await google.colab.kernel.invokeFunction('convertToInteractive',\n",
              "                                                    [key], {});\n",
              "        if (!dataTable) return;\n",
              "\n",
              "        const docLinkHtml = 'Like what you see? Visit the ' +\n",
              "          '<a target=\"_blank\" href=https://colab.research.google.com/notebooks/data_table.ipynb>data table notebook</a>'\n",
              "          + ' to learn more about interactive tables.';\n",
              "        element.innerHTML = '';\n",
              "        dataTable['output_type'] = 'display_data';\n",
              "        await google.colab.output.renderOutput(dataTable, element);\n",
              "        const docLink = document.createElement('div');\n",
              "        docLink.innerHTML = docLinkHtml;\n",
              "        element.appendChild(docLink);\n",
              "      }\n",
              "    </script>\n",
              "  </div>\n",
              "\n",
              "\n",
              "<div id=\"df-9e2d0637-7579-4b9b-bb34-aa136b174bbb\">\n",
              "  <button class=\"colab-df-quickchart\" onclick=\"quickchart('df-9e2d0637-7579-4b9b-bb34-aa136b174bbb')\"\n",
              "            title=\"Suggest charts\"\n",
              "            style=\"display:none;\">\n",
              "\n",
              "<svg xmlns=\"http://www.w3.org/2000/svg\" height=\"24px\"viewBox=\"0 0 24 24\"\n",
              "     width=\"24px\">\n",
              "    <g>\n",
              "        <path d=\"M19 3H5c-1.1 0-2 .9-2 2v14c0 1.1.9 2 2 2h14c1.1 0 2-.9 2-2V5c0-1.1-.9-2-2-2zM9 17H7v-7h2v7zm4 0h-2V7h2v10zm4 0h-2v-4h2v4z\"/>\n",
              "    </g>\n",
              "</svg>\n",
              "  </button>\n",
              "\n",
              "<style>\n",
              "  .colab-df-quickchart {\n",
              "      --bg-color: #E8F0FE;\n",
              "      --fill-color: #1967D2;\n",
              "      --hover-bg-color: #E2EBFA;\n",
              "      --hover-fill-color: #174EA6;\n",
              "      --disabled-fill-color: #AAA;\n",
              "      --disabled-bg-color: #DDD;\n",
              "  }\n",
              "\n",
              "  [theme=dark] .colab-df-quickchart {\n",
              "      --bg-color: #3B4455;\n",
              "      --fill-color: #D2E3FC;\n",
              "      --hover-bg-color: #434B5C;\n",
              "      --hover-fill-color: #FFFFFF;\n",
              "      --disabled-bg-color: #3B4455;\n",
              "      --disabled-fill-color: #666;\n",
              "  }\n",
              "\n",
              "  .colab-df-quickchart {\n",
              "    background-color: var(--bg-color);\n",
              "    border: none;\n",
              "    border-radius: 50%;\n",
              "    cursor: pointer;\n",
              "    display: none;\n",
              "    fill: var(--fill-color);\n",
              "    height: 32px;\n",
              "    padding: 0;\n",
              "    width: 32px;\n",
              "  }\n",
              "\n",
              "  .colab-df-quickchart:hover {\n",
              "    background-color: var(--hover-bg-color);\n",
              "    box-shadow: 0 1px 2px rgba(60, 64, 67, 0.3), 0 1px 3px 1px rgba(60, 64, 67, 0.15);\n",
              "    fill: var(--button-hover-fill-color);\n",
              "  }\n",
              "\n",
              "  .colab-df-quickchart-complete:disabled,\n",
              "  .colab-df-quickchart-complete:disabled:hover {\n",
              "    background-color: var(--disabled-bg-color);\n",
              "    fill: var(--disabled-fill-color);\n",
              "    box-shadow: none;\n",
              "  }\n",
              "\n",
              "  .colab-df-spinner {\n",
              "    border: 2px solid var(--fill-color);\n",
              "    border-color: transparent;\n",
              "    border-bottom-color: var(--fill-color);\n",
              "    animation:\n",
              "      spin 1s steps(1) infinite;\n",
              "  }\n",
              "\n",
              "  @keyframes spin {\n",
              "    0% {\n",
              "      border-color: transparent;\n",
              "      border-bottom-color: var(--fill-color);\n",
              "      border-left-color: var(--fill-color);\n",
              "    }\n",
              "    20% {\n",
              "      border-color: transparent;\n",
              "      border-left-color: var(--fill-color);\n",
              "      border-top-color: var(--fill-color);\n",
              "    }\n",
              "    30% {\n",
              "      border-color: transparent;\n",
              "      border-left-color: var(--fill-color);\n",
              "      border-top-color: var(--fill-color);\n",
              "      border-right-color: var(--fill-color);\n",
              "    }\n",
              "    40% {\n",
              "      border-color: transparent;\n",
              "      border-right-color: var(--fill-color);\n",
              "      border-top-color: var(--fill-color);\n",
              "    }\n",
              "    60% {\n",
              "      border-color: transparent;\n",
              "      border-right-color: var(--fill-color);\n",
              "    }\n",
              "    80% {\n",
              "      border-color: transparent;\n",
              "      border-right-color: var(--fill-color);\n",
              "      border-bottom-color: var(--fill-color);\n",
              "    }\n",
              "    90% {\n",
              "      border-color: transparent;\n",
              "      border-bottom-color: var(--fill-color);\n",
              "    }\n",
              "  }\n",
              "</style>\n",
              "\n",
              "  <script>\n",
              "    async function quickchart(key) {\n",
              "      const quickchartButtonEl =\n",
              "        document.querySelector('#' + key + ' button');\n",
              "      quickchartButtonEl.disabled = true;  // To prevent multiple clicks.\n",
              "      quickchartButtonEl.classList.add('colab-df-spinner');\n",
              "      try {\n",
              "        const charts = await google.colab.kernel.invokeFunction(\n",
              "            'suggestCharts', [key], {});\n",
              "      } catch (error) {\n",
              "        console.error('Error during call to suggestCharts:', error);\n",
              "      }\n",
              "      quickchartButtonEl.classList.remove('colab-df-spinner');\n",
              "      quickchartButtonEl.classList.add('colab-df-quickchart-complete');\n",
              "    }\n",
              "    (() => {\n",
              "      let quickchartButtonEl =\n",
              "        document.querySelector('#df-9e2d0637-7579-4b9b-bb34-aa136b174bbb button');\n",
              "      quickchartButtonEl.style.display =\n",
              "        google.colab.kernel.accessAllowed ? 'block' : 'none';\n",
              "    })();\n",
              "  </script>\n",
              "</div>\n",
              "    </div>\n",
              "  </div>\n"
            ]
          },
          "metadata": {},
          "execution_count": 171
        }
      ]
    },
    {
      "cell_type": "code",
      "execution_count": null,
      "metadata": {
        "id": "jPxCLXO7JcNa"
      },
      "outputs": [],
      "source": [
        "pred_df.to_csv('PredP3alphaMax.csv',index=False)"
      ]
    },
    {
      "cell_type": "markdown",
      "metadata": {
        "id": "QufgDQ_qJcNa"
      },
      "source": [
        "# Example to test code"
      ]
    },
    {
      "cell_type": "code",
      "execution_count": null,
      "metadata": {
        "id": "ZimujkNjJcNb",
        "outputId": "6becdd98-c65b-4037-8625-a5a4168973be"
      },
      "outputs": [
        {
          "name": "stdout",
          "output_type": "stream",
          "text": [
            "Original URM_train:\n",
            "[[1. 2. 0.]\n",
            " [0. 1. 0.]\n",
            " [2. 0. 1.]]\n",
            "\n",
            "Normalized Pui:\n",
            "[[0.33333334 0.6666667  0.        ]\n",
            " [0.         1.         0.        ]\n",
            " [0.6666667  0.         0.33333334]]\n"
          ]
        }
      ],
      "source": [
        "import numpy as np\n",
        "from scipy.sparse import csr_matrix\n",
        "from sklearn.preprocessing import normalize\n",
        "\n",
        "# Example User-Item Interaction Matrix\n",
        "URM_train = csr_matrix([[1, 2, 0], [0, 1, 0], [2, 0, 1]], dtype=np.float32)\n",
        "\n",
        "# Normalize along axis 1 (row-wise) with L1 norm\n",
        "Pui = normalize(URM_train, norm='l1', axis=1)\n",
        "\n",
        "print(\"Original URM_train:\")\n",
        "print(URM_train.toarray())\n",
        "print(\"\\nNormalized Pui:\")\n",
        "print(Pui.toarray())"
      ]
    },
    {
      "cell_type": "code",
      "execution_count": null,
      "metadata": {
        "id": "XwPyUezPJcNb",
        "outputId": "09f3b736-77c6-49dc-f353-71e4070d7bc9"
      },
      "outputs": [
        {
          "name": "stdout",
          "output_type": "stream",
          "text": [
            "Original URM_train:\n",
            "[[1. 2. 0.]\n",
            " [0. 1. 0.]\n",
            " [2. 0. 1.]]\n",
            "\n",
            "Transposed and Boolean X_bool:\n",
            "[[1. 0. 1.]\n",
            " [1. 1. 0.]\n",
            " [0. 0. 1.]]\n",
            "\n",
            "Normalized Piu:\n",
            "[[0.5 0.  0.5]\n",
            " [0.5 0.5 0. ]\n",
            " [0.  0.  1. ]]\n"
          ]
        }
      ],
      "source": [
        "# Transpose URM_train and set non-zero values to 1 (boolean)\n",
        "X_bool = URM_train.transpose(copy=True)\n",
        "X_bool.data = np.ones(X_bool.data.size, np.float32)\n",
        "\n",
        "# Normalize along axis 1 (column-wise) with L1 norm\n",
        "Piu = normalize(X_bool, norm='l1', axis=1)\n",
        "\n",
        "print(\"Original URM_train:\")\n",
        "print(URM_train.toarray())\n",
        "print(\"\\nTransposed and Boolean X_bool:\")\n",
        "print(X_bool.toarray())\n",
        "print(\"\\nNormalized Piu:\")\n",
        "print(Piu.toarray())\n"
      ]
    },
    {
      "cell_type": "code",
      "execution_count": null,
      "metadata": {
        "id": "tIN2_ZwjJcNc",
        "outputId": "5dbc359c-2358-4eeb-ad39-236d5397a1eb"
      },
      "outputs": [
        {
          "name": "stdout",
          "output_type": "stream",
          "text": [
            "P3alphaRecommender: Similarity column 3 (100.0%), 2966.27 column/sec. Elapsed time 0.00 sec\n"
          ]
        }
      ],
      "source": [
        "# Create an instance of the P3alphaRecommender class\n",
        "p3alpha_recommender = P3alphaRecommender(URM_train)\n",
        "\n",
        "# Fit the recommender (you can customize the fit parameters if needed)\n",
        "p3alpha_recommender.fit(topK=3, alpha=1.0, min_rating=0, implicit=False, normalize_similarity=False)"
      ]
    },
    {
      "cell_type": "code",
      "execution_count": null,
      "metadata": {
        "id": "S-fP39KgJcNd",
        "outputId": "8aca9274-5704-40e6-af5d-fc83b5f18b35"
      },
      "outputs": [
        {
          "data": {
            "text/plain": [
              "array([[0.        , 0.33333334, 0.16666667],\n",
              "       [0.16666667, 0.        , 0.        ],\n",
              "       [0.6666667 , 0.        , 0.        ]], dtype=float32)"
            ]
          },
          "execution_count": 116,
          "metadata": {},
          "output_type": "execute_result"
        }
      ],
      "source": [
        "p3alpha_recommender.W_sparse.toarray()"
      ]
    },
    {
      "cell_type": "markdown",
      "metadata": {
        "id": "OtUe-C5OJcNe"
      },
      "source": [
        "As you can see the matrix is not symmetic.\n",
        "\n",
        "To get the recommendations we need to multiply Pui and W_sparse, obtaining:"
      ]
    },
    {
      "cell_type": "code",
      "execution_count": null,
      "metadata": {
        "id": "3Nl0lgUrJcNf",
        "outputId": "ca7b3f0a-55b2-4943-f338-7b5ecfd2ab5a"
      },
      "outputs": [
        {
          "data": {
            "text/plain": [
              "array([[0.11111112, 0.11111112, 0.05555556],\n",
              "       [0.16666667, 0.        , 0.        ],\n",
              "       [0.22222224, 0.22222224, 0.11111112]], dtype=float32)"
            ]
          },
          "execution_count": 117,
          "metadata": {},
          "output_type": "execute_result"
        }
      ],
      "source": [
        "recommender_matrix = Pui*p3alpha_recommender.W_sparse\n",
        "recommender_matrix.toarray()"
      ]
    },
    {
      "cell_type": "markdown",
      "metadata": {
        "id": "B38JDbwkJcNf"
      },
      "source": [
        "For user 1 we will recommend items 1 and 2 and then 3."
      ]
    },
    {
      "cell_type": "markdown",
      "metadata": {
        "id": "2k50_8WkJcNg"
      },
      "source": [
        "Now we need to make the predictions"
      ]
    },
    {
      "cell_type": "code",
      "execution_count": null,
      "metadata": {
        "id": "CDm9RRaTJcNg",
        "outputId": "dc5424b6-1e64-44e5-bb7a-ce935dd1cb37"
      },
      "outputs": [
        {
          "name": "stdout",
          "output_type": "stream",
          "text": [
            "[517, 189, 44, 0, 284, 808, 285, 1, 557, 1266]\n"
          ]
        }
      ],
      "source": [
        "# user_id = 0\n",
        "print( p3alpha_recommender.recommend((0)) )"
      ]
    },
    {
      "cell_type": "code",
      "execution_count": null,
      "metadata": {
        "id": "WpJbcQgcJcNh",
        "outputId": "ed70da78-1e9d-4421-e65d-551482f26049"
      },
      "outputs": [
        {
          "name": "stdout",
          "output_type": "stream",
          "text": [
            "[517, 189, 44, 0, 284, 808, 285, 1, 557, 1266]\n",
            "[0, 517, 189, 44, 0, 284, 808, 285, 1, 557]\n",
            "[517, 189, 44, 0, 284, 808, 285, 1, 557, 1266]\n",
            "[517, 189, 44, 0, 284, 808, 285, 1, 557, 1266]\n"
          ]
        }
      ],
      "source": [
        "for user_id in range(4):\n",
        "  recommendations = p3alpha_recommender.recommend(user_id)\n",
        "  print(recommendations)\n"
      ]
    }
  ],
  "metadata": {
    "kernelspec": {
      "display_name": "RecSysFramework",
      "language": "python",
      "name": "python3"
    },
    "language_info": {
      "codemirror_mode": {
        "name": "ipython",
        "version": 3
      },
      "file_extension": ".py",
      "mimetype": "text/x-python",
      "name": "python",
      "nbconvert_exporter": "python",
      "pygments_lexer": "ipython3",
      "version": "3.8.18"
    },
    "colab": {
      "provenance": []
    }
  },
  "nbformat": 4,
  "nbformat_minor": 0
}