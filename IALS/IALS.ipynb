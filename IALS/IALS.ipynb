{
  "cells": [
    {
      "cell_type": "code",
      "execution_count": 1,
      "metadata": {
        "id": "2eiAjBGHEEAr"
      },
      "outputs": [],
      "source": [
        "import time\n",
        "import pandas as pd\n",
        "import numpy as np\n",
        "import scipy.sparse as sps\n",
        "import random as rnd\n",
        "\n",
        "from scipy.sparse import *"
      ]
    },
    {
      "cell_type": "code",
      "execution_count": 2,
      "metadata": {
        "id": "EWFy_hB_t0dL"
      },
      "outputs": [],
      "source": [
        "urm_path = '../content/data_train.csv'\n",
        "urm_all_df = pd.read_csv(filepath_or_buffer=urm_path,\n",
        "                                sep=\",\",\n",
        "                                header=0,\n",
        "                                dtype={0:int, 1:int, 2:float},\n",
        "                                engine='python')\n",
        "\n",
        "urm_all_df.columns = [\"UserID\", \"ItemID\", \"Interaction\"]"
      ]
    },
    {
      "cell_type": "code",
      "execution_count": 3,
      "metadata": {
        "colab": {
          "base_uri": "https://localhost:8080/",
          "height": 363
        },
        "id": "WxzLPQhzt6nz",
        "outputId": "e15fa97c-f72c-4f9b-a959-cb9560b9b448"
      },
      "outputs": [
        {
          "output_type": "execute_result",
          "data": {
            "text/plain": [
              "   UserID  ItemID  Interaction\n",
              "0       1       7          1.0\n",
              "1       1      15          1.0\n",
              "2       1      16          1.0\n",
              "3       1     133          1.0\n",
              "4       1     161          1.0\n",
              "5       1     187          1.0\n",
              "6       1     205          1.0\n",
              "7       1     222          1.0\n",
              "8       1     237          1.0\n",
              "9       1     354          1.0"
            ],
            "text/html": [
              "\n",
              "  <div id=\"df-3729236e-6f93-42dc-96ea-ce8460af184c\" class=\"colab-df-container\">\n",
              "    <div>\n",
              "<style scoped>\n",
              "    .dataframe tbody tr th:only-of-type {\n",
              "        vertical-align: middle;\n",
              "    }\n",
              "\n",
              "    .dataframe tbody tr th {\n",
              "        vertical-align: top;\n",
              "    }\n",
              "\n",
              "    .dataframe thead th {\n",
              "        text-align: right;\n",
              "    }\n",
              "</style>\n",
              "<table border=\"1\" class=\"dataframe\">\n",
              "  <thead>\n",
              "    <tr style=\"text-align: right;\">\n",
              "      <th></th>\n",
              "      <th>UserID</th>\n",
              "      <th>ItemID</th>\n",
              "      <th>Interaction</th>\n",
              "    </tr>\n",
              "  </thead>\n",
              "  <tbody>\n",
              "    <tr>\n",
              "      <th>0</th>\n",
              "      <td>1</td>\n",
              "      <td>7</td>\n",
              "      <td>1.0</td>\n",
              "    </tr>\n",
              "    <tr>\n",
              "      <th>1</th>\n",
              "      <td>1</td>\n",
              "      <td>15</td>\n",
              "      <td>1.0</td>\n",
              "    </tr>\n",
              "    <tr>\n",
              "      <th>2</th>\n",
              "      <td>1</td>\n",
              "      <td>16</td>\n",
              "      <td>1.0</td>\n",
              "    </tr>\n",
              "    <tr>\n",
              "      <th>3</th>\n",
              "      <td>1</td>\n",
              "      <td>133</td>\n",
              "      <td>1.0</td>\n",
              "    </tr>\n",
              "    <tr>\n",
              "      <th>4</th>\n",
              "      <td>1</td>\n",
              "      <td>161</td>\n",
              "      <td>1.0</td>\n",
              "    </tr>\n",
              "    <tr>\n",
              "      <th>5</th>\n",
              "      <td>1</td>\n",
              "      <td>187</td>\n",
              "      <td>1.0</td>\n",
              "    </tr>\n",
              "    <tr>\n",
              "      <th>6</th>\n",
              "      <td>1</td>\n",
              "      <td>205</td>\n",
              "      <td>1.0</td>\n",
              "    </tr>\n",
              "    <tr>\n",
              "      <th>7</th>\n",
              "      <td>1</td>\n",
              "      <td>222</td>\n",
              "      <td>1.0</td>\n",
              "    </tr>\n",
              "    <tr>\n",
              "      <th>8</th>\n",
              "      <td>1</td>\n",
              "      <td>237</td>\n",
              "      <td>1.0</td>\n",
              "    </tr>\n",
              "    <tr>\n",
              "      <th>9</th>\n",
              "      <td>1</td>\n",
              "      <td>354</td>\n",
              "      <td>1.0</td>\n",
              "    </tr>\n",
              "  </tbody>\n",
              "</table>\n",
              "</div>\n",
              "    <div class=\"colab-df-buttons\">\n",
              "\n",
              "  <div class=\"colab-df-container\">\n",
              "    <button class=\"colab-df-convert\" onclick=\"convertToInteractive('df-3729236e-6f93-42dc-96ea-ce8460af184c')\"\n",
              "            title=\"Convert this dataframe to an interactive table.\"\n",
              "            style=\"display:none;\">\n",
              "\n",
              "  <svg xmlns=\"http://www.w3.org/2000/svg\" height=\"24px\" viewBox=\"0 -960 960 960\">\n",
              "    <path d=\"M120-120v-720h720v720H120Zm60-500h600v-160H180v160Zm220 220h160v-160H400v160Zm0 220h160v-160H400v160ZM180-400h160v-160H180v160Zm440 0h160v-160H620v160ZM180-180h160v-160H180v160Zm440 0h160v-160H620v160Z\"/>\n",
              "  </svg>\n",
              "    </button>\n",
              "\n",
              "  <style>\n",
              "    .colab-df-container {\n",
              "      display:flex;\n",
              "      gap: 12px;\n",
              "    }\n",
              "\n",
              "    .colab-df-convert {\n",
              "      background-color: #E8F0FE;\n",
              "      border: none;\n",
              "      border-radius: 50%;\n",
              "      cursor: pointer;\n",
              "      display: none;\n",
              "      fill: #1967D2;\n",
              "      height: 32px;\n",
              "      padding: 0 0 0 0;\n",
              "      width: 32px;\n",
              "    }\n",
              "\n",
              "    .colab-df-convert:hover {\n",
              "      background-color: #E2EBFA;\n",
              "      box-shadow: 0px 1px 2px rgba(60, 64, 67, 0.3), 0px 1px 3px 1px rgba(60, 64, 67, 0.15);\n",
              "      fill: #174EA6;\n",
              "    }\n",
              "\n",
              "    .colab-df-buttons div {\n",
              "      margin-bottom: 4px;\n",
              "    }\n",
              "\n",
              "    [theme=dark] .colab-df-convert {\n",
              "      background-color: #3B4455;\n",
              "      fill: #D2E3FC;\n",
              "    }\n",
              "\n",
              "    [theme=dark] .colab-df-convert:hover {\n",
              "      background-color: #434B5C;\n",
              "      box-shadow: 0px 1px 3px 1px rgba(0, 0, 0, 0.15);\n",
              "      filter: drop-shadow(0px 1px 2px rgba(0, 0, 0, 0.3));\n",
              "      fill: #FFFFFF;\n",
              "    }\n",
              "  </style>\n",
              "\n",
              "    <script>\n",
              "      const buttonEl =\n",
              "        document.querySelector('#df-3729236e-6f93-42dc-96ea-ce8460af184c button.colab-df-convert');\n",
              "      buttonEl.style.display =\n",
              "        google.colab.kernel.accessAllowed ? 'block' : 'none';\n",
              "\n",
              "      async function convertToInteractive(key) {\n",
              "        const element = document.querySelector('#df-3729236e-6f93-42dc-96ea-ce8460af184c');\n",
              "        const dataTable =\n",
              "          await google.colab.kernel.invokeFunction('convertToInteractive',\n",
              "                                                    [key], {});\n",
              "        if (!dataTable) return;\n",
              "\n",
              "        const docLinkHtml = 'Like what you see? Visit the ' +\n",
              "          '<a target=\"_blank\" href=https://colab.research.google.com/notebooks/data_table.ipynb>data table notebook</a>'\n",
              "          + ' to learn more about interactive tables.';\n",
              "        element.innerHTML = '';\n",
              "        dataTable['output_type'] = 'display_data';\n",
              "        await google.colab.output.renderOutput(dataTable, element);\n",
              "        const docLink = document.createElement('div');\n",
              "        docLink.innerHTML = docLinkHtml;\n",
              "        element.appendChild(docLink);\n",
              "      }\n",
              "    </script>\n",
              "  </div>\n",
              "\n",
              "\n",
              "<div id=\"df-16926242-a81f-4d43-98ea-ed9a4c4435c7\">\n",
              "  <button class=\"colab-df-quickchart\" onclick=\"quickchart('df-16926242-a81f-4d43-98ea-ed9a4c4435c7')\"\n",
              "            title=\"Suggest charts\"\n",
              "            style=\"display:none;\">\n",
              "\n",
              "<svg xmlns=\"http://www.w3.org/2000/svg\" height=\"24px\"viewBox=\"0 0 24 24\"\n",
              "     width=\"24px\">\n",
              "    <g>\n",
              "        <path d=\"M19 3H5c-1.1 0-2 .9-2 2v14c0 1.1.9 2 2 2h14c1.1 0 2-.9 2-2V5c0-1.1-.9-2-2-2zM9 17H7v-7h2v7zm4 0h-2V7h2v10zm4 0h-2v-4h2v4z\"/>\n",
              "    </g>\n",
              "</svg>\n",
              "  </button>\n",
              "\n",
              "<style>\n",
              "  .colab-df-quickchart {\n",
              "      --bg-color: #E8F0FE;\n",
              "      --fill-color: #1967D2;\n",
              "      --hover-bg-color: #E2EBFA;\n",
              "      --hover-fill-color: #174EA6;\n",
              "      --disabled-fill-color: #AAA;\n",
              "      --disabled-bg-color: #DDD;\n",
              "  }\n",
              "\n",
              "  [theme=dark] .colab-df-quickchart {\n",
              "      --bg-color: #3B4455;\n",
              "      --fill-color: #D2E3FC;\n",
              "      --hover-bg-color: #434B5C;\n",
              "      --hover-fill-color: #FFFFFF;\n",
              "      --disabled-bg-color: #3B4455;\n",
              "      --disabled-fill-color: #666;\n",
              "  }\n",
              "\n",
              "  .colab-df-quickchart {\n",
              "    background-color: var(--bg-color);\n",
              "    border: none;\n",
              "    border-radius: 50%;\n",
              "    cursor: pointer;\n",
              "    display: none;\n",
              "    fill: var(--fill-color);\n",
              "    height: 32px;\n",
              "    padding: 0;\n",
              "    width: 32px;\n",
              "  }\n",
              "\n",
              "  .colab-df-quickchart:hover {\n",
              "    background-color: var(--hover-bg-color);\n",
              "    box-shadow: 0 1px 2px rgba(60, 64, 67, 0.3), 0 1px 3px 1px rgba(60, 64, 67, 0.15);\n",
              "    fill: var(--button-hover-fill-color);\n",
              "  }\n",
              "\n",
              "  .colab-df-quickchart-complete:disabled,\n",
              "  .colab-df-quickchart-complete:disabled:hover {\n",
              "    background-color: var(--disabled-bg-color);\n",
              "    fill: var(--disabled-fill-color);\n",
              "    box-shadow: none;\n",
              "  }\n",
              "\n",
              "  .colab-df-spinner {\n",
              "    border: 2px solid var(--fill-color);\n",
              "    border-color: transparent;\n",
              "    border-bottom-color: var(--fill-color);\n",
              "    animation:\n",
              "      spin 1s steps(1) infinite;\n",
              "  }\n",
              "\n",
              "  @keyframes spin {\n",
              "    0% {\n",
              "      border-color: transparent;\n",
              "      border-bottom-color: var(--fill-color);\n",
              "      border-left-color: var(--fill-color);\n",
              "    }\n",
              "    20% {\n",
              "      border-color: transparent;\n",
              "      border-left-color: var(--fill-color);\n",
              "      border-top-color: var(--fill-color);\n",
              "    }\n",
              "    30% {\n",
              "      border-color: transparent;\n",
              "      border-left-color: var(--fill-color);\n",
              "      border-top-color: var(--fill-color);\n",
              "      border-right-color: var(--fill-color);\n",
              "    }\n",
              "    40% {\n",
              "      border-color: transparent;\n",
              "      border-right-color: var(--fill-color);\n",
              "      border-top-color: var(--fill-color);\n",
              "    }\n",
              "    60% {\n",
              "      border-color: transparent;\n",
              "      border-right-color: var(--fill-color);\n",
              "    }\n",
              "    80% {\n",
              "      border-color: transparent;\n",
              "      border-right-color: var(--fill-color);\n",
              "      border-bottom-color: var(--fill-color);\n",
              "    }\n",
              "    90% {\n",
              "      border-color: transparent;\n",
              "      border-bottom-color: var(--fill-color);\n",
              "    }\n",
              "  }\n",
              "</style>\n",
              "\n",
              "  <script>\n",
              "    async function quickchart(key) {\n",
              "      const quickchartButtonEl =\n",
              "        document.querySelector('#' + key + ' button');\n",
              "      quickchartButtonEl.disabled = true;  // To prevent multiple clicks.\n",
              "      quickchartButtonEl.classList.add('colab-df-spinner');\n",
              "      try {\n",
              "        const charts = await google.colab.kernel.invokeFunction(\n",
              "            'suggestCharts', [key], {});\n",
              "      } catch (error) {\n",
              "        console.error('Error during call to suggestCharts:', error);\n",
              "      }\n",
              "      quickchartButtonEl.classList.remove('colab-df-spinner');\n",
              "      quickchartButtonEl.classList.add('colab-df-quickchart-complete');\n",
              "    }\n",
              "    (() => {\n",
              "      let quickchartButtonEl =\n",
              "        document.querySelector('#df-16926242-a81f-4d43-98ea-ed9a4c4435c7 button');\n",
              "      quickchartButtonEl.style.display =\n",
              "        google.colab.kernel.accessAllowed ? 'block' : 'none';\n",
              "    })();\n",
              "  </script>\n",
              "</div>\n",
              "    </div>\n",
              "  </div>\n"
            ]
          },
          "metadata": {},
          "execution_count": 3
        }
      ],
      "source": [
        "urm_all_df.head(10)"
      ]
    },
    {
      "cell_type": "code",
      "execution_count": 4,
      "metadata": {
        "colab": {
          "base_uri": "https://localhost:8080/"
        },
        "id": "TPQU5xPQt93i",
        "outputId": "25d57782-6d4e-44b7-9e09-523d2f81c8d8"
      },
      "outputs": [
        {
          "output_type": "stream",
          "name": "stdout",
          "text": [
            "The number of interactions is 478730\n"
          ]
        }
      ],
      "source": [
        "print (\"The number of interactions is {}\".format(len(urm_all_df)))"
      ]
    },
    {
      "cell_type": "code",
      "execution_count": 5,
      "metadata": {
        "colab": {
          "base_uri": "https://localhost:8080/"
        },
        "id": "4azG15R5t__C",
        "outputId": "1bae2de3-d665-4ece-ece7-9fd7a1bfc1c1"
      },
      "outputs": [
        {
          "output_type": "stream",
          "name": "stdout",
          "text": [
            "Number of items\t 22222, Number of users\t 12638\n",
            "Max ID items\t 22347, Max Id users\t 13024\n",
            "\n",
            "Average interactions per user 37.88\n",
            "Average interactions per item 21.54\n",
            "\n",
            "Sparsity 99.83 %\n"
          ]
        }
      ],
      "source": [
        "userID_unique = urm_all_df[\"UserID\"].unique()\n",
        "itemID_unique = urm_all_df[\"ItemID\"].unique()\n",
        "\n",
        "n_users = len(userID_unique)\n",
        "n_items = len(itemID_unique)\n",
        "n_interactions = len(urm_all_df)\n",
        "\n",
        "print (\"Number of items\\t {}, Number of users\\t {}\".format(n_items, n_users))\n",
        "print (\"Max ID items\\t {}, Max Id users\\t {}\\n\".format(max(itemID_unique), max(userID_unique)))\n",
        "print (\"Average interactions per user {:.2f}\".format(n_interactions/n_users))\n",
        "print (\"Average interactions per item {:.2f}\\n\".format(n_interactions/n_items))\n",
        "\n",
        "print (\"Sparsity {:.2f} %\".format((1-float(n_interactions)/(n_items*n_users))*100))"
      ]
    },
    {
      "cell_type": "markdown",
      "metadata": {
        "id": "8_x6IomTtX6Z"
      },
      "source": [
        "# Remove empty profiles"
      ]
    },
    {
      "cell_type": "code",
      "execution_count": 6,
      "metadata": {
        "colab": {
          "base_uri": "https://localhost:8080/",
          "height": 380
        },
        "id": "eyAqbK_5rDuy",
        "outputId": "bef1905c-f759-49d4-c2dd-1e9a828545a4"
      },
      "outputs": [
        {
          "output_type": "stream",
          "name": "stdout",
          "text": [
            "New index for item 125 is 93\n"
          ]
        },
        {
          "output_type": "execute_result",
          "data": {
            "text/plain": [
              "   UserID  ItemID  Interaction\n",
              "0       0       0          1.0\n",
              "1       0       1          1.0\n",
              "2       0       2          1.0\n",
              "3       0       3          1.0\n",
              "4       0       4          1.0\n",
              "5       0       5          1.0\n",
              "6       0       6          1.0\n",
              "7       0       7          1.0\n",
              "8       0       8          1.0\n",
              "9       0       9          1.0"
            ],
            "text/html": [
              "\n",
              "  <div id=\"df-f32d11cb-ca17-4a53-ac94-ea9ff3ff6b91\" class=\"colab-df-container\">\n",
              "    <div>\n",
              "<style scoped>\n",
              "    .dataframe tbody tr th:only-of-type {\n",
              "        vertical-align: middle;\n",
              "    }\n",
              "\n",
              "    .dataframe tbody tr th {\n",
              "        vertical-align: top;\n",
              "    }\n",
              "\n",
              "    .dataframe thead th {\n",
              "        text-align: right;\n",
              "    }\n",
              "</style>\n",
              "<table border=\"1\" class=\"dataframe\">\n",
              "  <thead>\n",
              "    <tr style=\"text-align: right;\">\n",
              "      <th></th>\n",
              "      <th>UserID</th>\n",
              "      <th>ItemID</th>\n",
              "      <th>Interaction</th>\n",
              "    </tr>\n",
              "  </thead>\n",
              "  <tbody>\n",
              "    <tr>\n",
              "      <th>0</th>\n",
              "      <td>0</td>\n",
              "      <td>0</td>\n",
              "      <td>1.0</td>\n",
              "    </tr>\n",
              "    <tr>\n",
              "      <th>1</th>\n",
              "      <td>0</td>\n",
              "      <td>1</td>\n",
              "      <td>1.0</td>\n",
              "    </tr>\n",
              "    <tr>\n",
              "      <th>2</th>\n",
              "      <td>0</td>\n",
              "      <td>2</td>\n",
              "      <td>1.0</td>\n",
              "    </tr>\n",
              "    <tr>\n",
              "      <th>3</th>\n",
              "      <td>0</td>\n",
              "      <td>3</td>\n",
              "      <td>1.0</td>\n",
              "    </tr>\n",
              "    <tr>\n",
              "      <th>4</th>\n",
              "      <td>0</td>\n",
              "      <td>4</td>\n",
              "      <td>1.0</td>\n",
              "    </tr>\n",
              "    <tr>\n",
              "      <th>5</th>\n",
              "      <td>0</td>\n",
              "      <td>5</td>\n",
              "      <td>1.0</td>\n",
              "    </tr>\n",
              "    <tr>\n",
              "      <th>6</th>\n",
              "      <td>0</td>\n",
              "      <td>6</td>\n",
              "      <td>1.0</td>\n",
              "    </tr>\n",
              "    <tr>\n",
              "      <th>7</th>\n",
              "      <td>0</td>\n",
              "      <td>7</td>\n",
              "      <td>1.0</td>\n",
              "    </tr>\n",
              "    <tr>\n",
              "      <th>8</th>\n",
              "      <td>0</td>\n",
              "      <td>8</td>\n",
              "      <td>1.0</td>\n",
              "    </tr>\n",
              "    <tr>\n",
              "      <th>9</th>\n",
              "      <td>0</td>\n",
              "      <td>9</td>\n",
              "      <td>1.0</td>\n",
              "    </tr>\n",
              "  </tbody>\n",
              "</table>\n",
              "</div>\n",
              "    <div class=\"colab-df-buttons\">\n",
              "\n",
              "  <div class=\"colab-df-container\">\n",
              "    <button class=\"colab-df-convert\" onclick=\"convertToInteractive('df-f32d11cb-ca17-4a53-ac94-ea9ff3ff6b91')\"\n",
              "            title=\"Convert this dataframe to an interactive table.\"\n",
              "            style=\"display:none;\">\n",
              "\n",
              "  <svg xmlns=\"http://www.w3.org/2000/svg\" height=\"24px\" viewBox=\"0 -960 960 960\">\n",
              "    <path d=\"M120-120v-720h720v720H120Zm60-500h600v-160H180v160Zm220 220h160v-160H400v160Zm0 220h160v-160H400v160ZM180-400h160v-160H180v160Zm440 0h160v-160H620v160ZM180-180h160v-160H180v160Zm440 0h160v-160H620v160Z\"/>\n",
              "  </svg>\n",
              "    </button>\n",
              "\n",
              "  <style>\n",
              "    .colab-df-container {\n",
              "      display:flex;\n",
              "      gap: 12px;\n",
              "    }\n",
              "\n",
              "    .colab-df-convert {\n",
              "      background-color: #E8F0FE;\n",
              "      border: none;\n",
              "      border-radius: 50%;\n",
              "      cursor: pointer;\n",
              "      display: none;\n",
              "      fill: #1967D2;\n",
              "      height: 32px;\n",
              "      padding: 0 0 0 0;\n",
              "      width: 32px;\n",
              "    }\n",
              "\n",
              "    .colab-df-convert:hover {\n",
              "      background-color: #E2EBFA;\n",
              "      box-shadow: 0px 1px 2px rgba(60, 64, 67, 0.3), 0px 1px 3px 1px rgba(60, 64, 67, 0.15);\n",
              "      fill: #174EA6;\n",
              "    }\n",
              "\n",
              "    .colab-df-buttons div {\n",
              "      margin-bottom: 4px;\n",
              "    }\n",
              "\n",
              "    [theme=dark] .colab-df-convert {\n",
              "      background-color: #3B4455;\n",
              "      fill: #D2E3FC;\n",
              "    }\n",
              "\n",
              "    [theme=dark] .colab-df-convert:hover {\n",
              "      background-color: #434B5C;\n",
              "      box-shadow: 0px 1px 3px 1px rgba(0, 0, 0, 0.15);\n",
              "      filter: drop-shadow(0px 1px 2px rgba(0, 0, 0, 0.3));\n",
              "      fill: #FFFFFF;\n",
              "    }\n",
              "  </style>\n",
              "\n",
              "    <script>\n",
              "      const buttonEl =\n",
              "        document.querySelector('#df-f32d11cb-ca17-4a53-ac94-ea9ff3ff6b91 button.colab-df-convert');\n",
              "      buttonEl.style.display =\n",
              "        google.colab.kernel.accessAllowed ? 'block' : 'none';\n",
              "\n",
              "      async function convertToInteractive(key) {\n",
              "        const element = document.querySelector('#df-f32d11cb-ca17-4a53-ac94-ea9ff3ff6b91');\n",
              "        const dataTable =\n",
              "          await google.colab.kernel.invokeFunction('convertToInteractive',\n",
              "                                                    [key], {});\n",
              "        if (!dataTable) return;\n",
              "\n",
              "        const docLinkHtml = 'Like what you see? Visit the ' +\n",
              "          '<a target=\"_blank\" href=https://colab.research.google.com/notebooks/data_table.ipynb>data table notebook</a>'\n",
              "          + ' to learn more about interactive tables.';\n",
              "        element.innerHTML = '';\n",
              "        dataTable['output_type'] = 'display_data';\n",
              "        await google.colab.output.renderOutput(dataTable, element);\n",
              "        const docLink = document.createElement('div');\n",
              "        docLink.innerHTML = docLinkHtml;\n",
              "        element.appendChild(docLink);\n",
              "      }\n",
              "    </script>\n",
              "  </div>\n",
              "\n",
              "\n",
              "<div id=\"df-59dcd00b-93ea-4ee2-858b-1d3bcfef1a00\">\n",
              "  <button class=\"colab-df-quickchart\" onclick=\"quickchart('df-59dcd00b-93ea-4ee2-858b-1d3bcfef1a00')\"\n",
              "            title=\"Suggest charts\"\n",
              "            style=\"display:none;\">\n",
              "\n",
              "<svg xmlns=\"http://www.w3.org/2000/svg\" height=\"24px\"viewBox=\"0 0 24 24\"\n",
              "     width=\"24px\">\n",
              "    <g>\n",
              "        <path d=\"M19 3H5c-1.1 0-2 .9-2 2v14c0 1.1.9 2 2 2h14c1.1 0 2-.9 2-2V5c0-1.1-.9-2-2-2zM9 17H7v-7h2v7zm4 0h-2V7h2v10zm4 0h-2v-4h2v4z\"/>\n",
              "    </g>\n",
              "</svg>\n",
              "  </button>\n",
              "\n",
              "<style>\n",
              "  .colab-df-quickchart {\n",
              "      --bg-color: #E8F0FE;\n",
              "      --fill-color: #1967D2;\n",
              "      --hover-bg-color: #E2EBFA;\n",
              "      --hover-fill-color: #174EA6;\n",
              "      --disabled-fill-color: #AAA;\n",
              "      --disabled-bg-color: #DDD;\n",
              "  }\n",
              "\n",
              "  [theme=dark] .colab-df-quickchart {\n",
              "      --bg-color: #3B4455;\n",
              "      --fill-color: #D2E3FC;\n",
              "      --hover-bg-color: #434B5C;\n",
              "      --hover-fill-color: #FFFFFF;\n",
              "      --disabled-bg-color: #3B4455;\n",
              "      --disabled-fill-color: #666;\n",
              "  }\n",
              "\n",
              "  .colab-df-quickchart {\n",
              "    background-color: var(--bg-color);\n",
              "    border: none;\n",
              "    border-radius: 50%;\n",
              "    cursor: pointer;\n",
              "    display: none;\n",
              "    fill: var(--fill-color);\n",
              "    height: 32px;\n",
              "    padding: 0;\n",
              "    width: 32px;\n",
              "  }\n",
              "\n",
              "  .colab-df-quickchart:hover {\n",
              "    background-color: var(--hover-bg-color);\n",
              "    box-shadow: 0 1px 2px rgba(60, 64, 67, 0.3), 0 1px 3px 1px rgba(60, 64, 67, 0.15);\n",
              "    fill: var(--button-hover-fill-color);\n",
              "  }\n",
              "\n",
              "  .colab-df-quickchart-complete:disabled,\n",
              "  .colab-df-quickchart-complete:disabled:hover {\n",
              "    background-color: var(--disabled-bg-color);\n",
              "    fill: var(--disabled-fill-color);\n",
              "    box-shadow: none;\n",
              "  }\n",
              "\n",
              "  .colab-df-spinner {\n",
              "    border: 2px solid var(--fill-color);\n",
              "    border-color: transparent;\n",
              "    border-bottom-color: var(--fill-color);\n",
              "    animation:\n",
              "      spin 1s steps(1) infinite;\n",
              "  }\n",
              "\n",
              "  @keyframes spin {\n",
              "    0% {\n",
              "      border-color: transparent;\n",
              "      border-bottom-color: var(--fill-color);\n",
              "      border-left-color: var(--fill-color);\n",
              "    }\n",
              "    20% {\n",
              "      border-color: transparent;\n",
              "      border-left-color: var(--fill-color);\n",
              "      border-top-color: var(--fill-color);\n",
              "    }\n",
              "    30% {\n",
              "      border-color: transparent;\n",
              "      border-left-color: var(--fill-color);\n",
              "      border-top-color: var(--fill-color);\n",
              "      border-right-color: var(--fill-color);\n",
              "    }\n",
              "    40% {\n",
              "      border-color: transparent;\n",
              "      border-right-color: var(--fill-color);\n",
              "      border-top-color: var(--fill-color);\n",
              "    }\n",
              "    60% {\n",
              "      border-color: transparent;\n",
              "      border-right-color: var(--fill-color);\n",
              "    }\n",
              "    80% {\n",
              "      border-color: transparent;\n",
              "      border-right-color: var(--fill-color);\n",
              "      border-bottom-color: var(--fill-color);\n",
              "    }\n",
              "    90% {\n",
              "      border-color: transparent;\n",
              "      border-bottom-color: var(--fill-color);\n",
              "    }\n",
              "  }\n",
              "</style>\n",
              "\n",
              "  <script>\n",
              "    async function quickchart(key) {\n",
              "      const quickchartButtonEl =\n",
              "        document.querySelector('#' + key + ' button');\n",
              "      quickchartButtonEl.disabled = true;  // To prevent multiple clicks.\n",
              "      quickchartButtonEl.classList.add('colab-df-spinner');\n",
              "      try {\n",
              "        const charts = await google.colab.kernel.invokeFunction(\n",
              "            'suggestCharts', [key], {});\n",
              "      } catch (error) {\n",
              "        console.error('Error during call to suggestCharts:', error);\n",
              "      }\n",
              "      quickchartButtonEl.classList.remove('colab-df-spinner');\n",
              "      quickchartButtonEl.classList.add('colab-df-quickchart-complete');\n",
              "    }\n",
              "    (() => {\n",
              "      let quickchartButtonEl =\n",
              "        document.querySelector('#df-59dcd00b-93ea-4ee2-858b-1d3bcfef1a00 button');\n",
              "      quickchartButtonEl.style.display =\n",
              "        google.colab.kernel.accessAllowed ? 'block' : 'none';\n",
              "    })();\n",
              "  </script>\n",
              "</div>\n",
              "    </div>\n",
              "  </div>\n"
            ]
          },
          "metadata": {},
          "execution_count": 6
        }
      ],
      "source": [
        "# Remove empty IDs\n",
        "mapped_id, original_id = pd.factorize(urm_all_df[\"UserID\"].unique())\n",
        "user_original_ID_to_index = pd.Series(mapped_id, index=original_id)\n",
        "\n",
        "mapped_id, original_id = pd.factorize(urm_all_df[\"ItemID\"].unique())\n",
        "item_original_ID_to_index = pd.Series(mapped_id, index=original_id)\n",
        "\n",
        "\n",
        "\n",
        "# Let's create the mapping from items indices to original item_ids\n",
        "item_index_to_original_ID = pd.Series(item_original_ID_to_index.index,index = item_original_ID_to_index.values)\n",
        "\n",
        "\n",
        "\n",
        "original_item_ID = 125\n",
        "print(\"New index for item {} is {}\".format(original_item_ID, item_original_ID_to_index[original_item_ID]))\n",
        "\n",
        "\n",
        "urm_all_df[\"UserID\"] = urm_all_df[\"UserID\"].map(user_original_ID_to_index)\n",
        "urm_all_df[\"ItemID\"] = urm_all_df[\"ItemID\"].map(item_original_ID_to_index)\n",
        "urm_all_df.head(n=10)"
      ]
    },
    {
      "cell_type": "code",
      "execution_count": 7,
      "metadata": {
        "colab": {
          "base_uri": "https://localhost:8080/"
        },
        "id": "mPQXwUWO0AuA",
        "outputId": "5648ed90-b195-404a-d2b6-6b5f00c7fabd"
      },
      "outputs": [
        {
          "output_type": "stream",
          "name": "stdout",
          "text": [
            "Number of items\t 22222, Number of users\t 12638\n",
            "Max ID items\t 22221, Max Id users\t 12637\n",
            "\n",
            "Average interactions per user 37.88\n",
            "Average interactions per item 21.54\n",
            "\n",
            "Sparsity 99.83 %\n"
          ]
        }
      ],
      "source": [
        "userID_unique = urm_all_df[\"UserID\"].unique()\n",
        "itemID_unique = urm_all_df[\"ItemID\"].unique()\n",
        "\n",
        "n_users = len(userID_unique)\n",
        "n_items = len(itemID_unique)\n",
        "n_interactions = len(urm_all_df)\n",
        "\n",
        "print (\"Number of items\\t {}, Number of users\\t {}\".format(n_items, n_users))\n",
        "print (\"Max ID items\\t {}, Max Id users\\t {}\\n\".format(max(itemID_unique), max(userID_unique)))\n",
        "print (\"Average interactions per user {:.2f}\".format(n_interactions/n_users))\n",
        "print (\"Average interactions per item {:.2f}\\n\".format(n_interactions/n_items))\n",
        "\n",
        "print (\"Sparsity {:.2f} %\".format((1-float(n_interactions)/(n_items*n_users))*100))"
      ]
    },
    {
      "cell_type": "code",
      "execution_count": 12,
      "metadata": {
        "colab": {
          "base_uri": "https://localhost:8080/"
        },
        "id": "iDMkHTc0uNoe",
        "outputId": "6f644820-2a1a-476c-ab7d-eb7b7a90e7dd"
      },
      "outputs": [
        {
          "output_type": "execute_result",
          "data": {
            "text/plain": [
              "<12638x22222 sparse matrix of type '<class 'numpy.float64'>'\n",
              "\twith 478730 stored elements in COOrdinate format>"
            ]
          },
          "metadata": {},
          "execution_count": 12
        }
      ],
      "source": [
        "urm_all = sps.coo_matrix((urm_all_df[\"Interaction\"].values,\n",
        "                          (urm_all_df[\"UserID\"].values, urm_all_df[\"ItemID\"].values)))\n",
        "\n",
        "urm_all"
      ]
    },
    {
      "cell_type": "code",
      "execution_count": null,
      "metadata": {
        "colab": {
          "base_uri": "https://localhost:8080/"
        },
        "id": "4HjbDoZeuSJw",
        "outputId": "c9ea4c81-1263-4dfe-c73b-4e76b69a39ab"
      },
      "outputs": [
        {
          "data": {
            "text/plain": [
              "<13025x22348 sparse matrix of type '<class 'numpy.float64'>'\n",
              "\twith 478730 stored elements in Compressed Sparse Row format>"
            ]
          },
          "execution_count": 7,
          "metadata": {},
          "output_type": "execute_result"
        }
      ],
      "source": [
        "urm_all = urm_all.tocsr()\n",
        "urm_all"
      ]
    },
    {
      "cell_type": "code",
      "execution_count": 13,
      "metadata": {
        "id": "uQfMlGmTuSXZ"
      },
      "outputs": [],
      "source": [
        "train_test_split = 0.80\n",
        "\n",
        "n_interactions = urm_all.nnz\n",
        "\n",
        "train_mask = np.random.choice([True,False], n_interactions, p=[train_test_split, 1-train_test_split])\n",
        "\n",
        "urm_train = sps.csr_matrix((urm_all.data[train_mask],\n",
        "                            (urm_all.row[train_mask], urm_all.col[train_mask])))\n",
        "\n",
        "val_mask = np.logical_not(train_mask)\n",
        "\n",
        "urm_val = sps.csr_matrix((urm_all.data[val_mask],\n",
        "                            (urm_all.row[val_mask], urm_all.col[val_mask])))"
      ]
    },
    {
      "cell_type": "code",
      "execution_count": 9,
      "metadata": {
        "id": "jJ9TJFDof4ZW"
      },
      "outputs": [],
      "source": [
        "def precision(recommended_items, relevant_items):\n",
        "\n",
        "    is_relevant = np.in1d(recommended_items, relevant_items, assume_unique=True)\n",
        "\n",
        "    precision_score = np.sum(is_relevant, dtype=np.float32) / len(is_relevant)\n",
        "\n",
        "    return precision_score\n",
        "\n",
        "def recall(recommended_items, relevant_items):\n",
        "\n",
        "    is_relevant = np.in1d(recommended_items, relevant_items, assume_unique=True)\n",
        "\n",
        "    recall_score = np.sum(is_relevant, dtype=np.float32) / relevant_items.shape[0]\n",
        "\n",
        "    return recall_score\n",
        "\n",
        "def AP(recommended_items, relevant_items):\n",
        "\n",
        "    is_relevant = np.in1d(recommended_items, relevant_items, assume_unique=True)\n",
        "\n",
        "    # Cumulative sum: precision at 1, at 2, at 3 ...\n",
        "    p_at_k = is_relevant * np.cumsum(is_relevant, dtype=np.float32) / (1 + np.arange(is_relevant.shape[0]))\n",
        "\n",
        "    ap_score = np.sum(p_at_k) / np.min([relevant_items.shape[0], is_relevant.shape[0]])\n",
        "\n",
        "    return ap_score\n",
        "\n",
        "def evaluate_algorithm(URM_test, recommender_object, at=10):\n",
        "\n",
        "    cumulative_precision = 0.0\n",
        "    cumulative_recall = 0.0\n",
        "    cumulative_AP = 0.0\n",
        "\n",
        "    num_eval = 0\n",
        "\n",
        "\n",
        "    for user_id in range(URM_test.shape[0]):\n",
        "\n",
        "        relevant_items = URM_test.indices[URM_test.indptr[user_id]:URM_test.indptr[user_id+1]]\n",
        "\n",
        "        if len(relevant_items)>0:\n",
        "\n",
        "            recommended_items = recommender_object.recommend(user_id, at=at,exclude_seen=True)\n",
        "            num_eval+=1\n",
        "\n",
        "            cumulative_precision += precision(recommended_items, relevant_items)\n",
        "            cumulative_recall += recall(recommended_items, relevant_items)\n",
        "            cumulative_AP += AP(recommended_items, relevant_items)\n",
        "\n",
        "    mean_precision = cumulative_precision / num_eval\n",
        "    mean_recall = cumulative_recall / num_eval\n",
        "    MAP = cumulative_AP / num_eval\n",
        "\n",
        "    print(\"Recommender results are: Precision = {:.10f}, Recall = {:.10f}, MAP = {:.10f}\".format(\n",
        "        cumulative_precision, cumulative_recall, MAP))\n",
        "    return MAP, mean_precision, mean_recall"
      ]
    },
    {
      "cell_type": "markdown",
      "metadata": {
        "id": "t1hn94qEu79W"
      },
      "source": [
        "# Preparing for training"
      ]
    },
    {
      "cell_type": "code",
      "execution_count": 14,
      "metadata": {
        "colab": {
          "base_uri": "https://localhost:8080/"
        },
        "id": "7JtC_I5Zub-V",
        "outputId": "8406470b-fe30-453f-b624-07774f91e64d"
      },
      "outputs": [
        {
          "output_type": "execute_result",
          "data": {
            "text/plain": [
              "<12638x22222 sparse matrix of type '<class 'numpy.float64'>'\n",
              "\twith 383042 stored elements in Compressed Sparse Row format>"
            ]
          },
          "metadata": {},
          "execution_count": 14
        }
      ],
      "source": [
        "urm_train"
      ]
    },
    {
      "cell_type": "code",
      "execution_count": 15,
      "metadata": {
        "colab": {
          "base_uri": "https://localhost:8080/"
        },
        "id": "CCqtCwe9uj_I",
        "outputId": "43e8d2a9-dec1-4330-b558-0abd6cfa730c"
      },
      "outputs": [
        {
          "output_type": "execute_result",
          "data": {
            "text/plain": [
              "383042"
            ]
          },
          "metadata": {},
          "execution_count": 15
        }
      ],
      "source": [
        "train_n_interactions = urm_train.nnz\n",
        "train_n_interactions"
      ]
    },
    {
      "cell_type": "code",
      "execution_count": 16,
      "metadata": {
        "colab": {
          "base_uri": "https://localhost:8080/"
        },
        "id": "yqsbBcMLuwkp",
        "outputId": "cb07caaf-0e08-4bf6-d915-f042ed26b145"
      },
      "outputs": [
        {
          "output_type": "stream",
          "name": "stdout",
          "text": [
            "The num of users is 12638\n",
            "The num of items is 22222\n"
          ]
        }
      ],
      "source": [
        "n_users, n_items = urm_train.shape\n",
        "print(f\"The num of users is {n_users}\")\n",
        "print(f\"The num of items is {n_items}\")"
      ]
    },
    {
      "cell_type": "code",
      "execution_count": 14,
      "metadata": {
        "id": "fXKPxOOtEmqS"
      },
      "outputs": [],
      "source": [
        "num_factors = 190\n",
        "\n",
        "user_factors = np.random.random((n_users, num_factors))\n",
        "item_factors = np.random.random((n_items, num_factors))"
      ]
    },
    {
      "cell_type": "markdown",
      "metadata": {
        "id": "uiaIdUAEE_am"
      },
      "source": [
        "# We define a function to transform the interaction data in a \"confidence\" value."
      ]
    },
    {
      "cell_type": "code",
      "execution_count": 17,
      "metadata": {
        "id": "vz4mjVGsErvv"
      },
      "outputs": [],
      "source": [
        "def popularity_confidence(URM_train):\n",
        "\n",
        "    item_popularity = np.ediff1d(URM_train.tocsc().indptr)\n",
        "    item_confidence = np.zeros(len(item_popularity))\n",
        "    item_confidence[item_popularity!=0] = np.log(item_popularity[item_popularity!=0])\n",
        "\n",
        "    C_URM_train = URM_train.copy()\n",
        "    C_URM_train = C_URM_train.tocsc()\n",
        "\n",
        "    for item_id in range(C_URM_train.shape[1]):\n",
        "        start_pos = C_URM_train.indptr[item_id]\n",
        "        end_pos = C_URM_train.indptr[item_id+1]\n",
        "\n",
        "        C_URM_train.data[start_pos:end_pos] = item_confidence[item_id]\n",
        "\n",
        "    C_URM_train = C_URM_train.tocsr()\n",
        "\n",
        "    return C_URM_train"
      ]
    },
    {
      "cell_type": "markdown",
      "metadata": {
        "id": "ptFXN7JiFP7u"
      },
      "source": [
        "# Define the update rules for the user factors"
      ]
    },
    {
      "cell_type": "code",
      "execution_count": 18,
      "metadata": {
        "id": "mj6BfR4vFLXk"
      },
      "outputs": [],
      "source": [
        "def _update_row(interaction_profile, interaction_confidence, Y, YtY, regularization_diagonal):\n",
        "\n",
        "    Y_interactions = Y[interaction_profile, :]\n",
        "\n",
        "    A = Y_interactions.T.dot(((interaction_confidence - 1) * Y_interactions.T).T)\n",
        "\n",
        "    B = YtY + A + regularization_diagonal\n",
        "\n",
        "    return np.dot(np.linalg.inv(B), Y_interactions.T.dot(interaction_confidence))"
      ]
    },
    {
      "cell_type": "markdown",
      "metadata": {
        "id": "O5U7DI-CFv40"
      },
      "source": [
        "# Apply updates on the user item factors as well"
      ]
    },
    {
      "cell_type": "markdown",
      "metadata": {
        "id": "ebOcAqNEs-IN"
      },
      "source": [
        "**Training loop with Early stopping**"
      ]
    },
    {
      "cell_type": "code",
      "execution_count": 19,
      "metadata": {
        "colab": {
          "base_uri": "https://localhost:8080/"
        },
        "id": "PyXC9NIjEshM",
        "outputId": "c5b377af-ab18-460c-8b90-6be6e0f14251"
      },
      "outputs": [
        {
          "output_type": "execute_result",
          "data": {
            "text/plain": [
              "array([7.05185562, 6.69950034, 6.39191711, 5.73979291, 5.3082677 ,\n",
              "       5.37989735, 5.4161004 , 5.32787617, 5.48893773, 4.6443909 ])"
            ]
          },
          "metadata": {},
          "execution_count": 19
        }
      ],
      "source": [
        "C_urm_train = popularity_confidence(urm_train)\n",
        "\n",
        "C_urm_train.data[:10]"
      ]
    },
    {
      "cell_type": "code",
      "execution_count": 25,
      "metadata": {
        "id": "EA58iumeLD_D"
      },
      "outputs": [],
      "source": [
        "def train_ials(C_urm_train,num_epochs,num_factors,regularization_coefficient,urm_train, urm_val,min_map_increase = 0.001,\n",
        "               map_patience_thr = 15,user_factors = None,item_factors = None):\n",
        "  C_urm_train_csc = C_urm_train.tocsc()\n",
        "\n",
        "  if user_factors is not None:\n",
        "    user_factors = user_factors\n",
        "  else:\n",
        "    user_factors = np.random.random((n_users, num_factors))\n",
        "\n",
        "  if item_factors is not None:\n",
        "    item_factors = item_factors\n",
        "  else:\n",
        "    item_factors = np.random.random((n_items, num_factors))\n",
        "\n",
        "\n",
        "  regularization_diagonal = np.diag(regularization_coefficient * np.ones(num_factors))\n",
        "\n",
        "  best_map = 0.0\n",
        "  map_patience_count = 0\n",
        "  map = 0.0\n",
        "\n",
        "  for n_epoch in range(num_epochs):\n",
        "\n",
        "    if map > best_map and n_epoch != 0:\n",
        "      best_map = map\n",
        "      map_patience_count = 0\n",
        "    elif map < best_map + min_map_increase:\n",
        "      map_patience_count += 1\n",
        "      print(f\"LR patience is incremented and is {map_patience_count}\")\n",
        "\n",
        "    if map_patience_count >= map_patience_thr:\n",
        "      return user_factors, item_factors\n",
        "\n",
        "    start_time = time.time()\n",
        "\n",
        "    VV = item_factors.T.dot(item_factors)\n",
        "\n",
        "    for user_id in range(C_urm_train.shape[0]):\n",
        "\n",
        "        start_pos = C_urm_train.indptr[user_id]\n",
        "        end_pos = C_urm_train.indptr[user_id + 1]\n",
        "\n",
        "        user_profile = C_urm_train.indices[start_pos:end_pos]\n",
        "        user_confidence = C_urm_train.data[start_pos:end_pos]\n",
        "\n",
        "        user_factors[user_id, :] = _update_row(user_profile, user_confidence, item_factors, VV, regularization_diagonal)\n",
        "\n",
        "        # Print some stats\n",
        "        if (user_id +1)% 100000 == 0 or user_id == C_urm_train.shape[0]-1:\n",
        "            elapsed_time = time.time() - start_time\n",
        "            samples_per_second = user_id/elapsed_time\n",
        "            print(\"Iteration {} in {:.2f} seconds. Users per second {:.2f}\".format(user_id+1, elapsed_time, samples_per_second))\n",
        "\n",
        "    UU = user_factors.T.dot(user_factors)\n",
        "\n",
        "    for item_id in range(C_urm_train.shape[1]):\n",
        "\n",
        "        start_pos = C_urm_train_csc.indptr[item_id]\n",
        "        end_pos = C_urm_train_csc.indptr[item_id + 1]\n",
        "\n",
        "        item_profile = C_urm_train_csc.indices[start_pos:end_pos]\n",
        "        item_confidence = C_urm_train_csc.data[start_pos:end_pos]\n",
        "\n",
        "        item_factors[item_id, :] = _update_row(item_profile, item_confidence, user_factors, UU, regularization_diagonal)\n",
        "\n",
        "        # Print some stats\n",
        "        if (item_id +1)% 100000 == 0 or item_id == C_urm_train.shape[1]-1:\n",
        "            elapsed_time = time.time() - start_time\n",
        "            samples_per_second = item_id/elapsed_time\n",
        "            print(\"Iteration {} in {:.2f} seconds. Items per second {:.2f}\".format(item_id+1, elapsed_time, samples_per_second))\n",
        "\n",
        "    # Evaluate the model on val\n",
        "    recommender_ials = IALSRecommender(urm_train,user_factors, item_factors)\n",
        "    map, mp,mr = evaluate_algorithm(urm_val,recommender_ials)\n",
        "\n",
        "    total_epoch_time = time.time() - start_time\n",
        "    print(\"Epoch {} complete in in {:.2f} seconds\".format(n_epoch+1, total_epoch_time))\n",
        "\n",
        "  return user_factors, item_factors"
      ]
    },
    {
      "cell_type": "code",
      "execution_count": 30,
      "metadata": {
        "colab": {
          "base_uri": "https://localhost:8080/"
        },
        "id": "UZZz9zaQL5F8",
        "outputId": "e6f2965a-0f1f-481a-cca6-ca2676c4b4d4"
      },
      "outputs": [
        {
          "output_type": "stream",
          "name": "stdout",
          "text": [
            "LR patience is incremented and is 1\n",
            "Iteration 12638 in 169.75 seconds. Users per second 74.44\n",
            "Iteration 22222 in 461.67 seconds. Items per second 48.13\n",
            "Recommender results are: Precision = 399.3000000000, Recall = 609.7980149761, MAP = 0.0300155462\n",
            "Epoch 1 complete in in 594.22 seconds\n",
            "Iteration 12638 in 167.39 seconds. Users per second 75.50\n",
            "Iteration 22222 in 462.61 seconds. Items per second 48.03\n",
            "Recommender results are: Precision = 479.6000000000, Recall = 806.7936919020, MAP = 0.0443770326\n",
            "Epoch 2 complete in in 593.93 seconds\n",
            "Iteration 12638 in 172.79 seconds. Users per second 73.14\n",
            "Iteration 22222 in 471.99 seconds. Items per second 47.08\n",
            "Recommender results are: Precision = 592.6000000000, Recall = 964.6883843627, MAP = 0.0537692076\n",
            "Epoch 3 complete in in 605.02 seconds\n",
            "Iteration 12638 in 170.12 seconds. Users per second 74.28\n",
            "Iteration 22222 in 466.30 seconds. Items per second 47.65\n",
            "Recommender results are: Precision = 635.4000000000, Recall = 1020.5826652082, MAP = 0.0568418200\n",
            "Epoch 4 complete in in 600.53 seconds\n",
            "Iteration 12638 in 171.51 seconds. Users per second 73.68\n",
            "Iteration 22222 in 467.55 seconds. Items per second 47.53\n",
            "Recommender results are: Precision = 655.4000000000, Recall = 1043.6229849097, MAP = 0.0585755914\n",
            "Epoch 5 complete in in 599.26 seconds\n",
            "Iteration 12638 in 168.54 seconds. Users per second 74.98\n",
            "Iteration 22222 in 463.45 seconds. Items per second 47.95\n",
            "Recommender results are: Precision = 661.3000000000, Recall = 1045.2941569381, MAP = 0.0592917838\n",
            "Epoch 6 complete in in 595.09 seconds\n",
            "Iteration 12638 in 172.19 seconds. Users per second 73.39\n",
            "Iteration 22222 in 470.14 seconds. Items per second 47.26\n",
            "Recommender results are: Precision = 666.4000000000, Recall = 1057.4367660462, MAP = 0.0597603966\n",
            "Epoch 7 complete in in 604.11 seconds\n",
            "Iteration 12638 in 168.45 seconds. Users per second 75.02\n",
            "Iteration 22222 in 463.93 seconds. Items per second 47.90\n",
            "Recommender results are: Precision = 671.7000000000, Recall = 1065.7543618698, MAP = 0.0602606585\n",
            "Epoch 8 complete in in 598.19 seconds\n",
            "Iteration 12638 in 172.41 seconds. Users per second 73.29\n",
            "Iteration 22222 in 467.56 seconds. Items per second 47.53\n",
            "Recommender results are: Precision = 676.1000000000, Recall = 1069.6220296920, MAP = 0.0605176350\n",
            "Epoch 9 complete in in 601.63 seconds\n",
            "Iteration 12638 in 167.44 seconds. Users per second 75.47\n",
            "Iteration 22222 in 459.50 seconds. Items per second 48.36\n",
            "Recommender results are: Precision = 680.9000000000, Recall = 1075.9000658295, MAP = 0.0607196560\n",
            "Epoch 10 complete in in 593.08 seconds\n",
            "Iteration 12638 in 168.85 seconds. Users per second 74.84\n",
            "Iteration 22222 in 465.26 seconds. Items per second 47.76\n",
            "Recommender results are: Precision = 681.8000000000, Recall = 1080.8840476853, MAP = 0.0606475324\n",
            "Epoch 11 complete in in 598.50 seconds\n",
            "LR patience is incremented and is 1\n",
            "Iteration 12638 in 176.37 seconds. Users per second 71.65\n",
            "Iteration 22222 in 482.60 seconds. Items per second 46.04\n",
            "Recommender results are: Precision = 683.1000000000, Recall = 1080.1629763021, MAP = 0.0608408022\n",
            "Epoch 12 complete in in 615.24 seconds\n",
            "Iteration 12638 in 169.71 seconds. Users per second 74.46\n",
            "Iteration 22222 in 462.25 seconds. Items per second 48.07\n",
            "Recommender results are: Precision = 687.7000000000, Recall = 1084.8661825381, MAP = 0.0610280058\n",
            "Epoch 13 complete in in 591.03 seconds\n",
            "Iteration 12638 in 173.82 seconds. Users per second 72.70\n",
            "Iteration 22222 in 462.64 seconds. Items per second 48.03\n",
            "Recommender results are: Precision = 688.6000000000, Recall = 1082.9765962636, MAP = 0.0610324725\n",
            "Epoch 14 complete in in 598.71 seconds\n",
            "Iteration 12638 in 178.25 seconds. Users per second 70.89\n",
            "Iteration 22222 in 479.76 seconds. Items per second 46.32\n",
            "Recommender results are: Precision = 690.6000000000, Recall = 1085.1672379472, MAP = 0.0610903714\n",
            "Epoch 15 complete in in 613.59 seconds\n",
            "Iteration 12638 in 172.91 seconds. Users per second 73.09\n",
            "Iteration 22222 in 455.64 seconds. Items per second 48.77\n",
            "Recommender results are: Precision = 688.7000000000, Recall = 1084.8702059686, MAP = 0.0610088466\n",
            "Epoch 16 complete in in 584.20 seconds\n",
            "LR patience is incremented and is 1\n",
            "Iteration 12638 in 156.23 seconds. Users per second 80.89\n",
            "Iteration 22222 in 430.99 seconds. Items per second 51.56\n",
            "Recommender results are: Precision = 689.3000000000, Recall = 1087.2840533588, MAP = 0.0609426706\n",
            "Epoch 17 complete in in 559.48 seconds\n",
            "LR patience is incremented and is 2\n",
            "Iteration 12638 in 161.23 seconds. Users per second 78.38\n",
            "Iteration 22222 in 440.60 seconds. Items per second 50.43\n",
            "Recommender results are: Precision = 689.8000000000, Recall = 1087.3994121039, MAP = 0.0609083972\n",
            "Epoch 18 complete in in 569.19 seconds\n",
            "LR patience is incremented and is 3\n",
            "Iteration 12638 in 155.19 seconds. Users per second 81.43\n",
            "Iteration 22222 in 428.63 seconds. Items per second 51.84\n",
            "Recommender results are: Precision = 690.5000000000, Recall = 1089.2764575998, MAP = 0.0610680888\n",
            "Epoch 19 complete in in 553.08 seconds\n",
            "LR patience is incremented and is 4\n",
            "Iteration 12638 in 154.08 seconds. Users per second 82.02\n",
            "Iteration 22222 in 422.92 seconds. Items per second 52.54\n",
            "Recommender results are: Precision = 690.8000000000, Recall = 1086.2244268950, MAP = 0.0610900230\n",
            "Epoch 20 complete in in 550.77 seconds\n",
            "LR patience is incremented and is 5\n"
          ]
        }
      ],
      "source": [
        "num_epochs = 200\n",
        "num_factors = 350\n",
        "regularization_coefficient = 0.7\n",
        "\n",
        "min_map_increase = 0.0001\n",
        "map_patience_thr = 5\n",
        "\n",
        "\n",
        "usr_factors, itm_factors = train_ials(C_urm_train,num_epochs,num_factors,regularization_coefficient,urm_train,urm_val,\n",
        "                                      min_map_increase=min_map_increase,map_patience_thr=map_patience_thr)"
      ]
    },
    {
      "cell_type": "code",
      "source": [
        "usr_factors_chpt = usr_factors\n",
        "itm_factors_chpt = itm_factors"
      ],
      "metadata": {
        "id": "Xk-xyXUz3zN-"
      },
      "execution_count": 27,
      "outputs": []
    },
    {
      "cell_type": "markdown",
      "metadata": {
        "id": "RiGdeOoJ1tv3"
      },
      "source": [
        "# Evaluate the trained model\n"
      ]
    },
    {
      "cell_type": "code",
      "execution_count": 22,
      "metadata": {
        "id": "-WombThM2nQx"
      },
      "outputs": [],
      "source": [
        "class IALSRecommender(object):\n",
        "\n",
        "    def __init__(self, URM,usr_factors, itm_factors):\n",
        "        self.URM = URM\n",
        "        self.usr_factors = usr_factors\n",
        "        self.itm_factors = np.transpose(itm_factors)\n",
        "\n",
        "    def recommend(self, user_id, at=None, exclude_seen=True, users_not_in_train=[]):\n",
        "        # Check if user_id is a valid index\n",
        "        if user_id < 0 or user_id >= self.URM.shape[0]:\n",
        "            print(f\"Invalid user_id: {user_id}\")\n",
        "            return\n",
        "\n",
        "        # Check if user_id not in train use the topRec\n",
        "        if user_id in users_not_in_train:\n",
        "            return [\"517 189 44 0 284 808 285 1 557 1266\"]\n",
        "\n",
        "        # compute the scores using the dot product\n",
        "        user_profile = self.usr_factors[user_id,:]\n",
        "        scores = np.dot(user_profile,self.itm_factors)\n",
        "\n",
        "        if exclude_seen:\n",
        "            scores = self.filter_seen(user_id, scores)\n",
        "\n",
        "        # rank items\n",
        "        ranking = scores.argsort()[::-1]\n",
        "\n",
        "        return ranking[:at]\n",
        "\n",
        "\n",
        "    def filter_seen(self, user_id, scores):\n",
        "\n",
        "        start_pos = self.URM.indptr[user_id]\n",
        "        end_pos = self.URM.indptr[user_id+1]\n",
        "\n",
        "        user_profile = self.URM.indices[start_pos:end_pos]\n",
        "\n",
        "        scores[user_profile] = -np.inf\n",
        "\n",
        "        return scores"
      ]
    },
    {
      "cell_type": "code",
      "source": [
        "#num_epochs = 3\n",
        "#num_factors = 190\n",
        "#regularization_coefficient = 1.5\n",
        "\n",
        "recommender_ials = IALSRecommender(urm_train,usr_factors, itm_factors)\n",
        "map, mp,mr = evaluate_algorithm(urm_val,recommender_ials)\n",
        "print(f\"MAP@10 on val is {map}\")"
      ],
      "metadata": {
        "colab": {
          "base_uri": "https://localhost:8080/"
        },
        "id": "RXVrNfUV-tqn",
        "outputId": "0123d516-49bd-4694-9381-fe59c9046972"
      },
      "execution_count": 42,
      "outputs": [
        {
          "output_type": "stream",
          "name": "stdout",
          "text": [
            "Recommender results are: Precision = 599.2000, Recall = 959.0677, MAP = 0.0526\n",
            "MAP@10 on val is 0.05255837011660953\n"
          ]
        }
      ]
    },
    {
      "cell_type": "code",
      "source": [
        "#num_epochs = 3\n",
        "#num_factors = 250\n",
        "#regularization_coefficient = 1.5\n",
        "\n",
        "recommender_ials = IALSRecommender(urm_train,usr_factors, itm_factors)\n",
        "map, mp,mr = evaluate_algorithm(urm_val,recommender_ials)\n",
        "print(f\"MAP@10 on val is {map}\")"
      ],
      "metadata": {
        "colab": {
          "base_uri": "https://localhost:8080/"
        },
        "id": "MOpHqmfl74x1",
        "outputId": "c4fa9302-e782-427a-e804-885325200020"
      },
      "execution_count": 40,
      "outputs": [
        {
          "output_type": "stream",
          "name": "stdout",
          "text": [
            "Recommender results are: Precision = 598.1000, Recall = 953.8834, MAP = 0.0520\n",
            "MAP@10 on val is 0.052036196808158006\n"
          ]
        }
      ]
    },
    {
      "cell_type": "code",
      "source": [
        "#num_epochs = 5\n",
        "#num_factors = 250\n",
        "#regularization_coefficient = 1\n",
        "\n",
        "recommender_ials = IALSRecommender(urm_train,usr_factors, itm_factors)\n",
        "map, mp,mr = evaluate_algorithm(urm_val,recommender_ials)\n",
        "print(f\"MAP@10 on val is {map}\")"
      ],
      "metadata": {
        "colab": {
          "base_uri": "https://localhost:8080/"
        },
        "id": "oTHUSuMAtVsf",
        "outputId": "8fe812ae-bc4e-44e6-9390-c05773defbf8"
      },
      "execution_count": 38,
      "outputs": [
        {
          "output_type": "stream",
          "name": "stdout",
          "text": [
            "Recommender results are: Precision = 667.3000, Recall = 1055.3109, MAP = 0.0577\n",
            "MAP@10 on val is 0.057705989571089876\n"
          ]
        }
      ]
    },
    {
      "cell_type": "code",
      "source": [
        "#num_epochs = 5\n",
        "#num_factors = 250\n",
        "#regularization_coefficient = 0.7\n",
        "\n",
        "recommender_ials = IALSRecommender(urm_train,usr_factors, itm_factors)\n",
        "map, mp,mr = evaluate_algorithm(urm_val,recommender_ials)\n",
        "print(f\"MAP@10 on val is {map}\")"
      ],
      "metadata": {
        "colab": {
          "base_uri": "https://localhost:8080/"
        },
        "id": "pEMVUErSjjKa",
        "outputId": "a999034b-0f39-4a2b-9d9b-86420b1910a3"
      },
      "execution_count": 36,
      "outputs": [
        {
          "output_type": "stream",
          "name": "stdout",
          "text": [
            "Recommender results are: Precision = 674.7000, Recall = 1069.0870, MAP = 0.0584\n",
            "MAP@10 on val is 0.058409631100358045\n"
          ]
        }
      ]
    },
    {
      "cell_type": "code",
      "execution_count": null,
      "metadata": {
        "colab": {
          "base_uri": "https://localhost:8080/"
        },
        "id": "tIt0El0PEidH",
        "outputId": "e487fbd6-7402-47cc-911d-940efb750ad1"
      },
      "outputs": [
        {
          "name": "stdout",
          "output_type": "stream",
          "text": [
            "Recommender results are: Precision = 709.4000, Recall = 1115.9259, MAP = 0.0613\n",
            "MAP@10 on val is 0.061295767617697346\n"
          ]
        }
      ],
      "source": [
        "#num_epochs = 80\n",
        "#num_factors = 190\n",
        "#regularization_coefficient = 0.7\n",
        "\n",
        "recommender_ials = IALSRecommender(urm_train,usr_factors, itm_factors)\n",
        "map, mp,mr = evaluate_algorithm(urm_val,recommender_ials)\n",
        "print(f\"MAP@10 on val is {map}\")"
      ]
    },
    {
      "cell_type": "code",
      "execution_count": null,
      "metadata": {
        "colab": {
          "base_uri": "https://localhost:8080/"
        },
        "id": "TNr6rqXbOy9w",
        "outputId": "7bb7b75e-ae04-4a17-bf28-e2da91c38580"
      },
      "outputs": [
        {
          "name": "stdout",
          "output_type": "stream",
          "text": [
            "Recommender results are: Precision = 694.6000, Recall = 1093.4653, MAP = 0.0602\n",
            "MAP@10 on val is 0.06021209879799655\n"
          ]
        }
      ],
      "source": [
        "#num_epochs = 50\n",
        "#num_factors = 200\n",
        "#regularization_coefficient = 1\n",
        "\n",
        "\n",
        "recommender_ials = IALSRecommender(urm_train,usr_factors, itm_factors)\n",
        "map, mp,mr = evaluate_algorithm(urm_val,recommender_ials)\n",
        "print(f\"MAP@10 on val is {map}\")"
      ]
    },
    {
      "cell_type": "code",
      "execution_count": null,
      "metadata": {
        "colab": {
          "base_uri": "https://localhost:8080/"
        },
        "id": "uiMJ-9Mu9taS",
        "outputId": "cf927b93-73c3-446d-d3d8-56daffa5f043"
      },
      "outputs": [
        {
          "name": "stdout",
          "output_type": "stream",
          "text": [
            "Recommender results are: Precision = 701.0000, Recall = 1077.0758, MAP = 0.0597\n",
            "MAP@10 on val is 0.05968736862896224\n"
          ]
        }
      ],
      "source": [
        "#num_epochs = 50\n",
        "#num_factors = 200\n",
        "#regularization_coefficient = 1e-1\n",
        "\n",
        "recommender_ials = IALSRecommender(urm_train,usr_factors, itm_factors)\n",
        "map, mp,mr = evaluate_algorithm(urm_val,recommender_ials)\n",
        "print(f\"MAP@10 on val is {map}\")"
      ]
    },
    {
      "cell_type": "code",
      "execution_count": null,
      "metadata": {
        "colab": {
          "base_uri": "https://localhost:8080/"
        },
        "id": "GRchl_-IxAdP",
        "outputId": "12088d5b-96f0-4a0e-ce03-ae5d6a393cda"
      },
      "outputs": [
        {
          "name": "stdout",
          "output_type": "stream",
          "text": [
            "Recommender results are: Precision = 697.5000, Recall = 1071.9676, MAP = 0.0595\n",
            "MAP@10 on val is 0.059518880947133854\n"
          ]
        }
      ],
      "source": [
        "#num_epochs = 50\n",
        "#num_factors = 150\n",
        "#regularization_coefficient = 1e-1\n",
        "\n",
        "recommender_ials = IALSRecommender(urm_train,usr_factors, itm_factors)\n",
        "map, mp,mr = evaluate_algorithm(urm_val,recommender_ials)\n",
        "print(f\"MAP@10 on val is {map}\")"
      ]
    },
    {
      "cell_type": "code",
      "execution_count": null,
      "metadata": {
        "colab": {
          "base_uri": "https://localhost:8080/"
        },
        "id": "eFE88ILNk7r6",
        "outputId": "39b5578a-6542-4a9e-c670-0368cea02d2e"
      },
      "outputs": [
        {
          "name": "stdout",
          "output_type": "stream",
          "text": [
            "Recommender results are: Precision = 698.7000, Recall = 1076.8531, MAP = 0.0592\n",
            "MAP@10 on val is 0.0591967494090857\n"
          ]
        }
      ],
      "source": [
        "#num_epochs = 50\n",
        "#num_factors = 150\n",
        "#regularization_coefficient = 1e-2\n",
        "\n",
        "recommender_ials = IALSRecommender(urm_train,usr_factors, itm_factors)\n",
        "map, mp,mr = evaluate_algorithm(urm_val,recommender_ials)\n",
        "print(f\"MAP@10 on val is {map}\")"
      ]
    },
    {
      "cell_type": "code",
      "execution_count": null,
      "metadata": {
        "colab": {
          "base_uri": "https://localhost:8080/"
        },
        "id": "YVZLk-zle2nN",
        "outputId": "c1065c59-2c6f-4c5e-84f6-ed026a85a894"
      },
      "outputs": [
        {
          "name": "stdout",
          "output_type": "stream",
          "text": [
            "Recommender results are: Precision = 692.0000, Recall = 1054.9991, MAP = 0.0571\n",
            "MAP@10 on val is 0.05714597620898498\n"
          ]
        }
      ],
      "source": [
        "#num_epochs = 50\n",
        "#num_factors = 90\n",
        "#regularization_coefficient = 1e-2\n",
        "\n",
        "recommender_ials = IALSRecommender(urm_train,usr_factors, itm_factors)\n",
        "map, mp,mr = evaluate_algorithm(urm_val,recommender_ials)\n",
        "print(f\"MAP@10 on val is {map}\")"
      ]
    },
    {
      "cell_type": "code",
      "execution_count": null,
      "metadata": {
        "colab": {
          "base_uri": "https://localhost:8080/"
        },
        "id": "xKaTZJdaaAHx",
        "outputId": "26291a79-48be-4ee7-c68b-fc3e3bd9e978"
      },
      "outputs": [
        {
          "name": "stdout",
          "output_type": "stream",
          "text": [
            "Recommender results are: Precision = 693.9000, Recall = 1053.9768, MAP = 0.0571\n",
            "MAP@10 on val is 0.05713325569086096\n"
          ]
        }
      ],
      "source": [
        "#num_epochs = 50\n",
        "#num_factors = 90\n",
        "#regularization_coefficient = 1e-3\n",
        "\n",
        "recommender_ials = IALSRecommender(urm_train,usr_factors, itm_factors)\n",
        "map, mp,mr = evaluate_algorithm(urm_val,recommender_ials)\n",
        "print(f\"MAP@10 on val is {map}\")"
      ]
    },
    {
      "cell_type": "code",
      "execution_count": null,
      "metadata": {
        "colab": {
          "base_uri": "https://localhost:8080/"
        },
        "id": "fx4hRtDh1YG1",
        "outputId": "65289b50-4b14-43cd-df21-5b1b30d09da2"
      },
      "outputs": [
        {
          "name": "stdout",
          "output_type": "stream",
          "text": [
            "Recommender results are: Precision = 687.8000, Recall = 1047.0269, MAP = 0.0567\n",
            "MAP@10 on val is 0.05673956644904108\n"
          ]
        }
      ],
      "source": [
        "#num_epochs = 50\n",
        "#num_factors = 90\n",
        "#regularization_coefficient = 1e-4\n",
        "\n",
        "recommender_ials = IALSRecommender(urm_train,usr_factors, itm_factors)\n",
        "map, mp,mr = evaluate_algorithm(urm_val,recommender_ials)\n",
        "print(f\"MAP@10 on val is {map}\")"
      ]
    },
    {
      "cell_type": "markdown",
      "metadata": {
        "id": "4RDM-7iBjHUo"
      },
      "source": [
        "# Train on the whole data and submit the predictions"
      ]
    },
    {
      "cell_type": "code",
      "execution_count": null,
      "metadata": {
        "colab": {
          "base_uri": "https://localhost:8080/"
        },
        "id": "3ldzhhKJjcE0",
        "outputId": "1cc93ea7-171b-4ccb-a76b-c70f5d47efa8"
      },
      "outputs": [
        {
          "data": {
            "text/plain": [
              "array([7.26612878, 6.91473089, 6.62539237, 5.99645209, 5.54126355,\n",
              "       5.56452041, 5.6347896 , 5.58349631, 5.68017261, 4.82831374])"
            ]
          },
          "execution_count": 12,
          "metadata": {},
          "output_type": "execute_result"
        }
      ],
      "source": [
        "C_urm_all = popularity_confidence(urm_all)\n",
        "\n",
        "C_urm_all.data[:10]"
      ]
    },
    {
      "cell_type": "code",
      "execution_count": null,
      "metadata": {
        "colab": {
          "base_uri": "https://localhost:8080/"
        },
        "id": "xPIp8KkCjPXI",
        "outputId": "5cdf1f1e-0201-4ddb-9b09-a4b557953ce4"
      },
      "outputs": [
        {
          "name": "stdout",
          "output_type": "stream",
          "text": [
            "Iteration 12638 in 38.10 seconds. Users per second 331.70\n",
            "Iteration 22222 in 129.64 seconds. Items per second 171.41\n",
            "Epoch 1 complete in in 129.64 seconds\n",
            "Iteration 12638 in 34.55 seconds. Users per second 365.80\n",
            "Iteration 22222 in 99.40 seconds. Items per second 223.56\n",
            "Epoch 2 complete in in 99.40 seconds\n",
            "Iteration 12638 in 38.11 seconds. Users per second 331.58\n",
            "Iteration 22222 in 162.56 seconds. Items per second 136.69\n",
            "Epoch 3 complete in in 162.57 seconds\n",
            "Iteration 12638 in 34.25 seconds. Users per second 368.96\n",
            "Iteration 22222 in 96.54 seconds. Items per second 230.17\n",
            "Epoch 4 complete in in 96.54 seconds\n",
            "Iteration 12638 in 52.68 seconds. Users per second 239.90\n",
            "Iteration 22222 in 118.37 seconds. Items per second 187.73\n",
            "Epoch 5 complete in in 118.37 seconds\n",
            "Iteration 12638 in 38.14 seconds. Users per second 331.29\n",
            "Iteration 22222 in 103.71 seconds. Items per second 214.27\n",
            "Epoch 6 complete in in 103.71 seconds\n",
            "Iteration 12638 in 56.11 seconds. Users per second 225.21\n",
            "Iteration 22222 in 151.46 seconds. Items per second 146.71\n",
            "Epoch 7 complete in in 151.46 seconds\n",
            "Iteration 12638 in 42.16 seconds. Users per second 299.77\n",
            "Iteration 22222 in 107.03 seconds. Items per second 207.61\n",
            "Epoch 8 complete in in 107.04 seconds\n",
            "Iteration 12638 in 41.85 seconds. Users per second 301.98\n",
            "Iteration 22222 in 132.22 seconds. Items per second 168.07\n",
            "Epoch 9 complete in in 132.22 seconds\n",
            "Iteration 12638 in 35.41 seconds. Users per second 356.84\n",
            "Iteration 22222 in 108.54 seconds. Items per second 204.73\n",
            "Epoch 10 complete in in 108.54 seconds\n",
            "Iteration 12638 in 34.67 seconds. Users per second 364.52\n",
            "Iteration 22222 in 96.59 seconds. Items per second 230.05\n",
            "Epoch 11 complete in in 96.59 seconds\n",
            "Iteration 12638 in 39.04 seconds. Users per second 323.68\n",
            "Iteration 22222 in 100.81 seconds. Items per second 220.42\n",
            "Epoch 12 complete in in 100.81 seconds\n",
            "Iteration 12638 in 34.76 seconds. Users per second 363.58\n",
            "Iteration 22222 in 95.37 seconds. Items per second 232.99\n",
            "Epoch 13 complete in in 95.37 seconds\n",
            "Iteration 12638 in 38.15 seconds. Users per second 331.25\n",
            "Iteration 22222 in 98.41 seconds. Items per second 225.79\n",
            "Epoch 14 complete in in 98.41 seconds\n",
            "Iteration 12638 in 34.47 seconds. Users per second 366.66\n",
            "Iteration 22222 in 95.42 seconds. Items per second 232.87\n",
            "Epoch 15 complete in in 95.42 seconds\n",
            "Iteration 12638 in 34.24 seconds. Users per second 369.06\n",
            "Iteration 22222 in 93.89 seconds. Items per second 236.66\n",
            "Epoch 16 complete in in 93.89 seconds\n",
            "Iteration 12638 in 33.85 seconds. Users per second 373.31\n",
            "Iteration 22222 in 94.02 seconds. Items per second 236.35\n",
            "Epoch 17 complete in in 94.02 seconds\n",
            "Iteration 12638 in 38.15 seconds. Users per second 331.28\n",
            "Iteration 22222 in 99.18 seconds. Items per second 224.05\n",
            "Epoch 18 complete in in 99.18 seconds\n",
            "Iteration 12638 in 34.05 seconds. Users per second 371.09\n",
            "Iteration 22222 in 94.55 seconds. Items per second 235.01\n",
            "Epoch 19 complete in in 94.55 seconds\n",
            "Iteration 12638 in 33.88 seconds. Users per second 373.05\n",
            "Iteration 22222 in 94.03 seconds. Items per second 236.32\n",
            "Epoch 20 complete in in 94.03 seconds\n",
            "Iteration 12638 in 34.99 seconds. Users per second 361.20\n",
            "Iteration 22222 in 94.18 seconds. Items per second 235.95\n",
            "Epoch 21 complete in in 94.18 seconds\n",
            "Iteration 12638 in 38.15 seconds. Users per second 331.26\n",
            "Iteration 22222 in 97.63 seconds. Items per second 227.60\n",
            "Epoch 22 complete in in 97.63 seconds\n",
            "Iteration 12638 in 33.93 seconds. Users per second 372.41\n",
            "Iteration 22222 in 93.56 seconds. Items per second 237.50\n",
            "Epoch 23 complete in in 93.56 seconds\n",
            "Iteration 12638 in 33.96 seconds. Users per second 372.08\n",
            "Iteration 22222 in 94.29 seconds. Items per second 235.66\n",
            "Epoch 24 complete in in 94.29 seconds\n",
            "Iteration 12638 in 34.14 seconds. Users per second 370.19\n",
            "Iteration 22222 in 94.01 seconds. Items per second 236.37\n",
            "Epoch 25 complete in in 94.01 seconds\n",
            "Iteration 12638 in 37.59 seconds. Users per second 336.20\n",
            "Iteration 22222 in 94.34 seconds. Items per second 235.55\n",
            "Epoch 26 complete in in 94.34 seconds\n",
            "Iteration 12638 in 37.97 seconds. Users per second 332.78\n",
            "Iteration 22222 in 97.89 seconds. Items per second 227.00\n",
            "Epoch 27 complete in in 97.89 seconds\n",
            "Iteration 12638 in 33.07 seconds. Users per second 382.13\n",
            "Iteration 22222 in 92.10 seconds. Items per second 241.28\n",
            "Epoch 28 complete in in 92.10 seconds\n",
            "Iteration 12638 in 33.41 seconds. Users per second 378.25\n",
            "Iteration 22222 in 92.52 seconds. Items per second 240.17\n",
            "Epoch 29 complete in in 92.52 seconds\n",
            "Iteration 12638 in 33.81 seconds. Users per second 373.72\n",
            "Iteration 22222 in 93.69 seconds. Items per second 237.16\n",
            "Epoch 30 complete in in 93.70 seconds\n",
            "Iteration 12638 in 33.36 seconds. Users per second 378.75\n",
            "Iteration 22222 in 92.22 seconds. Items per second 240.95\n",
            "Epoch 31 complete in in 92.22 seconds\n",
            "Iteration 12638 in 33.24 seconds. Users per second 380.16\n",
            "Iteration 22222 in 91.85 seconds. Items per second 241.93\n",
            "Epoch 32 complete in in 91.85 seconds\n",
            "Iteration 12638 in 33.18 seconds. Users per second 380.90\n",
            "Iteration 22222 in 92.11 seconds. Items per second 241.25\n",
            "Epoch 33 complete in in 92.11 seconds\n",
            "Iteration 12638 in 33.41 seconds. Users per second 378.27\n",
            "Iteration 22222 in 92.97 seconds. Items per second 239.01\n",
            "Epoch 34 complete in in 92.97 seconds\n",
            "Iteration 12638 in 33.80 seconds. Users per second 373.89\n",
            "Iteration 22222 in 93.12 seconds. Items per second 238.62\n",
            "Epoch 35 complete in in 93.12 seconds\n",
            "Iteration 12638 in 37.64 seconds. Users per second 335.74\n",
            "Iteration 22222 in 94.93 seconds. Items per second 234.08\n",
            "Epoch 36 complete in in 94.93 seconds\n",
            "Iteration 12638 in 37.28 seconds. Users per second 338.99\n",
            "Iteration 22222 in 97.35 seconds. Items per second 228.26\n",
            "Epoch 37 complete in in 97.35 seconds\n",
            "Iteration 12638 in 33.84 seconds. Users per second 373.44\n",
            "Iteration 22222 in 93.66 seconds. Items per second 237.26\n",
            "Epoch 38 complete in in 93.66 seconds\n",
            "Iteration 12638 in 34.31 seconds. Users per second 368.32\n",
            "Iteration 22222 in 95.07 seconds. Items per second 233.73\n",
            "Epoch 39 complete in in 95.07 seconds\n",
            "Iteration 12638 in 35.51 seconds. Users per second 355.84\n",
            "Iteration 22222 in 95.96 seconds. Items per second 231.58\n",
            "Epoch 40 complete in in 95.96 seconds\n",
            "Iteration 12638 in 37.75 seconds. Users per second 334.76\n",
            "Iteration 22222 in 98.11 seconds. Items per second 226.49\n",
            "Epoch 41 complete in in 98.11 seconds\n",
            "Iteration 12638 in 34.25 seconds. Users per second 368.91\n",
            "Iteration 22222 in 94.57 seconds. Items per second 234.96\n",
            "Epoch 42 complete in in 94.58 seconds\n",
            "Iteration 12638 in 34.19 seconds. Users per second 369.66\n",
            "Iteration 22222 in 94.12 seconds. Items per second 236.08\n",
            "Epoch 43 complete in in 94.12 seconds\n",
            "Iteration 12638 in 38.60 seconds. Users per second 327.40\n",
            "Iteration 22222 in 99.68 seconds. Items per second 222.93\n",
            "Epoch 44 complete in in 99.68 seconds\n",
            "Iteration 12638 in 34.59 seconds. Users per second 365.35\n",
            "Iteration 22222 in 94.82 seconds. Items per second 234.35\n",
            "Epoch 45 complete in in 94.82 seconds\n",
            "Iteration 12638 in 34.83 seconds. Users per second 362.81\n",
            "Iteration 22222 in 95.68 seconds. Items per second 232.24\n",
            "Epoch 46 complete in in 95.68 seconds\n",
            "Iteration 12638 in 38.74 seconds. Users per second 326.23\n",
            "Iteration 22222 in 100.65 seconds. Items per second 220.78\n",
            "Epoch 47 complete in in 100.65 seconds\n",
            "Iteration 12638 in 35.17 seconds. Users per second 359.31\n",
            "Iteration 22222 in 96.88 seconds. Items per second 229.36\n",
            "Epoch 48 complete in in 96.89 seconds\n",
            "Iteration 12638 in 35.65 seconds. Users per second 354.50\n",
            "Iteration 22222 in 96.04 seconds. Items per second 231.38\n",
            "Epoch 49 complete in in 96.04 seconds\n",
            "Iteration 12638 in 38.68 seconds. Users per second 326.70\n",
            "Iteration 22222 in 98.68 seconds. Items per second 225.19\n",
            "Epoch 50 complete in in 98.68 seconds\n",
            "Iteration 12638 in 34.27 seconds. Users per second 368.73\n",
            "Iteration 22222 in 94.18 seconds. Items per second 235.93\n",
            "Epoch 51 complete in in 94.18 seconds\n",
            "Iteration 12638 in 34.19 seconds. Users per second 369.60\n",
            "Iteration 22222 in 94.74 seconds. Items per second 234.55\n",
            "Epoch 52 complete in in 94.74 seconds\n",
            "Iteration 12638 in 34.58 seconds. Users per second 365.48\n",
            "Iteration 22222 in 93.85 seconds. Items per second 236.76\n",
            "Epoch 53 complete in in 93.85 seconds\n",
            "Iteration 12638 in 38.29 seconds. Users per second 330.06\n",
            "Iteration 22222 in 98.71 seconds. Items per second 225.11\n",
            "Epoch 54 complete in in 98.71 seconds\n",
            "Iteration 12638 in 34.24 seconds. Users per second 369.11\n",
            "Iteration 22222 in 94.30 seconds. Items per second 235.64\n",
            "Epoch 55 complete in in 94.30 seconds\n",
            "Iteration 12638 in 34.13 seconds. Users per second 370.28\n",
            "Iteration 22222 in 94.25 seconds. Items per second 235.77\n",
            "Epoch 56 complete in in 94.25 seconds\n",
            "Iteration 12638 in 34.04 seconds. Users per second 371.19\n",
            "Iteration 22222 in 94.39 seconds. Items per second 235.41\n",
            "Epoch 57 complete in in 94.39 seconds\n",
            "Iteration 12638 in 38.20 seconds. Users per second 330.79\n",
            "Iteration 22222 in 98.33 seconds. Items per second 225.98\n",
            "Epoch 58 complete in in 98.34 seconds\n",
            "Iteration 12638 in 34.25 seconds. Users per second 369.00\n",
            "Iteration 22222 in 94.56 seconds. Items per second 235.00\n",
            "Epoch 59 complete in in 94.56 seconds\n",
            "Iteration 12638 in 34.14 seconds. Users per second 370.11\n",
            "Iteration 22222 in 94.87 seconds. Items per second 234.22\n",
            "Epoch 60 complete in in 94.87 seconds\n",
            "Iteration 12638 in 34.77 seconds. Users per second 363.49\n",
            "Iteration 22222 in 95.16 seconds. Items per second 233.51\n",
            "Epoch 61 complete in in 95.16 seconds\n",
            "Iteration 12638 in 38.52 seconds. Users per second 328.05\n",
            "Iteration 22222 in 98.84 seconds. Items per second 224.81\n",
            "Epoch 62 complete in in 98.84 seconds\n",
            "Iteration 12638 in 34.48 seconds. Users per second 366.53\n",
            "Iteration 22222 in 95.19 seconds. Items per second 233.43\n",
            "Epoch 63 complete in in 95.19 seconds\n",
            "Iteration 12638 in 34.57 seconds. Users per second 365.58\n",
            "Iteration 22222 in 95.82 seconds. Items per second 231.90\n",
            "Epoch 64 complete in in 95.82 seconds\n",
            "Iteration 12638 in 38.80 seconds. Users per second 325.69\n",
            "Iteration 22222 in 96.90 seconds. Items per second 229.32\n",
            "Epoch 65 complete in in 96.90 seconds\n",
            "Iteration 12638 in 34.45 seconds. Users per second 366.82\n",
            "Iteration 22222 in 93.65 seconds. Items per second 237.27\n",
            "Epoch 66 complete in in 93.65 seconds\n",
            "Iteration 12638 in 34.14 seconds. Users per second 370.12\n",
            "Iteration 22222 in 93.88 seconds. Items per second 236.69\n",
            "Epoch 67 complete in in 93.88 seconds\n",
            "Iteration 12638 in 33.54 seconds. Users per second 376.75\n",
            "Iteration 22222 in 93.76 seconds. Items per second 237.01\n",
            "Epoch 68 complete in in 93.76 seconds\n",
            "Iteration 12638 in 33.99 seconds. Users per second 371.75\n",
            "Iteration 22222 in 94.07 seconds. Items per second 236.21\n",
            "Epoch 69 complete in in 94.07 seconds\n",
            "Iteration 12638 in 34.17 seconds. Users per second 369.78\n",
            "Iteration 22222 in 93.97 seconds. Items per second 236.48\n",
            "Epoch 70 complete in in 93.97 seconds\n",
            "Iteration 12638 in 38.49 seconds. Users per second 328.35\n",
            "Iteration 22222 in 94.04 seconds. Items per second 236.30\n",
            "Epoch 71 complete in in 94.04 seconds\n",
            "Iteration 12638 in 37.86 seconds. Users per second 333.75\n",
            "Iteration 22222 in 99.83 seconds. Items per second 222.59\n",
            "Epoch 72 complete in in 99.83 seconds\n",
            "Iteration 12638 in 35.05 seconds. Users per second 360.54\n",
            "Iteration 22222 in 96.49 seconds. Items per second 230.29\n",
            "Epoch 73 complete in in 96.49 seconds\n",
            "Iteration 12638 in 38.48 seconds. Users per second 328.43\n",
            "Iteration 22222 in 98.43 seconds. Items per second 225.75\n",
            "Epoch 74 complete in in 98.43 seconds\n",
            "Iteration 12638 in 35.69 seconds. Users per second 354.08\n",
            "Iteration 22222 in 96.62 seconds. Items per second 229.98\n",
            "Epoch 75 complete in in 96.62 seconds\n",
            "Iteration 12638 in 34.94 seconds. Users per second 361.67\n",
            "Iteration 22222 in 95.69 seconds. Items per second 232.22\n",
            "Epoch 76 complete in in 95.69 seconds\n",
            "Iteration 12638 in 38.63 seconds. Users per second 327.12\n",
            "Iteration 22222 in 101.01 seconds. Items per second 219.99\n",
            "Epoch 77 complete in in 101.01 seconds\n",
            "Iteration 12638 in 35.35 seconds. Users per second 357.49\n",
            "Iteration 22222 in 97.19 seconds. Items per second 228.64\n",
            "Epoch 78 complete in in 97.19 seconds\n",
            "Iteration 12638 in 35.15 seconds. Users per second 359.52\n",
            "Iteration 22222 in 96.21 seconds. Items per second 230.95\n",
            "Epoch 79 complete in in 96.21 seconds\n",
            "Iteration 12638 in 38.79 seconds. Users per second 325.82\n",
            "Iteration 22222 in 99.93 seconds. Items per second 222.36\n",
            "Epoch 80 complete in in 99.93 seconds\n"
          ]
        }
      ],
      "source": [
        "num_epochs = 80\n",
        "num_factors = 190\n",
        "regularization_coefficient = 0.7\n",
        "\n",
        "usr_factors, itm_factors = train_ials(C_urm_all,num_epochs,num_factors,regularization_coefficient)"
      ]
    },
    {
      "cell_type": "markdown",
      "metadata": {
        "id": "LTzxN3OPGnQ-"
      },
      "source": [
        "# Predict for the test data"
      ]
    },
    {
      "cell_type": "code",
      "execution_count": null,
      "metadata": {
        "colab": {
          "base_uri": "https://localhost:8080/"
        },
        "id": "NJXejTbnDTnn",
        "outputId": "860e579b-ec30-411e-ac0c-854597c19330"
      },
      "outputs": [
        {
          "data": {
            "text/plain": [
              "10882"
            ]
          },
          "execution_count": 17,
          "metadata": {},
          "output_type": "execute_result"
        }
      ],
      "source": [
        "urm_path = '/content/data_target_users_test.csv'\n",
        "\n",
        "urm_pred_df = pd.read_csv(filepath_or_buffer=urm_path,\n",
        "                                sep=\",\",\n",
        "                                header=0,\n",
        "                                dtype={0:int},\n",
        "                                engine='python')\n",
        "\n",
        "urm_pred_df.columns = [\"UserID\"]\n",
        "len(urm_pred_df['UserID'])"
      ]
    },
    {
      "cell_type": "code",
      "execution_count": null,
      "metadata": {
        "colab": {
          "base_uri": "https://localhost:8080/"
        },
        "id": "OVCOhLlaHhZj",
        "outputId": "ec9ca8b1-865c-4866-f92c-45e5436ecc20"
      },
      "outputs": [
        {
          "data": {
            "text/plain": [
              "<12638x22222 sparse matrix of type '<class 'numpy.float64'>'\n",
              "\twith 478730 stored elements in Compressed Sparse Row format>"
            ]
          },
          "execution_count": 23,
          "metadata": {},
          "output_type": "execute_result"
        }
      ],
      "source": [
        "urm_all = urm_all.tocsr()\n",
        "urm_all"
      ]
    },
    {
      "cell_type": "code",
      "execution_count": null,
      "metadata": {
        "id": "I_PH6GVRMwIJ"
      },
      "outputs": [],
      "source": [
        "Recommender = IALSRecommender(urm_all,usr_factors, itm_factors)"
      ]
    },
    {
      "cell_type": "markdown",
      "metadata": {
        "id": "m_HomK8poBuJ"
      },
      "source": [
        "**Do the predictions, but bear in mind that before feeding the user_id to the model you need to translate it to the model user indices space. Also, you have to translate the recommended item IDs into the original IDs space form the model item IDs space**"
      ]
    },
    {
      "cell_type": "code",
      "execution_count": null,
      "metadata": {
        "id": "NoopFoyfNHJq"
      },
      "outputs": [],
      "source": [
        "pred_df = pd.DataFrame(columns = ['user_id','item_list'])\n",
        "\n",
        "for userid in urm_pred_df['UserID']:\n",
        "  if userid in user_original_ID_to_index.keys():\n",
        "    # Map user ID to the index of model user space\n",
        "    usr_idx = user_original_ID_to_index[userid]\n",
        "    recomendatoins = Recommender.recommend(usr_idx, at=10,exclude_seen=True)\n",
        "    # Map item indices from model item space to original item ID\n",
        "    recomendatoins = [item_index_to_original_ID[idx] for idx in recomendatoins]\n",
        "  else:\n",
        "    # If the user isn't present in the given data, recommend TopPop items\n",
        "    recomendatoins = [\"517 189 44 0 284 808 285 1 557 1266\"]\n",
        "\n",
        "  recomendatoins = \" \".join(str(item) for item in recomendatoins)\n",
        "  pred_df.loc[len(pred_df)] = [userid,recomendatoins]"
      ]
    },
    {
      "cell_type": "code",
      "execution_count": null,
      "metadata": {
        "colab": {
          "base_uri": "https://localhost:8080/",
          "height": 423
        },
        "id": "EfnHhy-5YnSC",
        "outputId": "30446e34-bfe1-4203-eb70-b3cd91c17c78"
      },
      "outputs": [
        {
          "data": {
            "text/html": [
              "\n",
              "  <div id=\"df-d0d5b3cf-db82-4ef6-b5ad-308c4488f5a5\" class=\"colab-df-container\">\n",
              "    <div>\n",
              "<style scoped>\n",
              "    .dataframe tbody tr th:only-of-type {\n",
              "        vertical-align: middle;\n",
              "    }\n",
              "\n",
              "    .dataframe tbody tr th {\n",
              "        vertical-align: top;\n",
              "    }\n",
              "\n",
              "    .dataframe thead th {\n",
              "        text-align: right;\n",
              "    }\n",
              "</style>\n",
              "<table border=\"1\" class=\"dataframe\">\n",
              "  <thead>\n",
              "    <tr style=\"text-align: right;\">\n",
              "      <th></th>\n",
              "      <th>user_id</th>\n",
              "      <th>item_list</th>\n",
              "    </tr>\n",
              "  </thead>\n",
              "  <tbody>\n",
              "    <tr>\n",
              "      <th>0</th>\n",
              "      <td>1</td>\n",
              "      <td>101 403 36 52 506 785 922 183 515 102</td>\n",
              "    </tr>\n",
              "    <tr>\n",
              "      <th>1</th>\n",
              "      <td>2</td>\n",
              "      <td>197 359 78 1095 949 47 283 12 196 629</td>\n",
              "    </tr>\n",
              "    <tr>\n",
              "      <th>2</th>\n",
              "      <td>3</td>\n",
              "      <td>59 259 536 414 584 648 956 999 1001 147</td>\n",
              "    </tr>\n",
              "    <tr>\n",
              "      <th>3</th>\n",
              "      <td>4</td>\n",
              "      <td>249 314 28 54 136 69 46 57 145 22</td>\n",
              "    </tr>\n",
              "    <tr>\n",
              "      <th>4</th>\n",
              "      <td>5</td>\n",
              "      <td>170 215 131 110 301 222 95 838 285 766</td>\n",
              "    </tr>\n",
              "    <tr>\n",
              "      <th>...</th>\n",
              "      <td>...</td>\n",
              "      <td>...</td>\n",
              "    </tr>\n",
              "    <tr>\n",
              "      <th>10877</th>\n",
              "      <td>13020</td>\n",
              "      <td>155 113 105 87 681 51 859 153 345 627</td>\n",
              "    </tr>\n",
              "    <tr>\n",
              "      <th>10878</th>\n",
              "      <td>13021</td>\n",
              "      <td>593 57 133 316 6179 6720 455 13 87 7027</td>\n",
              "    </tr>\n",
              "    <tr>\n",
              "      <th>10879</th>\n",
              "      <td>13022</td>\n",
              "      <td>809 1411 1446 1674 1668 776 105 705 37 415</td>\n",
              "    </tr>\n",
              "    <tr>\n",
              "      <th>10880</th>\n",
              "      <td>13023</td>\n",
              "      <td>32 23 96 408 324 706 153 837 1124 261</td>\n",
              "    </tr>\n",
              "    <tr>\n",
              "      <th>10881</th>\n",
              "      <td>13024</td>\n",
              "      <td>733 325 1776 2120 335 686 474 243 410 198</td>\n",
              "    </tr>\n",
              "  </tbody>\n",
              "</table>\n",
              "<p>10882 rows × 2 columns</p>\n",
              "</div>\n",
              "    <div class=\"colab-df-buttons\">\n",
              "\n",
              "  <div class=\"colab-df-container\">\n",
              "    <button class=\"colab-df-convert\" onclick=\"convertToInteractive('df-d0d5b3cf-db82-4ef6-b5ad-308c4488f5a5')\"\n",
              "            title=\"Convert this dataframe to an interactive table.\"\n",
              "            style=\"display:none;\">\n",
              "\n",
              "  <svg xmlns=\"http://www.w3.org/2000/svg\" height=\"24px\" viewBox=\"0 -960 960 960\">\n",
              "    <path d=\"M120-120v-720h720v720H120Zm60-500h600v-160H180v160Zm220 220h160v-160H400v160Zm0 220h160v-160H400v160ZM180-400h160v-160H180v160Zm440 0h160v-160H620v160ZM180-180h160v-160H180v160Zm440 0h160v-160H620v160Z\"/>\n",
              "  </svg>\n",
              "    </button>\n",
              "\n",
              "  <style>\n",
              "    .colab-df-container {\n",
              "      display:flex;\n",
              "      gap: 12px;\n",
              "    }\n",
              "\n",
              "    .colab-df-convert {\n",
              "      background-color: #E8F0FE;\n",
              "      border: none;\n",
              "      border-radius: 50%;\n",
              "      cursor: pointer;\n",
              "      display: none;\n",
              "      fill: #1967D2;\n",
              "      height: 32px;\n",
              "      padding: 0 0 0 0;\n",
              "      width: 32px;\n",
              "    }\n",
              "\n",
              "    .colab-df-convert:hover {\n",
              "      background-color: #E2EBFA;\n",
              "      box-shadow: 0px 1px 2px rgba(60, 64, 67, 0.3), 0px 1px 3px 1px rgba(60, 64, 67, 0.15);\n",
              "      fill: #174EA6;\n",
              "    }\n",
              "\n",
              "    .colab-df-buttons div {\n",
              "      margin-bottom: 4px;\n",
              "    }\n",
              "\n",
              "    [theme=dark] .colab-df-convert {\n",
              "      background-color: #3B4455;\n",
              "      fill: #D2E3FC;\n",
              "    }\n",
              "\n",
              "    [theme=dark] .colab-df-convert:hover {\n",
              "      background-color: #434B5C;\n",
              "      box-shadow: 0px 1px 3px 1px rgba(0, 0, 0, 0.15);\n",
              "      filter: drop-shadow(0px 1px 2px rgba(0, 0, 0, 0.3));\n",
              "      fill: #FFFFFF;\n",
              "    }\n",
              "  </style>\n",
              "\n",
              "    <script>\n",
              "      const buttonEl =\n",
              "        document.querySelector('#df-d0d5b3cf-db82-4ef6-b5ad-308c4488f5a5 button.colab-df-convert');\n",
              "      buttonEl.style.display =\n",
              "        google.colab.kernel.accessAllowed ? 'block' : 'none';\n",
              "\n",
              "      async function convertToInteractive(key) {\n",
              "        const element = document.querySelector('#df-d0d5b3cf-db82-4ef6-b5ad-308c4488f5a5');\n",
              "        const dataTable =\n",
              "          await google.colab.kernel.invokeFunction('convertToInteractive',\n",
              "                                                    [key], {});\n",
              "        if (!dataTable) return;\n",
              "\n",
              "        const docLinkHtml = 'Like what you see? Visit the ' +\n",
              "          '<a target=\"_blank\" href=https://colab.research.google.com/notebooks/data_table.ipynb>data table notebook</a>'\n",
              "          + ' to learn more about interactive tables.';\n",
              "        element.innerHTML = '';\n",
              "        dataTable['output_type'] = 'display_data';\n",
              "        await google.colab.output.renderOutput(dataTable, element);\n",
              "        const docLink = document.createElement('div');\n",
              "        docLink.innerHTML = docLinkHtml;\n",
              "        element.appendChild(docLink);\n",
              "      }\n",
              "    </script>\n",
              "  </div>\n",
              "\n",
              "\n",
              "<div id=\"df-07a327a1-1909-4d1b-8d7a-13e6e6d18ff8\">\n",
              "  <button class=\"colab-df-quickchart\" onclick=\"quickchart('df-07a327a1-1909-4d1b-8d7a-13e6e6d18ff8')\"\n",
              "            title=\"Suggest charts\"\n",
              "            style=\"display:none;\">\n",
              "\n",
              "<svg xmlns=\"http://www.w3.org/2000/svg\" height=\"24px\"viewBox=\"0 0 24 24\"\n",
              "     width=\"24px\">\n",
              "    <g>\n",
              "        <path d=\"M19 3H5c-1.1 0-2 .9-2 2v14c0 1.1.9 2 2 2h14c1.1 0 2-.9 2-2V5c0-1.1-.9-2-2-2zM9 17H7v-7h2v7zm4 0h-2V7h2v10zm4 0h-2v-4h2v4z\"/>\n",
              "    </g>\n",
              "</svg>\n",
              "  </button>\n",
              "\n",
              "<style>\n",
              "  .colab-df-quickchart {\n",
              "      --bg-color: #E8F0FE;\n",
              "      --fill-color: #1967D2;\n",
              "      --hover-bg-color: #E2EBFA;\n",
              "      --hover-fill-color: #174EA6;\n",
              "      --disabled-fill-color: #AAA;\n",
              "      --disabled-bg-color: #DDD;\n",
              "  }\n",
              "\n",
              "  [theme=dark] .colab-df-quickchart {\n",
              "      --bg-color: #3B4455;\n",
              "      --fill-color: #D2E3FC;\n",
              "      --hover-bg-color: #434B5C;\n",
              "      --hover-fill-color: #FFFFFF;\n",
              "      --disabled-bg-color: #3B4455;\n",
              "      --disabled-fill-color: #666;\n",
              "  }\n",
              "\n",
              "  .colab-df-quickchart {\n",
              "    background-color: var(--bg-color);\n",
              "    border: none;\n",
              "    border-radius: 50%;\n",
              "    cursor: pointer;\n",
              "    display: none;\n",
              "    fill: var(--fill-color);\n",
              "    height: 32px;\n",
              "    padding: 0;\n",
              "    width: 32px;\n",
              "  }\n",
              "\n",
              "  .colab-df-quickchart:hover {\n",
              "    background-color: var(--hover-bg-color);\n",
              "    box-shadow: 0 1px 2px rgba(60, 64, 67, 0.3), 0 1px 3px 1px rgba(60, 64, 67, 0.15);\n",
              "    fill: var(--button-hover-fill-color);\n",
              "  }\n",
              "\n",
              "  .colab-df-quickchart-complete:disabled,\n",
              "  .colab-df-quickchart-complete:disabled:hover {\n",
              "    background-color: var(--disabled-bg-color);\n",
              "    fill: var(--disabled-fill-color);\n",
              "    box-shadow: none;\n",
              "  }\n",
              "\n",
              "  .colab-df-spinner {\n",
              "    border: 2px solid var(--fill-color);\n",
              "    border-color: transparent;\n",
              "    border-bottom-color: var(--fill-color);\n",
              "    animation:\n",
              "      spin 1s steps(1) infinite;\n",
              "  }\n",
              "\n",
              "  @keyframes spin {\n",
              "    0% {\n",
              "      border-color: transparent;\n",
              "      border-bottom-color: var(--fill-color);\n",
              "      border-left-color: var(--fill-color);\n",
              "    }\n",
              "    20% {\n",
              "      border-color: transparent;\n",
              "      border-left-color: var(--fill-color);\n",
              "      border-top-color: var(--fill-color);\n",
              "    }\n",
              "    30% {\n",
              "      border-color: transparent;\n",
              "      border-left-color: var(--fill-color);\n",
              "      border-top-color: var(--fill-color);\n",
              "      border-right-color: var(--fill-color);\n",
              "    }\n",
              "    40% {\n",
              "      border-color: transparent;\n",
              "      border-right-color: var(--fill-color);\n",
              "      border-top-color: var(--fill-color);\n",
              "    }\n",
              "    60% {\n",
              "      border-color: transparent;\n",
              "      border-right-color: var(--fill-color);\n",
              "    }\n",
              "    80% {\n",
              "      border-color: transparent;\n",
              "      border-right-color: var(--fill-color);\n",
              "      border-bottom-color: var(--fill-color);\n",
              "    }\n",
              "    90% {\n",
              "      border-color: transparent;\n",
              "      border-bottom-color: var(--fill-color);\n",
              "    }\n",
              "  }\n",
              "</style>\n",
              "\n",
              "  <script>\n",
              "    async function quickchart(key) {\n",
              "      const quickchartButtonEl =\n",
              "        document.querySelector('#' + key + ' button');\n",
              "      quickchartButtonEl.disabled = true;  // To prevent multiple clicks.\n",
              "      quickchartButtonEl.classList.add('colab-df-spinner');\n",
              "      try {\n",
              "        const charts = await google.colab.kernel.invokeFunction(\n",
              "            'suggestCharts', [key], {});\n",
              "      } catch (error) {\n",
              "        console.error('Error during call to suggestCharts:', error);\n",
              "      }\n",
              "      quickchartButtonEl.classList.remove('colab-df-spinner');\n",
              "      quickchartButtonEl.classList.add('colab-df-quickchart-complete');\n",
              "    }\n",
              "    (() => {\n",
              "      let quickchartButtonEl =\n",
              "        document.querySelector('#df-07a327a1-1909-4d1b-8d7a-13e6e6d18ff8 button');\n",
              "      quickchartButtonEl.style.display =\n",
              "        google.colab.kernel.accessAllowed ? 'block' : 'none';\n",
              "    })();\n",
              "  </script>\n",
              "</div>\n",
              "    </div>\n",
              "  </div>\n"
            ],
            "text/plain": [
              "       user_id                                   item_list\n",
              "0            1       101 403 36 52 506 785 922 183 515 102\n",
              "1            2       197 359 78 1095 949 47 283 12 196 629\n",
              "2            3     59 259 536 414 584 648 956 999 1001 147\n",
              "3            4           249 314 28 54 136 69 46 57 145 22\n",
              "4            5      170 215 131 110 301 222 95 838 285 766\n",
              "...        ...                                         ...\n",
              "10877    13020       155 113 105 87 681 51 859 153 345 627\n",
              "10878    13021     593 57 133 316 6179 6720 455 13 87 7027\n",
              "10879    13022  809 1411 1446 1674 1668 776 105 705 37 415\n",
              "10880    13023       32 23 96 408 324 706 153 837 1124 261\n",
              "10881    13024   733 325 1776 2120 335 686 474 243 410 198\n",
              "\n",
              "[10882 rows x 2 columns]"
            ]
          },
          "execution_count": 26,
          "metadata": {},
          "output_type": "execute_result"
        }
      ],
      "source": [
        "pred_df"
      ]
    },
    {
      "cell_type": "code",
      "execution_count": null,
      "metadata": {
        "id": "4TP96xHPQG-V"
      },
      "outputs": [],
      "source": [
        "pred_df.to_csv('/content/predIALS_Max.csv',index=False)"
      ]
    },
    {
      "cell_type": "code",
      "execution_count": null,
      "metadata": {
        "id": "wBNKTuPgG4v8"
      },
      "outputs": [],
      "source": []
    }
  ],
  "metadata": {
    "colab": {
      "provenance": []
    },
    "kernelspec": {
      "display_name": "Python 3",
      "name": "python3"
    },
    "language_info": {
      "name": "python"
    }
  },
  "nbformat": 4,
  "nbformat_minor": 0
}