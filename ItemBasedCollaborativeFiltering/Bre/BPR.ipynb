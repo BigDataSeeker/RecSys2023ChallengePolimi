{
  "cells": [
    {
      "cell_type": "code",
      "execution_count": 7,
      "metadata": {
        "id": "TdBpmeqSyZ0W"
      },
      "outputs": [],
      "source": [
        "import pandas as pd\n",
        "import numpy as np\n",
        "import scipy.sparse as sps\n",
        "\n",
        "from scipy.sparse import *"
      ]
    },
    {
      "cell_type": "code",
      "execution_count": 42,
      "metadata": {},
      "outputs": [],
      "source": [
        "import time"
      ]
    },
    {
      "cell_type": "markdown",
      "metadata": {},
      "source": [
        "# BPR"
      ]
    },
    {
      "cell_type": "code",
      "execution_count": 8,
      "metadata": {
        "id": "D6wm0tQmgeYZ"
      },
      "outputs": [],
      "source": [
        "urm_path = '../../content/data_train.csv'\n",
        "\n",
        "urm_all_df = pd.read_csv(filepath_or_buffer=urm_path,\n",
        "                                sep=\",\",\n",
        "                                header=0,\n",
        "                                dtype={0:int, 1:int, 2:float},\n",
        "                                engine='python')\n",
        "\n",
        "urm_all_df.columns = [\"UserID\", \"ItemID\", \"Interaction\"]"
      ]
    },
    {
      "cell_type": "code",
      "execution_count": 9,
      "metadata": {
        "colab": {
          "base_uri": "https://localhost:8080/",
          "height": 363
        },
        "id": "-QIVaUitoOkR",
        "outputId": "ae3f8b3b-0e4c-4d56-b2c5-0ffb84cdda18"
      },
      "outputs": [
        {
          "data": {
            "text/html": [
              "<div>\n",
              "<style scoped>\n",
              "    .dataframe tbody tr th:only-of-type {\n",
              "        vertical-align: middle;\n",
              "    }\n",
              "\n",
              "    .dataframe tbody tr th {\n",
              "        vertical-align: top;\n",
              "    }\n",
              "\n",
              "    .dataframe thead th {\n",
              "        text-align: right;\n",
              "    }\n",
              "</style>\n",
              "<table border=\"1\" class=\"dataframe\">\n",
              "  <thead>\n",
              "    <tr style=\"text-align: right;\">\n",
              "      <th></th>\n",
              "      <th>UserID</th>\n",
              "      <th>ItemID</th>\n",
              "      <th>Interaction</th>\n",
              "    </tr>\n",
              "  </thead>\n",
              "  <tbody>\n",
              "    <tr>\n",
              "      <th>0</th>\n",
              "      <td>1</td>\n",
              "      <td>7</td>\n",
              "      <td>1.0</td>\n",
              "    </tr>\n",
              "    <tr>\n",
              "      <th>1</th>\n",
              "      <td>1</td>\n",
              "      <td>15</td>\n",
              "      <td>1.0</td>\n",
              "    </tr>\n",
              "    <tr>\n",
              "      <th>2</th>\n",
              "      <td>1</td>\n",
              "      <td>16</td>\n",
              "      <td>1.0</td>\n",
              "    </tr>\n",
              "    <tr>\n",
              "      <th>3</th>\n",
              "      <td>1</td>\n",
              "      <td>133</td>\n",
              "      <td>1.0</td>\n",
              "    </tr>\n",
              "    <tr>\n",
              "      <th>4</th>\n",
              "      <td>1</td>\n",
              "      <td>161</td>\n",
              "      <td>1.0</td>\n",
              "    </tr>\n",
              "    <tr>\n",
              "      <th>5</th>\n",
              "      <td>1</td>\n",
              "      <td>187</td>\n",
              "      <td>1.0</td>\n",
              "    </tr>\n",
              "    <tr>\n",
              "      <th>6</th>\n",
              "      <td>1</td>\n",
              "      <td>205</td>\n",
              "      <td>1.0</td>\n",
              "    </tr>\n",
              "    <tr>\n",
              "      <th>7</th>\n",
              "      <td>1</td>\n",
              "      <td>222</td>\n",
              "      <td>1.0</td>\n",
              "    </tr>\n",
              "    <tr>\n",
              "      <th>8</th>\n",
              "      <td>1</td>\n",
              "      <td>237</td>\n",
              "      <td>1.0</td>\n",
              "    </tr>\n",
              "    <tr>\n",
              "      <th>9</th>\n",
              "      <td>1</td>\n",
              "      <td>354</td>\n",
              "      <td>1.0</td>\n",
              "    </tr>\n",
              "  </tbody>\n",
              "</table>\n",
              "</div>"
            ],
            "text/plain": [
              "   UserID  ItemID  Interaction\n",
              "0       1       7          1.0\n",
              "1       1      15          1.0\n",
              "2       1      16          1.0\n",
              "3       1     133          1.0\n",
              "4       1     161          1.0\n",
              "5       1     187          1.0\n",
              "6       1     205          1.0\n",
              "7       1     222          1.0\n",
              "8       1     237          1.0\n",
              "9       1     354          1.0"
            ]
          },
          "execution_count": 9,
          "metadata": {},
          "output_type": "execute_result"
        }
      ],
      "source": [
        "urm_all_df.head(10)"
      ]
    },
    {
      "cell_type": "code",
      "execution_count": 10,
      "metadata": {
        "colab": {
          "base_uri": "https://localhost:8080/"
        },
        "id": "KQWSAcheqshX",
        "outputId": "76fce1a2-4b3a-4f03-b834-b31b8c65e2ac"
      },
      "outputs": [
        {
          "name": "stdout",
          "output_type": "stream",
          "text": [
            "The number of interactions is 478730\n"
          ]
        }
      ],
      "source": [
        "print (\"The number of interactions is {}\".format(len(urm_all_df)))"
      ]
    },
    {
      "cell_type": "code",
      "execution_count": 11,
      "metadata": {
        "colab": {
          "base_uri": "https://localhost:8080/"
        },
        "id": "dD663Pajrych",
        "outputId": "00f98fc4-e4ac-4cb0-cf7d-141880cbd218"
      },
      "outputs": [
        {
          "name": "stdout",
          "output_type": "stream",
          "text": [
            "Number of items\t 22222, Number of users\t 12638\n",
            "Max ID items\t 22347, Max Id users\t 13024\n",
            "\n",
            "Average interactions per user 37.88\n",
            "Average interactions per item 21.54\n",
            "\n",
            "Sparsity 99.83 %\n"
          ]
        }
      ],
      "source": [
        "userID_unique = urm_all_df[\"UserID\"].unique()\n",
        "itemID_unique = urm_all_df[\"ItemID\"].unique()\n",
        "\n",
        "n_users = len(userID_unique)\n",
        "n_items = len(itemID_unique)\n",
        "n_interactions = len(urm_all_df)\n",
        "\n",
        "print (\"Number of items\\t {}, Number of users\\t {}\".format(n_items, n_users))\n",
        "print (\"Max ID items\\t {}, Max Id users\\t {}\\n\".format(max(itemID_unique), max(userID_unique)))\n",
        "print (\"Average interactions per user {:.2f}\".format(n_interactions/n_users))\n",
        "print (\"Average interactions per item {:.2f}\\n\".format(n_interactions/n_items))\n",
        "\n",
        "print (\"Sparsity {:.2f} %\".format((1-float(n_interactions)/(n_items*n_users))*100))"
      ]
    },
    {
      "cell_type": "markdown",
      "metadata": {},
      "source": [
        "Not all users are in the urm:"
      ]
    },
    {
      "cell_type": "code",
      "execution_count": 12,
      "metadata": {},
      "outputs": [],
      "source": [
        "mapped_id, original_id = pd.factorize(urm_all_df[\"UserID\"].unique())\n",
        "user_original_ID_to_index = pd.Series(mapped_id, index=original_id)\n",
        "\n",
        "mapped_id, original_id = pd.factorize(urm_all_df[\"ItemID\"].unique())\n",
        "item_original_ID_to_index = pd.Series(mapped_id, index=original_id)"
      ]
    },
    {
      "cell_type": "markdown",
      "metadata": {},
      "source": [
        "We now replace the IDs in the dataframe and we are ready to use the data"
      ]
    },
    {
      "cell_type": "code",
      "execution_count": 13,
      "metadata": {},
      "outputs": [],
      "source": [
        "urm_all_df[\"UserID\"] = urm_all_df[\"UserID\"].map(user_original_ID_to_index)\n",
        "urm_all_df[\"ItemID\"] = urm_all_df[\"ItemID\"].map(item_original_ID_to_index)"
      ]
    },
    {
      "cell_type": "code",
      "execution_count": 14,
      "metadata": {},
      "outputs": [
        {
          "data": {
            "text/html": [
              "<div>\n",
              "<style scoped>\n",
              "    .dataframe tbody tr th:only-of-type {\n",
              "        vertical-align: middle;\n",
              "    }\n",
              "\n",
              "    .dataframe tbody tr th {\n",
              "        vertical-align: top;\n",
              "    }\n",
              "\n",
              "    .dataframe thead th {\n",
              "        text-align: right;\n",
              "    }\n",
              "</style>\n",
              "<table border=\"1\" class=\"dataframe\">\n",
              "  <thead>\n",
              "    <tr style=\"text-align: right;\">\n",
              "      <th></th>\n",
              "      <th>UserID</th>\n",
              "      <th>ItemID</th>\n",
              "      <th>Interaction</th>\n",
              "    </tr>\n",
              "  </thead>\n",
              "  <tbody>\n",
              "    <tr>\n",
              "      <th>0</th>\n",
              "      <td>0</td>\n",
              "      <td>0</td>\n",
              "      <td>1.0</td>\n",
              "    </tr>\n",
              "    <tr>\n",
              "      <th>1</th>\n",
              "      <td>0</td>\n",
              "      <td>1</td>\n",
              "      <td>1.0</td>\n",
              "    </tr>\n",
              "    <tr>\n",
              "      <th>2</th>\n",
              "      <td>0</td>\n",
              "      <td>2</td>\n",
              "      <td>1.0</td>\n",
              "    </tr>\n",
              "    <tr>\n",
              "      <th>3</th>\n",
              "      <td>0</td>\n",
              "      <td>3</td>\n",
              "      <td>1.0</td>\n",
              "    </tr>\n",
              "    <tr>\n",
              "      <th>4</th>\n",
              "      <td>0</td>\n",
              "      <td>4</td>\n",
              "      <td>1.0</td>\n",
              "    </tr>\n",
              "    <tr>\n",
              "      <th>5</th>\n",
              "      <td>0</td>\n",
              "      <td>5</td>\n",
              "      <td>1.0</td>\n",
              "    </tr>\n",
              "    <tr>\n",
              "      <th>6</th>\n",
              "      <td>0</td>\n",
              "      <td>6</td>\n",
              "      <td>1.0</td>\n",
              "    </tr>\n",
              "    <tr>\n",
              "      <th>7</th>\n",
              "      <td>0</td>\n",
              "      <td>7</td>\n",
              "      <td>1.0</td>\n",
              "    </tr>\n",
              "    <tr>\n",
              "      <th>8</th>\n",
              "      <td>0</td>\n",
              "      <td>8</td>\n",
              "      <td>1.0</td>\n",
              "    </tr>\n",
              "    <tr>\n",
              "      <th>9</th>\n",
              "      <td>0</td>\n",
              "      <td>9</td>\n",
              "      <td>1.0</td>\n",
              "    </tr>\n",
              "  </tbody>\n",
              "</table>\n",
              "</div>"
            ],
            "text/plain": [
              "   UserID  ItemID  Interaction\n",
              "0       0       0          1.0\n",
              "1       0       1          1.0\n",
              "2       0       2          1.0\n",
              "3       0       3          1.0\n",
              "4       0       4          1.0\n",
              "5       0       5          1.0\n",
              "6       0       6          1.0\n",
              "7       0       7          1.0\n",
              "8       0       8          1.0\n",
              "9       0       9          1.0"
            ]
          },
          "execution_count": 14,
          "metadata": {},
          "output_type": "execute_result"
        }
      ],
      "source": [
        "urm_all_df.head(n=10)"
      ]
    },
    {
      "cell_type": "code",
      "execution_count": 15,
      "metadata": {},
      "outputs": [
        {
          "data": {
            "text/plain": [
              "<12638x22222 sparse matrix of type '<class 'numpy.float64'>'\n",
              "\twith 478730 stored elements in COOrdinate format>"
            ]
          },
          "execution_count": 15,
          "metadata": {},
          "output_type": "execute_result"
        }
      ],
      "source": [
        "urm_all = sps.coo_matrix((urm_all_df[\"Interaction\"].values,\n",
        "                          (urm_all_df[\"UserID\"].values, urm_all_df[\"ItemID\"].values)))\n",
        "\n",
        "urm_all"
      ]
    },
    {
      "cell_type": "code",
      "execution_count": 16,
      "metadata": {},
      "outputs": [
        {
          "data": {
            "text/plain": [
              "<12638x22222 sparse matrix of type '<class 'numpy.float64'>'\n",
              "\twith 478730 stored elements in Compressed Sparse Row format>"
            ]
          },
          "execution_count": 16,
          "metadata": {},
          "output_type": "execute_result"
        }
      ],
      "source": [
        "urm_all.tocsr()"
      ]
    },
    {
      "cell_type": "code",
      "execution_count": 17,
      "metadata": {
        "id": "IJ-h5XsbuvEU"
      },
      "outputs": [],
      "source": [
        "def precision(recommended_items, relevant_items):\n",
        "\n",
        "    is_relevant = np.in1d(recommended_items, relevant_items, assume_unique=True)\n",
        "\n",
        "    precision_score = np.sum(is_relevant, dtype=np.float32) / len(is_relevant)\n",
        "\n",
        "    return precision_score\n",
        "\n",
        "def recall(recommended_items, relevant_items):\n",
        "\n",
        "    is_relevant = np.in1d(recommended_items, relevant_items, assume_unique=True)\n",
        "\n",
        "    recall_score = np.sum(is_relevant, dtype=np.float32) / relevant_items.shape[0]\n",
        "\n",
        "    return recall_score\n",
        "\n",
        "def AP(recommended_items, relevant_items):\n",
        "\n",
        "    is_relevant = np.in1d(recommended_items, relevant_items, assume_unique=True)\n",
        "\n",
        "    # Cumulative sum: precision at 1, at 2, at 3 ...\n",
        "    p_at_k = is_relevant * np.cumsum(is_relevant, dtype=np.float32) / (1 + np.arange(is_relevant.shape[0]))\n",
        "\n",
        "    ap_score = np.sum(p_at_k) / np.min([relevant_items.shape[0], is_relevant.shape[0]])\n",
        "\n",
        "    return ap_score"
      ]
    },
    {
      "cell_type": "code",
      "execution_count": 18,
      "metadata": {
        "id": "WMRVTPEwu4Qb"
      },
      "outputs": [],
      "source": [
        "def evaluate_algorithm(URM_test, recommender_object, at=5):\n",
        "\n",
        "    cumulative_precision = 0.0\n",
        "    cumulative_recall = 0.0\n",
        "    cumulative_AP = 0.0\n",
        "\n",
        "    num_eval = 0\n",
        "\n",
        "\n",
        "    for user_id in range(URM_test.shape[0]):\n",
        "\n",
        "        relevant_items = URM_test.indices[URM_test.indptr[user_id]:URM_test.indptr[user_id+1]]\n",
        "\n",
        "        if len(relevant_items)>0:\n",
        "\n",
        "            recommended_items = recommender_object.recommend(user_id, at=at)\n",
        "            num_eval+=1\n",
        "\n",
        "            cumulative_precision += precision(recommended_items, relevant_items)\n",
        "            cumulative_recall += recall(recommended_items, relevant_items)\n",
        "            cumulative_AP += AP(recommended_items, relevant_items)\n",
        "\n",
        "    cumulative_precision /= num_eval\n",
        "    cumulative_recall /= num_eval\n",
        "    MAP = cumulative_AP / num_eval\n",
        "\n",
        "    print(\"Recommender results are: Precision = {:.4f}, Recall = {:.4f}, MAP = {:.4f}\".format(\n",
        "        cumulative_precision, cumulative_recall, MAP))"
      ]
    },
    {
      "cell_type": "markdown",
      "metadata": {},
      "source": [
        "---"
      ]
    },
    {
      "cell_type": "markdown",
      "metadata": {
        "id": "UDveMX1bQUki"
      },
      "source": [
        "# Splitting Train and Validation set"
      ]
    },
    {
      "cell_type": "code",
      "execution_count": 19,
      "metadata": {},
      "outputs": [],
      "source": [
        "import numpy as np\n",
        "from scipy.sparse import coo_matrix, csr_matrix\n",
        "\n",
        "def train_test_split_urm(urm, train_percentage=0.8, seed=None):\n",
        "    \"\"\"\n",
        "    Splits the User-Item Interaction Matrix (URM) into training and testing sets.\n",
        "\n",
        "    Parameters:\n",
        "    - urm (csr_matrix): The User-Item Interaction Matrix.\n",
        "    - train_percentage (float): The percentage of interactions to include in the training set.\n",
        "    - seed (int): Seed for reproducibility.\n",
        "\n",
        "    Returns:\n",
        "    - train_urm (csr_matrix): Training User-Item Interaction Matrix.\n",
        "    - test_urm (csr_matrix): Testing User-Item Interaction Matrix.\n",
        "    \"\"\"\n",
        "\n",
        "    if not (0 < train_percentage < 1):\n",
        "        raise ValueError(\"train_percentage must be between 0 and 1 exclusive\")\n",
        "\n",
        "    # Set seed for reproducibility\n",
        "    if seed is not None:\n",
        "        np.random.seed(seed)\n",
        "\n",
        "    # Get the non-zero indices (user and item indices)\n",
        "    non_zero_indices = urm.nonzero()\n",
        "\n",
        "    # Get the number of non-zero interactions\n",
        "    num_interactions = len(non_zero_indices[0])\n",
        "\n",
        "    # Randomly shuffle the indices\n",
        "    shuffled_indices = np.arange(num_interactions)\n",
        "    np.random.shuffle(shuffled_indices)\n",
        "\n",
        "    # Calculate the number of interactions for the training set\n",
        "    num_train_interactions = int(train_percentage * num_interactions)\n",
        "\n",
        "    # Split the indices into training and testing sets\n",
        "    train_indices = shuffled_indices[:num_train_interactions]\n",
        "    test_indices = shuffled_indices[num_train_interactions:]\n",
        "\n",
        "    # Create masks for indexing\n",
        "    train_mask = np.zeros(num_interactions, dtype=bool)\n",
        "    test_mask = np.zeros(num_interactions, dtype=bool)\n",
        "\n",
        "    train_mask[train_indices] = True\n",
        "    test_mask[test_indices] = True\n",
        "\n",
        "    # Extract values and create new matrices\n",
        "    train_data = urm.data[train_mask]\n",
        "    train_rows = non_zero_indices[0][train_mask]\n",
        "    train_cols = non_zero_indices[1][train_mask]\n",
        "\n",
        "    test_data = urm.data[test_mask]\n",
        "    test_rows = non_zero_indices[0][test_mask]\n",
        "    test_cols = non_zero_indices[1][test_mask]\n",
        "\n",
        "    # Create new matrices using the extracted values\n",
        "    train_urm = coo_matrix((train_data, (train_rows, train_cols)), shape=urm.shape).tocsr()\n",
        "    test_urm = coo_matrix((test_data, (test_rows, test_cols)), shape=urm.shape).tocsr()\n",
        "\n",
        "    return train_urm, test_urm\n"
      ]
    },
    {
      "cell_type": "markdown",
      "metadata": {},
      "source": [
        "Split the dataset into train and validation. We set the split to 0.8-0.2 as a standard. It's an hyperparameter: we should fine tune it."
      ]
    },
    {
      "cell_type": "code",
      "execution_count": 20,
      "metadata": {},
      "outputs": [],
      "source": [
        "# Assuming urm is your User-Item Interaction Matrix in csr_matrix format\n",
        "train_urm, test_urm = train_test_split_urm(urm_all, train_percentage=0.8, seed=42)"
      ]
    },
    {
      "cell_type": "markdown",
      "metadata": {
        "id": "92WEywJdQUku"
      },
      "source": [
        "-------------------------------------------------------------------------------"
      ]
    },
    {
      "cell_type": "markdown",
      "metadata": {},
      "source": [
        "# BRP implementation #1"
      ]
    },
    {
      "cell_type": "markdown",
      "metadata": {},
      "source": [
        "## Step 1: We create a dense similarity matrix, initialized as zero"
      ]
    },
    {
      "cell_type": "code",
      "execution_count": 23,
      "metadata": {},
      "outputs": [],
      "source": [
        "n_users, n_items = train_urm.shape"
      ]
    },
    {
      "cell_type": "code",
      "execution_count": 25,
      "metadata": {},
      "outputs": [
        {
          "data": {
            "text/plain": [
              "array([[0., 0., 0., ..., 0., 0., 0.],\n",
              "       [0., 0., 0., ..., 0., 0., 0.],\n",
              "       [0., 0., 0., ..., 0., 0., 0.],\n",
              "       ...,\n",
              "       [0., 0., 0., ..., 0., 0., 0.],\n",
              "       [0., 0., 0., ..., 0., 0., 0.],\n",
              "       [0., 0., 0., ..., 0., 0., 0.]], dtype=float32)"
            ]
          },
          "execution_count": 25,
          "metadata": {},
          "output_type": "execute_result"
        }
      ],
      "source": [
        "item_item_S = np.zeros((n_items, n_items), dtype = np.float32)\n",
        "item_item_S"
      ]
    },
    {
      "cell_type": "markdown",
      "metadata": {},
      "source": [
        "## Step 2: We sample a triplet\n",
        "\n",
        "#### Create a mask of positive interactions. How to build it depends on the data"
      ]
    },
    {
      "cell_type": "code",
      "execution_count": 27,
      "metadata": {},
      "outputs": [
        {
          "data": {
            "text/plain": [
              "<12638x22222 sparse matrix of type '<class 'numpy.float64'>'\n",
              "\twith 382984 stored elements in Compressed Sparse Row format>"
            ]
          },
          "execution_count": 27,
          "metadata": {},
          "output_type": "execute_result"
        }
      ],
      "source": [
        "URM_mask = train_urm.copy()\n",
        "URM_mask.data[URM_mask.data < 1.0] = 0\n",
        "\n",
        "URM_mask.eliminate_zeros()\n",
        "URM_mask"
      ]
    },
    {
      "cell_type": "code",
      "execution_count": 28,
      "metadata": {},
      "outputs": [
        {
          "data": {
            "text/plain": [
              "5762"
            ]
          },
          "execution_count": 28,
          "metadata": {},
          "output_type": "execute_result"
        }
      ],
      "source": [
        "user_id = np.random.choice(n_users)\n",
        "user_id"
      ]
    },
    {
      "cell_type": "markdown",
      "metadata": {},
      "source": [
        "### Get user seen items and choose one"
      ]
    },
    {
      "cell_type": "code",
      "execution_count": 29,
      "metadata": {},
      "outputs": [
        {
          "data": {
            "text/plain": [
              "array([   87,  1946,  2433,  3330,  5086,  6903, 11507, 15193, 15617,\n",
              "       16759, 20931])"
            ]
          },
          "execution_count": 29,
          "metadata": {},
          "output_type": "execute_result"
        }
      ],
      "source": [
        "user_seen_items = URM_mask.indices[URM_mask.indptr[user_id]:URM_mask.indptr[user_id+1]]\n",
        "user_seen_items"
      ]
    },
    {
      "cell_type": "code",
      "execution_count": 30,
      "metadata": {},
      "outputs": [
        {
          "data": {
            "text/plain": [
              "15193"
            ]
          },
          "execution_count": 30,
          "metadata": {},
          "output_type": "execute_result"
        }
      ],
      "source": [
        "pos_item_id = np.random.choice(user_seen_items)\n",
        "pos_item_id"
      ]
    },
    {
      "cell_type": "markdown",
      "metadata": {},
      "source": [
        "### To select a negative item it's faster to just try again then to build a mapping of the non-seen items"
      ]
    },
    {
      "cell_type": "code",
      "execution_count": 31,
      "metadata": {},
      "outputs": [
        {
          "data": {
            "text/plain": [
              "4972"
            ]
          },
          "execution_count": 31,
          "metadata": {},
          "output_type": "execute_result"
        }
      ],
      "source": [
        "neg_item_selected = False\n",
        "\n",
        "# It's faster to just try again then to build a mapping of the non-seen items\n",
        "while (not neg_item_selected):\n",
        "    neg_item_id = np.random.randint(0, n_items)\n",
        "\n",
        "    if (neg_item_id not in user_seen_items):\n",
        "        neg_item_selected = True\n",
        "\n",
        "neg_item_id"
      ]
    },
    {
      "cell_type": "markdown",
      "metadata": {},
      "source": [
        "## Step 2 - Computing prediction\n",
        "\n",
        "#### The prediction depends on the model: SLIM, Matrix Factorization... \n",
        "#### Note that here the data is implicit so we do not multiply for the user rating, because it is always 1, we just sum the similarities of the seen items."
      ]
    },
    {
      "cell_type": "code",
      "execution_count": 32,
      "metadata": {},
      "outputs": [
        {
          "name": "stdout",
          "output_type": "stream",
          "text": [
            "x_ui is 0.0000, x_uj is 0.0000\n"
          ]
        }
      ],
      "source": [
        "x_ui = item_item_S[pos_item_id, user_seen_items].sum()\n",
        "x_uj = item_item_S[neg_item_id, user_seen_items].sum()\n",
        "\n",
        "print(\"x_ui is {:.4f}, x_uj is {:.4f}\".format(x_ui, x_uj))"
      ]
    },
    {
      "cell_type": "markdown",
      "metadata": {},
      "source": [
        "## Step 3 - Computing gradient\n",
        "\n",
        "#### The gradient depends on the objective function: RMSE, BPR... "
      ]
    },
    {
      "cell_type": "code",
      "execution_count": 33,
      "metadata": {},
      "outputs": [
        {
          "data": {
            "text/plain": [
              "0.0"
            ]
          },
          "execution_count": 33,
          "metadata": {},
          "output_type": "execute_result"
        }
      ],
      "source": [
        "x_uij = x_ui - x_uj\n",
        "x_uij"
      ]
    },
    {
      "cell_type": "markdown",
      "metadata": {},
      "source": [
        "#### The original BPR paper uses the logarithm of the sigmoid of x_ij, whose derivative is the following"
      ]
    },
    {
      "cell_type": "code",
      "execution_count": 34,
      "metadata": {},
      "outputs": [
        {
          "data": {
            "text/plain": [
              "0.5"
            ]
          },
          "execution_count": 34,
          "metadata": {},
          "output_type": "execute_result"
        }
      ],
      "source": [
        "sigmoid_item = 1 / (1 + np.exp(x_uij))\n",
        "sigmoid_item"
      ]
    },
    {
      "cell_type": "markdown",
      "metadata": {},
      "source": [
        "## Step 4 - Update model\n",
        "\n",
        "#### How to update depends on the model itself, here we have just one paramether, the similarity matrix, so we perform just one update. In matrix factorization we have two.\n",
        "\n",
        "#### We need a learning rate, which influences how fast the model will change. Small ones lead to slower convergence but often higher results"
      ]
    },
    {
      "cell_type": "code",
      "execution_count": 35,
      "metadata": {},
      "outputs": [],
      "source": [
        "learning_rate = 1e-3\n",
        "\n",
        "item_item_S[pos_item_id, user_seen_items] += learning_rate * sigmoid_item\n",
        "item_item_S[pos_item_id, pos_item_id] = 0\n",
        "\n",
        "item_item_S[neg_item_id, user_seen_items] -= learning_rate * sigmoid_item\n",
        "item_item_S[neg_item_id, neg_item_id] = 0"
      ]
    },
    {
      "cell_type": "markdown",
      "metadata": {},
      "source": [
        "#### Usually there is no relevant change in the scores over a single iteration"
      ]
    },
    {
      "cell_type": "code",
      "execution_count": 37,
      "metadata": {},
      "outputs": [
        {
          "name": "stdout",
          "output_type": "stream",
          "text": [
            "x_i is 0.0050, x_j is -0.0055\n"
          ]
        }
      ],
      "source": [
        "x_i = item_item_S[pos_item_id, user_seen_items].sum()\n",
        "x_j = item_item_S[neg_item_id, user_seen_items].sum()\n",
        "\n",
        "print(\"x_i is {:.4f}, x_j is {:.4f}\".format(x_i, x_j))"
      ]
    },
    {
      "cell_type": "markdown",
      "metadata": {},
      "source": [
        "## Now we put everything in a training loop"
      ]
    },
    {
      "cell_type": "code",
      "execution_count": 38,
      "metadata": {},
      "outputs": [],
      "source": [
        "def sample_triplet():\n",
        "    \n",
        "    non_empty_user = False\n",
        "    \n",
        "    while not non_empty_user:\n",
        "        user_id = np.random.choice(n_users)\n",
        "        user_seen_items = URM_mask.indices[URM_mask.indptr[user_id]:URM_mask.indptr[user_id+1]]\n",
        "        \n",
        "        if len(user_seen_items)>0:\n",
        "            non_empty_user = True\n",
        "\n",
        "    pos_item_id = np.random.choice(user_seen_items)\n",
        "\n",
        "    neg_item_selected = False\n",
        "\n",
        "    # It's faster to just try again then to build a mapping of the non-seen items\n",
        "    while (not neg_item_selected):\n",
        "        neg_item_id = np.random.randint(0, n_items)\n",
        "\n",
        "        if (neg_item_id not in user_seen_items):\n",
        "            neg_item_selected = True\n",
        "\n",
        "    return user_id, pos_item_id, neg_item_id    "
      ]
    },
    {
      "cell_type": "code",
      "execution_count": 39,
      "metadata": {},
      "outputs": [],
      "source": [
        "def train_one_epoch(item_item_S, learning_rate):\n",
        "\n",
        "    start_time = time.time()\n",
        "    for sample_num in range(n_users):\n",
        "\n",
        "        # Sample triplet\n",
        "        user_id, pos_item_id, neg_item_id = sample_triplet()\n",
        "        \n",
        "        user_seen_items = URM_mask.indices[URM_mask.indptr[user_id]:URM_mask.indptr[user_id+1]]\n",
        "\n",
        "        # Prediction\n",
        "        x_ui = item_item_S[pos_item_id, user_seen_items].sum()\n",
        "        x_uj = item_item_S[neg_item_id, user_seen_items].sum()\n",
        "        \n",
        "        # Gradient\n",
        "        x_uij = x_ui - x_uj\n",
        "\n",
        "        sigmoid_item = 1 / (1 + np.exp(x_uij))\n",
        "        \n",
        "        # Update\n",
        "        item_item_S[pos_item_id, user_seen_items] += learning_rate * sigmoid_item\n",
        "        item_item_S[pos_item_id, pos_item_id] = 0\n",
        "\n",
        "        item_item_S[neg_item_id, user_seen_items] -= learning_rate * sigmoid_item\n",
        "        item_item_S[neg_item_id, neg_item_id] = 0\n",
        "\n",
        "        # Print some stats\n",
        "        if (sample_num +1)% 50000 == 0 or (sample_num +1) == n_users:\n",
        "            elapsed_time = time.time() - start_time\n",
        "            samples_per_second = (sample_num +1)/elapsed_time\n",
        "            print(\"Iteration {} in {:.2f} seconds. Samples per second {:.2f}\".format(sample_num+1, elapsed_time, samples_per_second))\n",
        "         \n",
        "            \n",
        "    return item_item_S, samples_per_second"
      ]
    },
    {
      "cell_type": "code",
      "execution_count": 43,
      "metadata": {},
      "outputs": [
        {
          "name": "stdout",
          "output_type": "stream",
          "text": [
            "Iteration 12638 in 2.81 seconds. Samples per second 4505.19\n",
            "Iteration 12638 in 2.99 seconds. Samples per second 4226.43\n",
            "Iteration 12638 in 2.86 seconds. Samples per second 4415.45\n",
            "Iteration 12638 in 2.81 seconds. Samples per second 4493.56\n",
            "Iteration 12638 in 2.35 seconds. Samples per second 5372.89\n"
          ]
        }
      ],
      "source": [
        "learning_rate = 1e-6\n",
        "    \n",
        "item_item_S = np.zeros((n_items, n_items), dtype = np.float32)\n",
        "\n",
        "for n_epoch in range(5):\n",
        "    item_item_S, samples_per_second = train_one_epoch(item_item_S, learning_rate)"
      ]
    },
    {
      "cell_type": "code",
      "execution_count": 44,
      "metadata": {},
      "outputs": [
        {
          "name": "stdout",
          "output_type": "stream",
          "text": [
            "Estimated time with the previous training speed is 14889.55 seconds, or 248.16 minutes\n"
          ]
        }
      ],
      "source": [
        "estimated_seconds = 8e6 * 10 / samples_per_second\n",
        "print(\"Estimated time with the previous training speed is {:.2f} seconds, or {:.2f} minutes\".format(estimated_seconds, estimated_seconds/60))"
      ]
    },
    {
      "cell_type": "markdown",
      "metadata": {},
      "source": [
        "---"
      ]
    },
    {
      "cell_type": "markdown",
      "metadata": {},
      "source": [
        "# BPR for MF"
      ]
    },
    {
      "cell_type": "markdown",
      "metadata": {},
      "source": [
        "### What do we need for BPRMF?\n",
        "\n",
        "* User factor and Item factor matrices\n",
        "* Computing prediction\n",
        "* Update rule\n",
        "* Training loop and some patience"
      ]
    },
    {
      "cell_type": "markdown",
      "metadata": {},
      "source": [
        "## Step 1: We create the dense latent factor matrices"
      ]
    },
    {
      "cell_type": "code",
      "execution_count": 46,
      "metadata": {},
      "outputs": [],
      "source": [
        "num_factors = 10\n",
        "\n",
        "user_factors = np.random.random((n_users, num_factors))\n",
        "item_factors = np.random.random((n_items, num_factors))"
      ]
    },
    {
      "cell_type": "code",
      "execution_count": 47,
      "metadata": {},
      "outputs": [
        {
          "data": {
            "text/plain": [
              "array([[0.33265496, 0.46135691, 0.13712645, ..., 0.87134154, 0.51632778,\n",
              "        0.16276541],\n",
              "       [0.35773688, 0.53660301, 0.63453869, ..., 0.57485346, 0.30774007,\n",
              "        0.47227938],\n",
              "       [0.74147919, 0.42810152, 0.28685689, ..., 0.74410532, 0.87663233,\n",
              "        0.11340114],\n",
              "       ...,\n",
              "       [0.89671821, 0.0914848 , 0.98283967, ..., 0.39069518, 0.73609471,\n",
              "        0.98083937],\n",
              "       [0.26721836, 0.0554383 , 0.93551587, ..., 0.86695942, 0.04400127,\n",
              "        0.81796045],\n",
              "       [0.63857667, 0.93340402, 0.40422246, ..., 0.68182548, 0.86021713,\n",
              "        0.62757575]])"
            ]
          },
          "execution_count": 47,
          "metadata": {},
          "output_type": "execute_result"
        }
      ],
      "source": [
        "user_factors"
      ]
    },
    {
      "cell_type": "code",
      "execution_count": 48,
      "metadata": {},
      "outputs": [
        {
          "data": {
            "text/plain": [
              "array([[0.36511249, 0.59567211, 0.47673196, ..., 0.71778639, 0.98414289,\n",
              "        0.39063499],\n",
              "       [0.29574783, 0.30495207, 0.51009617, ..., 0.13274052, 0.34374374,\n",
              "        0.01170671],\n",
              "       [0.92824869, 0.8915113 , 0.71124745, ..., 0.72666796, 0.61929917,\n",
              "        0.43411906],\n",
              "       ...,\n",
              "       [0.5940921 , 0.21940876, 0.99822777, ..., 0.93599639, 0.58309985,\n",
              "        0.11041542],\n",
              "       [0.5447615 , 0.55836027, 0.01468073, ..., 0.36864283, 0.5133718 ,\n",
              "        0.93665372],\n",
              "       [0.17466332, 0.10995398, 0.5706645 , ..., 0.96265034, 0.50723536,\n",
              "        0.50152942]])"
            ]
          },
          "execution_count": 48,
          "metadata": {},
          "output_type": "execute_result"
        }
      ],
      "source": [
        "item_factors"
      ]
    },
    {
      "cell_type": "markdown",
      "metadata": {},
      "source": [
        "## Step 2 - Computing prediction"
      ]
    },
    {
      "cell_type": "code",
      "execution_count": 49,
      "metadata": {},
      "outputs": [
        {
          "data": {
            "text/plain": [
              "(11678, 5521, 14869)"
            ]
          },
          "execution_count": 49,
          "metadata": {},
          "output_type": "execute_result"
        }
      ],
      "source": [
        "user_id, pos_item_id, neg_item_id = sample_triplet()\n",
        "(user_id, pos_item_id, neg_item_id)"
      ]
    },
    {
      "cell_type": "code",
      "execution_count": 50,
      "metadata": {},
      "outputs": [
        {
          "name": "stdout",
          "output_type": "stream",
          "text": [
            "x_ui is 2.5084, x_uj is 2.5521\n"
          ]
        }
      ],
      "source": [
        "x_ui = np.dot(user_factors[user_id,:], item_factors[pos_item_id,:])\n",
        "x_uj = np.dot(user_factors[user_id,:], item_factors[neg_item_id,:])\n",
        "\n",
        "print(\"x_ui is {:.4f}, x_uj is {:.4f}\".format(x_ui, x_uj))"
      ]
    },
    {
      "cell_type": "markdown",
      "metadata": {},
      "source": [
        "## Step 3 - Computing gradient"
      ]
    },
    {
      "cell_type": "code",
      "execution_count": 51,
      "metadata": {},
      "outputs": [
        {
          "data": {
            "text/plain": [
              "-0.043676931128342034"
            ]
          },
          "execution_count": 51,
          "metadata": {},
          "output_type": "execute_result"
        }
      ],
      "source": [
        "x_uij = x_ui - x_uj\n",
        "x_uij"
      ]
    },
    {
      "cell_type": "code",
      "execution_count": 52,
      "metadata": {},
      "outputs": [
        {
          "data": {
            "text/plain": [
              "0.5109174972515096"
            ]
          },
          "execution_count": 52,
          "metadata": {},
          "output_type": "execute_result"
        }
      ],
      "source": [
        "sigmoid_item = 1 / (1 + np.exp(x_uij))\n",
        "sigmoid_item"
      ]
    },
    {
      "cell_type": "markdown",
      "metadata": {},
      "source": [
        "## Step 4 - Update model"
      ]
    },
    {
      "cell_type": "code",
      "execution_count": 53,
      "metadata": {},
      "outputs": [],
      "source": [
        "regularization = 1e-4\n",
        "learning_rate = 1e-2\n",
        "\n",
        "H_i = item_factors[pos_item_id,:]\n",
        "H_j = item_factors[neg_item_id,:]\n",
        "W_u = user_factors[user_id,:]\n",
        "\n",
        "\n",
        "user_factors[user_id,:] += learning_rate * (sigmoid_item * ( H_i - H_j ) - regularization * W_u)\n",
        "item_factors[pos_item_id,:] += learning_rate * (sigmoid_item * ( W_u ) - regularization * H_i)\n",
        "item_factors[neg_item_id,:] += learning_rate * (sigmoid_item * (-W_u ) - regularization * H_j)"
      ]
    },
    {
      "cell_type": "code",
      "execution_count": 54,
      "metadata": {},
      "outputs": [
        {
          "name": "stdout",
          "output_type": "stream",
          "text": [
            "x_i is 2.5345, x_j is 2.5260\n"
          ]
        }
      ],
      "source": [
        "x_ui = np.dot(user_factors[user_id,:], item_factors[pos_item_id,:])\n",
        "x_uj = np.dot(user_factors[user_id,:], item_factors[neg_item_id,:])\n",
        "\n",
        "print(\"x_i is {:.4f}, x_j is {:.4f}\".format(x_ui, x_uj))"
      ]
    },
    {
      "cell_type": "code",
      "execution_count": 55,
      "metadata": {},
      "outputs": [
        {
          "data": {
            "text/plain": [
              "0.008518594277170166"
            ]
          },
          "execution_count": 55,
          "metadata": {},
          "output_type": "execute_result"
        }
      ],
      "source": [
        "x_uij = x_ui - x_uj\n",
        "x_uij"
      ]
    },
    {
      "cell_type": "code",
      "execution_count": 56,
      "metadata": {},
      "outputs": [],
      "source": [
        "def train_one_epoch(user_factors, item_factors, learning_rate):\n",
        "\n",
        "    start_time = time.time()\n",
        "    for sample_num in range(n_users):\n",
        "\n",
        "        # Sample triplet\n",
        "        user_id, pos_item_id, neg_item_id = sample_triplet()\n",
        "        \n",
        "        # Prediction\n",
        "        x_ui = np.dot(user_factors[user_id,:], item_factors[pos_item_id,:])\n",
        "        x_uj = np.dot(user_factors[user_id,:], item_factors[neg_item_id,:])\n",
        "        \n",
        "        # Gradient\n",
        "        x_uij = x_ui - x_uj\n",
        "\n",
        "        sigmoid_item = 1 / (1 + np.exp(x_uij))\n",
        "                \n",
        "        H_i = item_factors[pos_item_id,:]\n",
        "        H_j = item_factors[neg_item_id,:]\n",
        "        W_u = user_factors[user_id,:]\n",
        "\n",
        "\n",
        "        user_factors[user_id,:] += learning_rate * (sigmoid_item * ( H_i - H_j ) - regularization * W_u)\n",
        "        item_factors[pos_item_id,:] += learning_rate * (sigmoid_item * ( W_u ) - regularization * H_i)\n",
        "        item_factors[neg_item_id,:] += learning_rate * (sigmoid_item * (-W_u ) - regularization * H_j)\n",
        "\n",
        "        # Print some stats\n",
        "        if (sample_num +1)% 50000 == 0 or (sample_num +1) == n_users:\n",
        "            elapsed_time = time.time() - start_time\n",
        "            samples_per_second = (sample_num +1)/elapsed_time\n",
        "            print(\"Iteration {} in {:.2f} seconds. Samples per second {:.2f}\".format(sample_num+1, elapsed_time, samples_per_second))\n",
        "        \n",
        "    return user_factors, item_factors, samples_per_second"
      ]
    },
    {
      "cell_type": "code",
      "execution_count": 57,
      "metadata": {},
      "outputs": [
        {
          "name": "stdout",
          "output_type": "stream",
          "text": [
            "Iteration 12638 in 2.17 seconds. Samples per second 5823.50\n",
            "Iteration 12638 in 2.50 seconds. Samples per second 5058.89\n",
            "Iteration 12638 in 2.45 seconds. Samples per second 5160.08\n",
            "Iteration 12638 in 2.20 seconds. Samples per second 5754.53\n",
            "Iteration 12638 in 2.04 seconds. Samples per second 6190.88\n"
          ]
        }
      ],
      "source": [
        "learning_rate = 1e-6\n",
        "num_factors = 10\n",
        "\n",
        "user_factors = np.random.random((n_users, num_factors))\n",
        "item_factors = np.random.random((n_items, num_factors))\n",
        "\n",
        "for n_epoch in range(5):\n",
        "    user_factors, item_factors, samples_per_second = train_one_epoch(user_factors, item_factors, learning_rate)"
      ]
    },
    {
      "cell_type": "code",
      "execution_count": 60,
      "metadata": {},
      "outputs": [
        {
          "data": {
            "text/plain": [
              "2.5344849765745803"
            ]
          },
          "execution_count": 60,
          "metadata": {},
          "output_type": "execute_result"
        }
      ],
      "source": [
        "x_ui"
      ]
    },
    {
      "cell_type": "markdown",
      "metadata": {},
      "source": [
        "---"
      ]
    },
    {
      "cell_type": "markdown",
      "metadata": {},
      "source": [
        "# Predictions"
      ]
    },
    {
      "cell_type": "code",
      "execution_count": 64,
      "metadata": {},
      "outputs": [
        {
          "name": "stdout",
          "output_type": "stream",
          "text": [
            "Prediction for user 0 and item 1: 3.132971946898877\n"
          ]
        }
      ],
      "source": [
        "# After training, you can use the learned user and item factors for making predictions\n",
        "# For example, to predict the score for a specific user and item:\n",
        "user_id = 0\n",
        "item_id = 1\n",
        "prediction = np.dot(user_factors[user_id, :], item_factors[item_id, :])\n",
        "print(f\"Prediction for user {user_id} and item {item_id}: {prediction}\")"
      ]
    }
  ],
  "metadata": {
    "colab": {
      "provenance": []
    },
    "kernelspec": {
      "display_name": "Python 3",
      "name": "python3"
    },
    "language_info": {
      "codemirror_mode": {
        "name": "ipython",
        "version": 3
      },
      "file_extension": ".py",
      "mimetype": "text/x-python",
      "name": "python",
      "nbconvert_exporter": "python",
      "pygments_lexer": "ipython3",
      "version": "3.8.18"
    }
  },
  "nbformat": 4,
  "nbformat_minor": 0
}
