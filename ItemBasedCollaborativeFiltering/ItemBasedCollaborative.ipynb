{
  "cells": [
    {
      "cell_type": "code",
      "execution_count": 1,
      "metadata": {
        "id": "TdBpmeqSyZ0W"
      },
      "outputs": [],
      "source": [
        "import pandas as pd\n",
        "import numpy as np\n",
        "import scipy.sparse as sps\n",
        "\n",
        "from scipy.sparse import *"
      ]
    },
    {
      "cell_type": "markdown",
      "metadata": {
        "id": "BL53ZQ4rm-IV"
      },
      "source": [
        "Content Based recommender for competion data\n"
      ]
    },
    {
      "cell_type": "code",
      "execution_count": 2,
      "metadata": {
        "id": "D6wm0tQmgeYZ"
      },
      "outputs": [],
      "source": [
        "urm_path = '../content/data_train.csv'\n",
        "\n",
        "urm_all_df = pd.read_csv(filepath_or_buffer=urm_path,\n",
        "                                sep=\",\",\n",
        "                                header=0,\n",
        "                                dtype={0:int, 1:int, 2:float},\n",
        "                                engine='python')\n",
        "\n",
        "urm_all_df.columns = [\"UserID\", \"ItemID\", \"Interaction\"]"
      ]
    },
    {
      "cell_type": "code",
      "execution_count": 3,
      "metadata": {
        "colab": {
          "base_uri": "https://localhost:8080/",
          "height": 363
        },
        "id": "-QIVaUitoOkR",
        "outputId": "637ddc50-492e-4310-ce72-8abf5df551dc"
      },
      "outputs": [
        {
          "data": {
            "text/html": [
              "<div>\n",
              "<style scoped>\n",
              "    .dataframe tbody tr th:only-of-type {\n",
              "        vertical-align: middle;\n",
              "    }\n",
              "\n",
              "    .dataframe tbody tr th {\n",
              "        vertical-align: top;\n",
              "    }\n",
              "\n",
              "    .dataframe thead th {\n",
              "        text-align: right;\n",
              "    }\n",
              "</style>\n",
              "<table border=\"1\" class=\"dataframe\">\n",
              "  <thead>\n",
              "    <tr style=\"text-align: right;\">\n",
              "      <th></th>\n",
              "      <th>UserID</th>\n",
              "      <th>ItemID</th>\n",
              "      <th>Interaction</th>\n",
              "    </tr>\n",
              "  </thead>\n",
              "  <tbody>\n",
              "    <tr>\n",
              "      <th>0</th>\n",
              "      <td>1</td>\n",
              "      <td>7</td>\n",
              "      <td>1.0</td>\n",
              "    </tr>\n",
              "    <tr>\n",
              "      <th>1</th>\n",
              "      <td>1</td>\n",
              "      <td>15</td>\n",
              "      <td>1.0</td>\n",
              "    </tr>\n",
              "    <tr>\n",
              "      <th>2</th>\n",
              "      <td>1</td>\n",
              "      <td>16</td>\n",
              "      <td>1.0</td>\n",
              "    </tr>\n",
              "    <tr>\n",
              "      <th>3</th>\n",
              "      <td>1</td>\n",
              "      <td>133</td>\n",
              "      <td>1.0</td>\n",
              "    </tr>\n",
              "    <tr>\n",
              "      <th>4</th>\n",
              "      <td>1</td>\n",
              "      <td>161</td>\n",
              "      <td>1.0</td>\n",
              "    </tr>\n",
              "    <tr>\n",
              "      <th>5</th>\n",
              "      <td>1</td>\n",
              "      <td>187</td>\n",
              "      <td>1.0</td>\n",
              "    </tr>\n",
              "    <tr>\n",
              "      <th>6</th>\n",
              "      <td>1</td>\n",
              "      <td>205</td>\n",
              "      <td>1.0</td>\n",
              "    </tr>\n",
              "    <tr>\n",
              "      <th>7</th>\n",
              "      <td>1</td>\n",
              "      <td>222</td>\n",
              "      <td>1.0</td>\n",
              "    </tr>\n",
              "    <tr>\n",
              "      <th>8</th>\n",
              "      <td>1</td>\n",
              "      <td>237</td>\n",
              "      <td>1.0</td>\n",
              "    </tr>\n",
              "    <tr>\n",
              "      <th>9</th>\n",
              "      <td>1</td>\n",
              "      <td>354</td>\n",
              "      <td>1.0</td>\n",
              "    </tr>\n",
              "  </tbody>\n",
              "</table>\n",
              "</div>"
            ],
            "text/plain": [
              "   UserID  ItemID  Interaction\n",
              "0       1       7          1.0\n",
              "1       1      15          1.0\n",
              "2       1      16          1.0\n",
              "3       1     133          1.0\n",
              "4       1     161          1.0\n",
              "5       1     187          1.0\n",
              "6       1     205          1.0\n",
              "7       1     222          1.0\n",
              "8       1     237          1.0\n",
              "9       1     354          1.0"
            ]
          },
          "execution_count": 3,
          "metadata": {},
          "output_type": "execute_result"
        }
      ],
      "source": [
        "urm_all_df.head(10)"
      ]
    },
    {
      "cell_type": "code",
      "execution_count": 4,
      "metadata": {
        "colab": {
          "base_uri": "https://localhost:8080/"
        },
        "id": "KQWSAcheqshX",
        "outputId": "2f61be53-0557-416a-bcb3-dabd6a694946"
      },
      "outputs": [
        {
          "name": "stdout",
          "output_type": "stream",
          "text": [
            "The number of interactions is 478730\n"
          ]
        }
      ],
      "source": [
        "print (\"The number of interactions is {}\".format(len(urm_all_df)))"
      ]
    },
    {
      "cell_type": "code",
      "execution_count": 5,
      "metadata": {
        "colab": {
          "base_uri": "https://localhost:8080/"
        },
        "id": "G4_qvlxCq0mj",
        "outputId": "d8ff5376-fc99-4f36-d8dc-e3bc89b0eeec"
      },
      "outputs": [
        {
          "name": "stdout",
          "output_type": "stream",
          "text": [
            "Number of items\t 22222, Number of users\t 12638\n",
            "Max ID items\t 22347, Max Id users\t 13024\n",
            "\n"
          ]
        }
      ],
      "source": [
        "userID_unique = urm_all_df[\"UserID\"].unique()\n",
        "itemID_unique = urm_all_df[\"ItemID\"].unique()\n",
        "\n",
        "n_users = len(userID_unique)\n",
        "n_items = len(itemID_unique)\n",
        "n_interactions = len(urm_all_df)\n",
        "\n",
        "print (\"Number of items\\t {}, Number of users\\t {}\".format(n_items, n_users))\n",
        "print (\"Max ID items\\t {}, Max Id users\\t {}\\n\".format(max(itemID_unique), max(userID_unique)))"
      ]
    },
    {
      "cell_type": "code",
      "execution_count": 6,
      "metadata": {
        "colab": {
          "base_uri": "https://localhost:8080/",
          "height": 380
        },
        "id": "eyAqbK_5rDuy",
        "outputId": "1ee4e7ce-c801-44ef-cf5d-01c10ef5f4e1"
      },
      "outputs": [
        {
          "name": "stdout",
          "output_type": "stream",
          "text": [
            "New index for item 125 is 93\n"
          ]
        },
        {
          "data": {
            "text/html": [
              "<div>\n",
              "<style scoped>\n",
              "    .dataframe tbody tr th:only-of-type {\n",
              "        vertical-align: middle;\n",
              "    }\n",
              "\n",
              "    .dataframe tbody tr th {\n",
              "        vertical-align: top;\n",
              "    }\n",
              "\n",
              "    .dataframe thead th {\n",
              "        text-align: right;\n",
              "    }\n",
              "</style>\n",
              "<table border=\"1\" class=\"dataframe\">\n",
              "  <thead>\n",
              "    <tr style=\"text-align: right;\">\n",
              "      <th></th>\n",
              "      <th>UserID</th>\n",
              "      <th>ItemID</th>\n",
              "      <th>Interaction</th>\n",
              "    </tr>\n",
              "  </thead>\n",
              "  <tbody>\n",
              "    <tr>\n",
              "      <th>0</th>\n",
              "      <td>0</td>\n",
              "      <td>0</td>\n",
              "      <td>1.0</td>\n",
              "    </tr>\n",
              "    <tr>\n",
              "      <th>1</th>\n",
              "      <td>0</td>\n",
              "      <td>1</td>\n",
              "      <td>1.0</td>\n",
              "    </tr>\n",
              "    <tr>\n",
              "      <th>2</th>\n",
              "      <td>0</td>\n",
              "      <td>2</td>\n",
              "      <td>1.0</td>\n",
              "    </tr>\n",
              "    <tr>\n",
              "      <th>3</th>\n",
              "      <td>0</td>\n",
              "      <td>3</td>\n",
              "      <td>1.0</td>\n",
              "    </tr>\n",
              "    <tr>\n",
              "      <th>4</th>\n",
              "      <td>0</td>\n",
              "      <td>4</td>\n",
              "      <td>1.0</td>\n",
              "    </tr>\n",
              "    <tr>\n",
              "      <th>5</th>\n",
              "      <td>0</td>\n",
              "      <td>5</td>\n",
              "      <td>1.0</td>\n",
              "    </tr>\n",
              "    <tr>\n",
              "      <th>6</th>\n",
              "      <td>0</td>\n",
              "      <td>6</td>\n",
              "      <td>1.0</td>\n",
              "    </tr>\n",
              "    <tr>\n",
              "      <th>7</th>\n",
              "      <td>0</td>\n",
              "      <td>7</td>\n",
              "      <td>1.0</td>\n",
              "    </tr>\n",
              "    <tr>\n",
              "      <th>8</th>\n",
              "      <td>0</td>\n",
              "      <td>8</td>\n",
              "      <td>1.0</td>\n",
              "    </tr>\n",
              "    <tr>\n",
              "      <th>9</th>\n",
              "      <td>0</td>\n",
              "      <td>9</td>\n",
              "      <td>1.0</td>\n",
              "    </tr>\n",
              "  </tbody>\n",
              "</table>\n",
              "</div>"
            ],
            "text/plain": [
              "   UserID  ItemID  Interaction\n",
              "0       0       0          1.0\n",
              "1       0       1          1.0\n",
              "2       0       2          1.0\n",
              "3       0       3          1.0\n",
              "4       0       4          1.0\n",
              "5       0       5          1.0\n",
              "6       0       6          1.0\n",
              "7       0       7          1.0\n",
              "8       0       8          1.0\n",
              "9       0       9          1.0"
            ]
          },
          "execution_count": 6,
          "metadata": {},
          "output_type": "execute_result"
        }
      ],
      "source": [
        "# Remove empty IDs\n",
        "mapped_id, original_id = pd.factorize(urm_all_df[\"UserID\"].unique())\n",
        "user_original_ID_to_index = pd.Series(mapped_id, index=original_id)\n",
        "\n",
        "mapped_id, original_id = pd.factorize(urm_all_df[\"ItemID\"].unique())\n",
        "item_original_ID_to_index = pd.Series(mapped_id, index=original_id)\n",
        "\n",
        "original_item_ID = 125\n",
        "print(\"New index for item {} is {}\".format(original_item_ID, item_original_ID_to_index[original_item_ID]))\n",
        "\n",
        "\n",
        "urm_all_df[\"UserID\"] = urm_all_df[\"UserID\"].map(user_original_ID_to_index)\n",
        "urm_all_df[\"ItemID\"] = urm_all_df[\"ItemID\"].map(item_original_ID_to_index)\n",
        "urm_all_df.head(n=10)"
      ]
    },
    {
      "cell_type": "code",
      "execution_count": 7,
      "metadata": {
        "colab": {
          "base_uri": "https://localhost:8080/"
        },
        "id": "dD663Pajrych",
        "outputId": "39c2b618-0f4b-492c-fd2b-bc4dc282ea96"
      },
      "outputs": [
        {
          "name": "stdout",
          "output_type": "stream",
          "text": [
            "Number of items\t 22222, Number of users\t 12638\n",
            "Max ID items\t 22221, Max Id users\t 12637\n",
            "\n",
            "Average interactions per user 37.88\n",
            "Average interactions per item 21.54\n",
            "\n",
            "Sparsity 99.83 %\n"
          ]
        }
      ],
      "source": [
        "userID_unique = urm_all_df[\"UserID\"].unique()\n",
        "itemID_unique = urm_all_df[\"ItemID\"].unique()\n",
        "\n",
        "n_users = len(userID_unique)\n",
        "n_items = len(itemID_unique)\n",
        "n_interactions = len(urm_all_df)\n",
        "\n",
        "print (\"Number of items\\t {}, Number of users\\t {}\".format(n_items, n_users))\n",
        "print (\"Max ID items\\t {}, Max Id users\\t {}\\n\".format(max(itemID_unique), max(userID_unique)))\n",
        "print (\"Average interactions per user {:.2f}\".format(n_interactions/n_users))\n",
        "print (\"Average interactions per item {:.2f}\\n\".format(n_interactions/n_items))\n",
        "\n",
        "print (\"Sparsity {:.2f} %\".format((1-float(n_interactions)/(n_items*n_users))*100))"
      ]
    },
    {
      "cell_type": "code",
      "execution_count": 8,
      "metadata": {
        "colab": {
          "base_uri": "https://localhost:8080/"
        },
        "id": "wiHOrfUYsOB2",
        "outputId": "7c8017d7-5af6-4e8b-fcba-b700ae78cdb2"
      },
      "outputs": [
        {
          "data": {
            "text/plain": [
              "<12638x22222 sparse matrix of type '<class 'numpy.float64'>'\n",
              "\twith 478730 stored elements in COOrdinate format>"
            ]
          },
          "execution_count": 8,
          "metadata": {},
          "output_type": "execute_result"
        }
      ],
      "source": [
        "urm_all = sps.coo_matrix((urm_all_df[\"Interaction\"].values,\n",
        "                          (urm_all_df[\"UserID\"].values, urm_all_df[\"ItemID\"].values)))\n",
        "\n",
        "urm_all"
      ]
    },
    {
      "cell_type": "code",
      "execution_count": 9,
      "metadata": {
        "colab": {
          "base_uri": "https://localhost:8080/"
        },
        "id": "TUnLJs1Pswnu",
        "outputId": "334ac634-ec55-43d7-b2a0-c28e83d8d1f2"
      },
      "outputs": [
        {
          "data": {
            "text/plain": [
              "<12638x22222 sparse matrix of type '<class 'numpy.float64'>'\n",
              "\twith 478730 stored elements in Compressed Sparse Row format>"
            ]
          },
          "execution_count": 9,
          "metadata": {},
          "output_type": "execute_result"
        }
      ],
      "source": [
        "urm_all.tocsr()"
      ]
    },
    {
      "cell_type": "markdown",
      "metadata": {
        "id": "uF_z55vHtPT2"
      },
      "source": [
        "**The distribution of item popularities**\n"
      ]
    },
    {
      "cell_type": "code",
      "execution_count": 10,
      "metadata": {
        "colab": {
          "base_uri": "https://localhost:8080/",
          "height": 449
        },
        "id": "g9QcKA4Zs0YB",
        "outputId": "5ba68e15-314b-450f-ec44-8073b596652f"
      },
      "outputs": [
        {
          "data": {
            "image/png": "[encoded data removed]",
            "text/plain": [
              "<Figure size 640x480 with 1 Axes>"
            ]
          },
          "metadata": {},
          "output_type": "display_data"
        }
      ],
      "source": [
        "from matplotlib import pyplot\n",
        "\n",
        "item_popularity = np.ediff1d(urm_all.tocsc().indptr)\n",
        "\n",
        "item_popularity = np.sort(item_popularity)\n",
        "\n",
        "pyplot.plot(item_popularity, 'ro')\n",
        "pyplot.ylabel('Num Interactions ')\n",
        "pyplot.xlabel('Sorted Item')\n",
        "pyplot.show()"
      ]
    },
    {
      "cell_type": "code",
      "execution_count": 11,
      "metadata": {
        "colab": {
          "base_uri": "https://localhost:8080/"
        },
        "id": "NWOs09lKtNq5",
        "outputId": "0ddef00c-d2e7-499f-96a3-2c7ef7f7d499"
      },
      "outputs": [
        {
          "name": "stdout",
          "output_type": "stream",
          "text": [
            "Average per-item interactions over the whole dataset 21.54\n",
            "Average per-item interactions for the top 10% popular items 122.73\n",
            "Average per-item interactions for the least 10% popular items 2.35\n",
            "Average per-item interactions for the median 10% popular items 8.37\n",
            "Number of items with zero interactions 0\n"
          ]
        }
      ],
      "source": [
        "ten_percent = int(n_items/10)\n",
        "\n",
        "print(\"Average per-item interactions over the whole dataset {:.2f}\".\n",
        "      format(item_popularity.mean()))\n",
        "\n",
        "print(\"Average per-item interactions for the top 10% popular items {:.2f}\".\n",
        "      format(item_popularity[-ten_percent:].mean()))\n",
        "\n",
        "print(\"Average per-item interactions for the least 10% popular items {:.2f}\".\n",
        "      format(item_popularity[:ten_percent].mean()))\n",
        "\n",
        "print(\"Average per-item interactions for the median 10% popular items {:.2f}\".\n",
        "      format(item_popularity[int(n_items*0.45):int(n_items*0.55)].mean()))\n",
        "\n",
        "print(\"Number of items with zero interactions {}\".\n",
        "      format(np.sum(item_popularity==0)))"
      ]
    },
    {
      "cell_type": "markdown",
      "metadata": {
        "id": "xfKNJa1mt1zZ"
      },
      "source": [
        "**The distribution of user activity**"
      ]
    },
    {
      "cell_type": "code",
      "execution_count": 12,
      "metadata": {
        "colab": {
          "base_uri": "https://localhost:8080/",
          "height": 450
        },
        "id": "0iIvw5qXtiGT",
        "outputId": "5dc845b1-fcb7-4e56-a980-f7ae34810a59"
      },
      "outputs": [
        {
          "data": {
            "image/png": "[encoded data removed]",
            "text/plain": [
              "<Figure size 640x480 with 1 Axes>"
            ]
          },
          "metadata": {},
          "output_type": "display_data"
        }
      ],
      "source": [
        "user_activity = np.ediff1d(urm_all.tocsr().indptr)\n",
        "user_activity = np.sort(user_activity)\n",
        "\n",
        "\n",
        "pyplot.plot(user_activity, 'ro')\n",
        "pyplot.ylabel('Num Interactions ')\n",
        "pyplot.xlabel('Sorted User')\n",
        "pyplot.show()"
      ]
    },
    {
      "cell_type": "code",
      "execution_count": 13,
      "metadata": {
        "colab": {
          "base_uri": "https://localhost:8080/"
        },
        "id": "yYge9ECZt-y5",
        "outputId": "c198edf1-62af-4777-a322-1f615857d41a"
      },
      "outputs": [
        {
          "name": "stdout",
          "output_type": "stream",
          "text": [
            "Average per-user interactions over the whole dataset 37.88\n",
            "Average per-user interactions for the top 10% popular items 129.63\n",
            "Average per-user interactions for the least 10% popular items 1.88\n",
            "Average per-user interactions for the median 10% popular items 91.34\n",
            "Number of user with zero interactions 0\n"
          ]
        }
      ],
      "source": [
        "ten_percent = int(n_items/10)\n",
        "\n",
        "print(\"Average per-user interactions over the whole dataset {:.2f}\".\n",
        "      format(user_activity.mean()))\n",
        "\n",
        "print(\"Average per-user interactions for the top 10% popular items {:.2f}\".\n",
        "      format(user_activity[-ten_percent:].mean()))\n",
        "\n",
        "print(\"Average per-user interactions for the least 10% popular items {:.2f}\".\n",
        "      format(user_activity[:ten_percent].mean()))\n",
        "\n",
        "print(\"Average per-user interactions for the median 10% popular items {:.2f}\".\n",
        "      format(user_activity[int(n_items*0.45):int(n_items*0.55)].mean()))\n",
        "\n",
        "print(\"Number of user with zero interactions {}\".\n",
        "      format(np.sum(user_activity==0)))"
      ]
    },
    {
      "cell_type": "markdown",
      "metadata": {
        "id": "5Ei4tEGvuPPT"
      },
      "source": [
        "**Let's split the data into train and test**"
      ]
    },
    {
      "cell_type": "code",
      "execution_count": 14,
      "metadata": {
        "id": "ogo_a29puJoS"
      },
      "outputs": [],
      "source": [
        "train_test_split = 0.80\n",
        "\n",
        "n_interactions = urm_all.nnz\n",
        "\n",
        "train_mask = np.random.choice([True,False], n_interactions, p=[train_test_split, 1-train_test_split])\n",
        "train_mask\n",
        "\n",
        "urm_train = sps.csr_matrix((urm_all.data[train_mask],\n",
        "                            (urm_all.row[train_mask], urm_all.col[train_mask])))\n",
        "\n",
        "\n",
        "test_mask = np.logical_not(train_mask)\n",
        "\n",
        "urm_test = sps.csr_matrix((urm_all.data[test_mask],\n",
        "                            (urm_all.row[test_mask], urm_all.col[test_mask])))\n"
      ]
    },
    {
      "cell_type": "code",
      "execution_count": 15,
      "metadata": {
        "id": "IJ-h5XsbuvEU"
      },
      "outputs": [],
      "source": [
        "def precision(recommended_items, relevant_items):\n",
        "\n",
        "    is_relevant = np.in1d(recommended_items, relevant_items, assume_unique=True)\n",
        "\n",
        "    precision_score = np.sum(is_relevant, dtype=np.float32) / len(is_relevant)\n",
        "\n",
        "    return precision_score\n",
        "\n",
        "def recall(recommended_items, relevant_items):\n",
        "\n",
        "    is_relevant = np.in1d(recommended_items, relevant_items, assume_unique=True)\n",
        "\n",
        "    recall_score = np.sum(is_relevant, dtype=np.float32) / relevant_items.shape[0]\n",
        "\n",
        "    return recall_score\n",
        "\n",
        "def AP(recommended_items, relevant_items):\n",
        "\n",
        "    is_relevant = np.in1d(recommended_items, relevant_items, assume_unique=True)\n",
        "\n",
        "    # Cumulative sum: precision at 1, at 2, at 3 ...\n",
        "    p_at_k = is_relevant * np.cumsum(is_relevant, dtype=np.float32) / (1 + np.arange(is_relevant.shape[0]))\n",
        "\n",
        "    ap_score = np.sum(p_at_k) / np.min([relevant_items.shape[0], is_relevant.shape[0]])\n",
        "\n",
        "    return ap_score"
      ]
    },
    {
      "cell_type": "code",
      "execution_count": 16,
      "metadata": {
        "id": "WMRVTPEwu4Qb"
      },
      "outputs": [],
      "source": [
        "def evaluate_algorithm(URM_test, recommender_object, at=5):\n",
        "\n",
        "    cumulative_precision = 0.0\n",
        "    cumulative_recall = 0.0\n",
        "    cumulative_AP = 0.0\n",
        "\n",
        "    num_eval = 0\n",
        "\n",
        "\n",
        "    for user_id in range(URM_test.shape[0]):\n",
        "\n",
        "        relevant_items = URM_test.indices[URM_test.indptr[user_id]:URM_test.indptr[user_id+1]]\n",
        "\n",
        "        if len(relevant_items)>0:\n",
        "\n",
        "            recommended_items = recommender_object.recommend(user_id, at=at)\n",
        "            num_eval+=1\n",
        "\n",
        "            cumulative_precision += precision(recommended_items, relevant_items)\n",
        "            cumulative_recall += recall(recommended_items, relevant_items)\n",
        "            cumulative_AP += AP(recommended_items, relevant_items)\n",
        "\n",
        "    cumulative_precision /= num_eval\n",
        "    cumulative_recall /= num_eval\n",
        "    MAP = cumulative_AP / num_eval\n",
        "\n",
        "    print(\"Recommender results are: Precision = {:.4f}, Recall = {:.4f}, MAP = {:.4f}\".format(\n",
        "        cumulative_precision, cumulative_recall, MAP))"
      ]
    },
    {
      "cell_type": "markdown",
      "metadata": {},
      "source": [
        "Here's the class for our predictor"
      ]
    },
    {
      "cell_type": "code",
      "execution_count": 82,
      "metadata": {},
      "outputs": [],
      "source": [
        "from Recommenders.Similarity.Compute_Similarity_Python import Compute_Similarity_Python \n",
        "class ItemKNNCFRecommender(object):\n",
        "    \n",
        "    def __init__(self, URM):\n",
        "        self.URM = URM\n",
        "        \n",
        "            \n",
        "    def fit(self, topK=50, shrink=100, normalize=True, similarity=\"cosine\"):\n",
        "        \n",
        "        similarity_object = Compute_Similarity_Python(self.URM, shrink=shrink, \n",
        "                                                  topK=topK, normalize=normalize, \n",
        "                                                  similarity = similarity)\n",
        "        \n",
        "        self.W_sparse = similarity_object.compute_similarity()\n",
        "\n",
        "        \n",
        "    def recommend(self, user_id, at=None, exclude_seen=True):\n",
        "        # Check if user_id is a valid index, otherwise use topRec results\n",
        "        if user_id < 0 or user_id >= self.URM.shape[0]:\n",
        "            print(f\"Invalid user_id: {user_id}\")\n",
        "            return [\"189 44 0 284 808 285 1 557 1266\"]\n",
        "        \n",
        "        # compute the scores using the dot product\n",
        "        user_profile = self.URM[user_id]\n",
        "        scores = user_profile.dot(self.W_sparse).toarray().ravel()\n",
        "\n",
        "        if exclude_seen:\n",
        "            scores = self.filter_seen(user_id, scores)\n",
        "\n",
        "        # rank items\n",
        "        ranking = scores.argsort()[::-1]\n",
        "            \n",
        "        return ranking[:at]\n",
        "    \n",
        "    \n",
        "    def filter_seen(self, user_id, scores):\n",
        "\n",
        "        start_pos = self.URM.indptr[user_id]\n",
        "        end_pos = self.URM.indptr[user_id+1]\n",
        "\n",
        "        user_profile = self.URM.indices[start_pos:end_pos]\n",
        "        \n",
        "        scores[user_profile] = -np.inf\n",
        "\n",
        "        return scores"
      ]
    },
    {
      "cell_type": "markdown",
      "metadata": {},
      "source": [
        "# **Test our CF recommender**"
      ]
    },
    {
      "cell_type": "markdown",
      "metadata": {},
      "source": [
        "**Let's split the data into train and test**"
      ]
    },
    {
      "cell_type": "code",
      "execution_count": 56,
      "metadata": {},
      "outputs": [],
      "source": [
        "train_test_split = 0.80\n",
        "\n",
        "n_interactions = urm_all.nnz\n",
        "\n",
        "train_mask = np.random.choice([True,False], n_interactions, p=[train_test_split, 1-train_test_split])\n",
        "train_mask\n",
        "\n",
        "urm_train = sps.csr_matrix((urm_all.data[train_mask],\n",
        "                            (urm_all.row[train_mask], urm_all.col[train_mask])))\n",
        "\n",
        "\n",
        "test_mask = np.logical_not(train_mask)\n",
        "\n",
        "urm_test = sps.csr_matrix((urm_all.data[test_mask],\n",
        "                            (urm_all.row[test_mask], urm_all.col[test_mask])))\n"
      ]
    },
    {
      "cell_type": "markdown",
      "metadata": {},
      "source": [
        "Here's the model:"
      ]
    },
    {
      "cell_type": "code",
      "execution_count": 58,
      "metadata": {},
      "outputs": [
        {
          "name": "stdout",
          "output_type": "stream",
          "text": [
            "Similarity column 22222 (100.0%), 1511.36 column/sec. Elapsed time 14.70 sec\n"
          ]
        }
      ],
      "source": [
        "recommender = ItemKNNCFRecommender(urm_train)\n",
        "recommender.fit(shrink=0.0, topK=10)"
      ]
    },
    {
      "cell_type": "markdown",
      "metadata": {
        "id": "LTzxN3OPGnQ-"
      },
      "source": [
        "**Now let's read the data we want to predict for and see if there're overlaps with UserIDs in train data**"
      ]
    },
    {
      "cell_type": "code",
      "execution_count": 26,
      "metadata": {},
      "outputs": [
        {
          "data": {
            "text/plain": [
              "478730"
            ]
          },
          "execution_count": 26,
          "metadata": {},
          "output_type": "execute_result"
        }
      ],
      "source": [
        "urm_path = '../content/data_train.csv'\n",
        "\n",
        "urm_all_orgdf = pd.read_csv(filepath_or_buffer=urm_path,\n",
        "                                sep=\",\",\n",
        "                                header=0,\n",
        "                                dtype={0:int, 1:int, 2:float},\n",
        "                                engine='python')\n",
        "\n",
        "urm_all_orgdf.columns = [\"UserID\", \"ItemID\", \"Interaction\"]\n",
        "len(urm_all_orgdf['UserID'])"
      ]
    },
    {
      "cell_type": "code",
      "execution_count": 69,
      "metadata": {
        "colab": {
          "base_uri": "https://localhost:8080/"
        },
        "id": "NJXejTbnDTnn",
        "outputId": "281c9a13-99cf-49fd-f634-674b26c769ef"
      },
      "outputs": [
        {
          "name": "stdout",
          "output_type": "stream",
          "text": [
            "Unique user id to predict: 10882\n"
          ]
        }
      ],
      "source": [
        "urm_path = '../content/data_target_users_test.csv'\n",
        "\n",
        "urm_pred_df = pd.read_csv(filepath_or_buffer=urm_path,\n",
        "                                sep=\",\",\n",
        "                                header=0,\n",
        "                                dtype={0:int},\n",
        "                                engine='python')\n",
        "\n",
        "urm_pred_df.columns = [\"UserID\"]\n",
        "len(urm_pred_df['UserID'])\n",
        "print('Unique user id to predict:', urm_pred_df['UserID'].nunique())"
      ]
    },
    {
      "cell_type": "markdown",
      "metadata": {},
      "source": [
        "Train  the model with the whole dataset"
      ]
    },
    {
      "cell_type": "code",
      "execution_count": 40,
      "metadata": {},
      "outputs": [],
      "source": [
        "urm_all_train = sps.coo_matrix((urm_all_orgdf[\"Interaction\"].values,\n",
        "                          (urm_all_orgdf[\"UserID\"].values, urm_all_orgdf[\"ItemID\"].values)))"
      ]
    },
    {
      "cell_type": "code",
      "execution_count": 42,
      "metadata": {},
      "outputs": [
        {
          "data": {
            "text/plain": [
              "<13025x22348 sparse matrix of type '<class 'numpy.float64'>'\n",
              "\twith 478730 stored elements in Compressed Sparse Row format>"
            ]
          },
          "execution_count": 42,
          "metadata": {},
          "output_type": "execute_result"
        }
      ],
      "source": [
        "urm_all_train.tocsr()"
      ]
    },
    {
      "cell_type": "code",
      "execution_count": 65,
      "metadata": {},
      "outputs": [],
      "source": [
        "train_test_split = 1\n",
        "\n",
        "n_interactions = urm_all.nnz\n",
        "\n",
        "train_mask = np.random.choice([True,False], n_interactions, p=[train_test_split, 1-train_test_split])\n",
        "\n",
        "urm_all_train = sps.csr_matrix((urm_all.data[train_mask],\n",
        "                            (urm_all.row[train_mask], urm_all.col[train_mask])))"
      ]
    },
    {
      "cell_type": "code",
      "execution_count": 84,
      "metadata": {},
      "outputs": [
        {
          "name": "stdout",
          "output_type": "stream",
          "text": [
            "Similarity column 22222 (100.0%), 1442.58 column/sec. Elapsed time 15.40 sec\n"
          ]
        }
      ],
      "source": [
        "recommender = ItemKNNCFRecommender(urm_all_train)\n",
        "recommender.fit(shrink=0.0, topK=10)"
      ]
    },
    {
      "cell_type": "markdown",
      "metadata": {},
      "source": [
        "Now we make the predictions for every user in our test set and add them to pred_df"
      ]
    },
    {
      "cell_type": "markdown",
      "metadata": {},
      "source": [
        "Here we list the users that are in our test set but not in our whole train set"
      ]
    },
    {
      "cell_type": "code",
      "execution_count": 70,
      "metadata": {},
      "outputs": [
        {
          "name": "stdout",
          "output_type": "stream",
          "text": [
            "Users in urm_pred_df but not in urm_all_orgdf:\n",
            "       UserID\n",
            "54         60\n",
            "58         65\n",
            "147       168\n",
            "223       261\n",
            "272       316\n",
            "...       ...\n",
            "10682   12775\n",
            "10699   12798\n",
            "10729   12837\n",
            "10802   12921\n",
            "10856   12992\n",
            "\n",
            "[221 rows x 1 columns]\n"
          ]
        }
      ],
      "source": [
        "users_not_in_orgdf = urm_pred_df[~urm_pred_df['UserID'].isin(urm_all_orgdf['UserID'])]\n",
        "\n",
        "print(\"Users in urm_pred_df but not in urm_all_orgdf:\")\n",
        "print(users_not_in_orgdf)"
      ]
    },
    {
      "cell_type": "code",
      "execution_count": 85,
      "metadata": {},
      "outputs": [
        {
          "name": "stdout",
          "output_type": "stream",
          "text": [
            "Invalid user_id: 12638\n",
            "['189 44 0 284 808 285 1 557 1266']\n"
          ]
        }
      ],
      "source": [
        "recommendations = recommender.recommend(12638, at=10)\n",
        "print(recommendations)\n"
      ]
    },
    {
      "cell_type": "code",
      "execution_count": 86,
      "metadata": {
        "id": "NoopFoyfNHJq"
      },
      "outputs": [
        {
          "name": "stdout",
          "output_type": "stream",
          "text": [
            "Invalid user_id: 12638\n",
            "Invalid user_id: 12639\n",
            "Invalid user_id: 12640\n",
            "Invalid user_id: 12641\n",
            "Invalid user_id: 12642\n",
            "Invalid user_id: 12643\n",
            "Invalid user_id: 12644\n",
            "Invalid user_id: 12648\n",
            "Invalid user_id: 12649\n",
            "Invalid user_id: 12650\n",
            "Invalid user_id: 12653\n",
            "Invalid user_id: 12654\n",
            "Invalid user_id: 12655\n",
            "Invalid user_id: 12656\n",
            "Invalid user_id: 12657\n",
            "Invalid user_id: 12659\n",
            "Invalid user_id: 12661\n",
            "Invalid user_id: 12662\n",
            "Invalid user_id: 12663\n",
            "Invalid user_id: 12664\n",
            "Invalid user_id: 12665\n",
            "Invalid user_id: 12666\n",
            "Invalid user_id: 12668\n",
            "Invalid user_id: 12669\n",
            "Invalid user_id: 12670\n",
            "Invalid user_id: 12671\n",
            "Invalid user_id: 12672\n",
            "Invalid user_id: 12673\n",
            "Invalid user_id: 12674\n",
            "Invalid user_id: 12676\n",
            "Invalid user_id: 12677\n",
            "Invalid user_id: 12678\n",
            "Invalid user_id: 12679\n",
            "Invalid user_id: 12680\n",
            "Invalid user_id: 12682\n",
            "Invalid user_id: 12684\n",
            "Invalid user_id: 12685\n",
            "Invalid user_id: 12687\n",
            "Invalid user_id: 12688\n",
            "Invalid user_id: 12689\n",
            "Invalid user_id: 12690\n",
            "Invalid user_id: 12691\n",
            "Invalid user_id: 12692\n",
            "Invalid user_id: 12693\n",
            "Invalid user_id: 12695\n",
            "Invalid user_id: 12696\n",
            "Invalid user_id: 12697\n",
            "Invalid user_id: 12698\n",
            "Invalid user_id: 12699\n",
            "Invalid user_id: 12701\n",
            "Invalid user_id: 12702\n",
            "Invalid user_id: 12704\n",
            "Invalid user_id: 12706\n",
            "Invalid user_id: 12707\n",
            "Invalid user_id: 12708\n",
            "Invalid user_id: 12709\n",
            "Invalid user_id: 12710\n",
            "Invalid user_id: 12711\n",
            "Invalid user_id: 12712\n",
            "Invalid user_id: 12714\n",
            "Invalid user_id: 12715\n",
            "Invalid user_id: 12716\n",
            "Invalid user_id: 12717\n",
            "Invalid user_id: 12718\n",
            "Invalid user_id: 12719\n",
            "Invalid user_id: 12720\n",
            "Invalid user_id: 12721\n",
            "Invalid user_id: 12722\n",
            "Invalid user_id: 12723\n",
            "Invalid user_id: 12724\n",
            "Invalid user_id: 12726\n",
            "Invalid user_id: 12727\n",
            "Invalid user_id: 12728\n",
            "Invalid user_id: 12730\n",
            "Invalid user_id: 12731\n",
            "Invalid user_id: 12732\n",
            "Invalid user_id: 12733\n",
            "Invalid user_id: 12734\n",
            "Invalid user_id: 12735\n",
            "Invalid user_id: 12736\n",
            "Invalid user_id: 12737\n",
            "Invalid user_id: 12739\n",
            "Invalid user_id: 12740\n",
            "Invalid user_id: 12741\n",
            "Invalid user_id: 12742\n",
            "Invalid user_id: 12744\n",
            "Invalid user_id: 12745\n",
            "Invalid user_id: 12746\n",
            "Invalid user_id: 12747\n",
            "Invalid user_id: 12748\n",
            "Invalid user_id: 12750\n",
            "Invalid user_id: 12751\n",
            "Invalid user_id: 12753\n",
            "Invalid user_id: 12754\n",
            "Invalid user_id: 12755\n",
            "Invalid user_id: 12756\n",
            "Invalid user_id: 12757\n",
            "Invalid user_id: 12760\n",
            "Invalid user_id: 12762\n",
            "Invalid user_id: 12763\n",
            "Invalid user_id: 12766\n",
            "Invalid user_id: 12767\n",
            "Invalid user_id: 12768\n",
            "Invalid user_id: 12769\n",
            "Invalid user_id: 12770\n",
            "Invalid user_id: 12771\n",
            "Invalid user_id: 12772\n",
            "Invalid user_id: 12773\n",
            "Invalid user_id: 12775\n",
            "Invalid user_id: 12776\n",
            "Invalid user_id: 12779\n",
            "Invalid user_id: 12780\n",
            "Invalid user_id: 12781\n",
            "Invalid user_id: 12782\n",
            "Invalid user_id: 12783\n",
            "Invalid user_id: 12785\n",
            "Invalid user_id: 12786\n",
            "Invalid user_id: 12787\n",
            "Invalid user_id: 12788\n",
            "Invalid user_id: 12791\n",
            "Invalid user_id: 12792\n",
            "Invalid user_id: 12793\n",
            "Invalid user_id: 12795\n",
            "Invalid user_id: 12796\n",
            "Invalid user_id: 12797\n",
            "Invalid user_id: 12798\n",
            "Invalid user_id: 12799\n",
            "Invalid user_id: 12800\n",
            "Invalid user_id: 12802\n",
            "Invalid user_id: 12803\n",
            "Invalid user_id: 12804\n",
            "Invalid user_id: 12806\n",
            "Invalid user_id: 12807\n",
            "Invalid user_id: 12808\n",
            "Invalid user_id: 12810\n",
            "Invalid user_id: 12811\n",
            "Invalid user_id: 12812\n",
            "Invalid user_id: 12813\n",
            "Invalid user_id: 12814\n",
            "Invalid user_id: 12815\n",
            "Invalid user_id: 12816\n",
            "Invalid user_id: 12817\n",
            "Invalid user_id: 12818\n",
            "Invalid user_id: 12819\n",
            "Invalid user_id: 12820\n",
            "Invalid user_id: 12821\n",
            "Invalid user_id: 12822\n",
            "Invalid user_id: 12823\n",
            "Invalid user_id: 12826\n",
            "Invalid user_id: 12827\n",
            "Invalid user_id: 12829\n",
            "Invalid user_id: 12830\n",
            "Invalid user_id: 12831\n",
            "Invalid user_id: 12832\n",
            "Invalid user_id: 12836\n",
            "Invalid user_id: 12837\n",
            "Invalid user_id: 12839\n",
            "Invalid user_id: 12840\n",
            "Invalid user_id: 12841\n",
            "Invalid user_id: 12842\n",
            "Invalid user_id: 12843\n",
            "Invalid user_id: 12844\n",
            "Invalid user_id: 12845\n",
            "Invalid user_id: 12846\n",
            "Invalid user_id: 12847\n",
            "Invalid user_id: 12848\n",
            "Invalid user_id: 12849\n",
            "Invalid user_id: 12850\n",
            "Invalid user_id: 12851\n",
            "Invalid user_id: 12853\n",
            "Invalid user_id: 12855\n",
            "Invalid user_id: 12856\n",
            "Invalid user_id: 12857\n",
            "Invalid user_id: 12858\n",
            "Invalid user_id: 12859\n",
            "Invalid user_id: 12860\n",
            "Invalid user_id: 12861\n",
            "Invalid user_id: 12862\n",
            "Invalid user_id: 12864\n",
            "Invalid user_id: 12865\n",
            "Invalid user_id: 12866\n",
            "Invalid user_id: 12867\n",
            "Invalid user_id: 12868\n",
            "Invalid user_id: 12869\n",
            "Invalid user_id: 12871\n",
            "Invalid user_id: 12872\n",
            "Invalid user_id: 12874\n",
            "Invalid user_id: 12876\n",
            "Invalid user_id: 12877\n",
            "Invalid user_id: 12878\n",
            "Invalid user_id: 12879\n",
            "Invalid user_id: 12880\n",
            "Invalid user_id: 12881\n",
            "Invalid user_id: 12882\n",
            "Invalid user_id: 12883\n",
            "Invalid user_id: 12884\n",
            "Invalid user_id: 12885\n",
            "Invalid user_id: 12886\n",
            "Invalid user_id: 12887\n",
            "Invalid user_id: 12888\n",
            "Invalid user_id: 12889\n",
            "Invalid user_id: 12890\n",
            "Invalid user_id: 12891\n",
            "Invalid user_id: 12892\n",
            "Invalid user_id: 12895\n",
            "Invalid user_id: 12896\n",
            "Invalid user_id: 12897\n",
            "Invalid user_id: 12898\n",
            "Invalid user_id: 12900\n",
            "Invalid user_id: 12901\n",
            "Invalid user_id: 12902\n",
            "Invalid user_id: 12903\n",
            "Invalid user_id: 12904\n",
            "Invalid user_id: 12905\n",
            "Invalid user_id: 12906\n",
            "Invalid user_id: 12907\n",
            "Invalid user_id: 12908\n",
            "Invalid user_id: 12909\n",
            "Invalid user_id: 12910\n",
            "Invalid user_id: 12911\n",
            "Invalid user_id: 12912\n",
            "Invalid user_id: 12913\n",
            "Invalid user_id: 12914\n",
            "Invalid user_id: 12915\n",
            "Invalid user_id: 12917\n",
            "Invalid user_id: 12918\n",
            "Invalid user_id: 12919\n",
            "Invalid user_id: 12920\n",
            "Invalid user_id: 12921\n",
            "Invalid user_id: 12922\n",
            "Invalid user_id: 12923\n",
            "Invalid user_id: 12924\n",
            "Invalid user_id: 12926\n",
            "Invalid user_id: 12927\n",
            "Invalid user_id: 12929\n",
            "Invalid user_id: 12930\n",
            "Invalid user_id: 12931\n",
            "Invalid user_id: 12932\n",
            "Invalid user_id: 12934\n",
            "Invalid user_id: 12935\n",
            "Invalid user_id: 12936\n",
            "Invalid user_id: 12937\n",
            "Invalid user_id: 12938\n",
            "Invalid user_id: 12939\n",
            "Invalid user_id: 12940\n",
            "Invalid user_id: 12941\n",
            "Invalid user_id: 12942\n",
            "Invalid user_id: 12943\n",
            "Invalid user_id: 12944\n",
            "Invalid user_id: 12945\n",
            "Invalid user_id: 12946\n",
            "Invalid user_id: 12948\n",
            "Invalid user_id: 12949\n",
            "Invalid user_id: 12950\n",
            "Invalid user_id: 12952\n",
            "Invalid user_id: 12953\n",
            "Invalid user_id: 12954\n",
            "Invalid user_id: 12957\n",
            "Invalid user_id: 12959\n",
            "Invalid user_id: 12960\n",
            "Invalid user_id: 12962\n",
            "Invalid user_id: 12964\n",
            "Invalid user_id: 12965\n",
            "Invalid user_id: 12966\n",
            "Invalid user_id: 12967\n",
            "Invalid user_id: 12968\n",
            "Invalid user_id: 12970\n",
            "Invalid user_id: 12971\n",
            "Invalid user_id: 12972\n",
            "Invalid user_id: 12974\n",
            "Invalid user_id: 12977\n",
            "Invalid user_id: 12980\n",
            "Invalid user_id: 12982\n",
            "Invalid user_id: 12983\n",
            "Invalid user_id: 12984\n",
            "Invalid user_id: 12985\n",
            "Invalid user_id: 12986\n",
            "Invalid user_id: 12987\n",
            "Invalid user_id: 12988\n",
            "Invalid user_id: 12989\n",
            "Invalid user_id: 12990\n",
            "Invalid user_id: 12991\n",
            "Invalid user_id: 12992\n",
            "Invalid user_id: 12993\n",
            "Invalid user_id: 12994\n",
            "Invalid user_id: 12995\n",
            "Invalid user_id: 12997\n",
            "Invalid user_id: 12998\n",
            "Invalid user_id: 12999\n",
            "Invalid user_id: 13000\n",
            "Invalid user_id: 13001\n",
            "Invalid user_id: 13002\n",
            "Invalid user_id: 13003\n",
            "Invalid user_id: 13004\n",
            "Invalid user_id: 13005\n",
            "Invalid user_id: 13007\n",
            "Invalid user_id: 13008\n",
            "Invalid user_id: 13009\n",
            "Invalid user_id: 13010\n",
            "Invalid user_id: 13012\n",
            "Invalid user_id: 13013\n",
            "Invalid user_id: 13015\n",
            "Invalid user_id: 13019\n",
            "Invalid user_id: 13020\n",
            "Invalid user_id: 13021\n",
            "Invalid user_id: 13022\n",
            "Invalid user_id: 13023\n",
            "Invalid user_id: 13024\n"
          ]
        }
      ],
      "source": [
        "pred_df = pd.DataFrame(columns = ['user_id','item_list'])\n",
        "\n",
        "for userid in urm_pred_df['UserID']:\n",
        "  recommendations = recommender.recommend(userid, at=10)\n",
        "  recommendations = \" \".join(str(item) for item in recommendations)\n",
        "  pred_df.loc[len(pred_df)] = [userid,recommendations]"
      ]
    },
    {
      "cell_type": "code",
      "execution_count": 87,
      "metadata": {
        "colab": {
          "base_uri": "https://localhost:8080/",
          "height": 423
        },
        "id": "ITXuH9HGPk2J",
        "outputId": "d8824dad-b4b1-4ece-902f-e6015f131546"
      },
      "outputs": [
        {
          "data": {
            "text/html": [
              "<div>\n",
              "<style scoped>\n",
              "    .dataframe tbody tr th:only-of-type {\n",
              "        vertical-align: middle;\n",
              "    }\n",
              "\n",
              "    .dataframe tbody tr th {\n",
              "        vertical-align: top;\n",
              "    }\n",
              "\n",
              "    .dataframe thead th {\n",
              "        text-align: right;\n",
              "    }\n",
              "</style>\n",
              "<table border=\"1\" class=\"dataframe\">\n",
              "  <thead>\n",
              "    <tr style=\"text-align: right;\">\n",
              "      <th></th>\n",
              "      <th>user_id</th>\n",
              "      <th>item_list</th>\n",
              "    </tr>\n",
              "  </thead>\n",
              "  <tbody>\n",
              "    <tr>\n",
              "      <th>0</th>\n",
              "      <td>1</td>\n",
              "      <td>2548 89 83 227 812 2612 819 88 815 1831</td>\n",
              "    </tr>\n",
              "    <tr>\n",
              "      <th>1</th>\n",
              "      <td>2</td>\n",
              "      <td>842 2545 8126 8304 8303 1427 4809 10737 4502 1424</td>\n",
              "    </tr>\n",
              "    <tr>\n",
              "      <th>2</th>\n",
              "      <td>3</td>\n",
              "      <td>227 812 589 815 2612 463 819 5767 8146 6282</td>\n",
              "    </tr>\n",
              "    <tr>\n",
              "      <th>3</th>\n",
              "      <td>4</td>\n",
              "      <td>4709 8688 8690 950 952 954 8693 15491 955 15832</td>\n",
              "    </tr>\n",
              "    <tr>\n",
              "      <th>4</th>\n",
              "      <td>5</td>\n",
              "      <td>5644 319 2 808 517 885 285 206 520 284</td>\n",
              "    </tr>\n",
              "    <tr>\n",
              "      <th>...</th>\n",
              "      <td>...</td>\n",
              "      <td>...</td>\n",
              "    </tr>\n",
              "    <tr>\n",
              "      <th>10877</th>\n",
              "      <td>13020</td>\n",
              "      <td>189 44 0 284 808 285 1 557 1266</td>\n",
              "    </tr>\n",
              "    <tr>\n",
              "      <th>10878</th>\n",
              "      <td>13021</td>\n",
              "      <td>189 44 0 284 808 285 1 557 1266</td>\n",
              "    </tr>\n",
              "    <tr>\n",
              "      <th>10879</th>\n",
              "      <td>13022</td>\n",
              "      <td>189 44 0 284 808 285 1 557 1266</td>\n",
              "    </tr>\n",
              "    <tr>\n",
              "      <th>10880</th>\n",
              "      <td>13023</td>\n",
              "      <td>189 44 0 284 808 285 1 557 1266</td>\n",
              "    </tr>\n",
              "    <tr>\n",
              "      <th>10881</th>\n",
              "      <td>13024</td>\n",
              "      <td>189 44 0 284 808 285 1 557 1266</td>\n",
              "    </tr>\n",
              "  </tbody>\n",
              "</table>\n",
              "<p>10882 rows × 2 columns</p>\n",
              "</div>"
            ],
            "text/plain": [
              "       user_id                                          item_list\n",
              "0            1            2548 89 83 227 812 2612 819 88 815 1831\n",
              "1            2  842 2545 8126 8304 8303 1427 4809 10737 4502 1424\n",
              "2            3        227 812 589 815 2612 463 819 5767 8146 6282\n",
              "3            4    4709 8688 8690 950 952 954 8693 15491 955 15832\n",
              "4            5             5644 319 2 808 517 885 285 206 520 284\n",
              "...        ...                                                ...\n",
              "10877    13020                    189 44 0 284 808 285 1 557 1266\n",
              "10878    13021                    189 44 0 284 808 285 1 557 1266\n",
              "10879    13022                    189 44 0 284 808 285 1 557 1266\n",
              "10880    13023                    189 44 0 284 808 285 1 557 1266\n",
              "10881    13024                    189 44 0 284 808 285 1 557 1266\n",
              "\n",
              "[10882 rows x 2 columns]"
            ]
          },
          "execution_count": 87,
          "metadata": {},
          "output_type": "execute_result"
        }
      ],
      "source": [
        "pred_df"
      ]
    },
    {
      "cell_type": "code",
      "execution_count": 88,
      "metadata": {
        "id": "4TP96xHPQG-V"
      },
      "outputs": [],
      "source": [
        "pred_df.to_csv('../content/predictionsCF.csv',index=False)"
      ]
    }
  ],
  "metadata": {
    "colab": {
      "provenance": []
    },
    "kernelspec": {
      "display_name": "Python 3",
      "name": "python3"
    },
    "language_info": {
      "codemirror_mode": {
        "name": "ipython",
        "version": 3
      },
      "file_extension": ".py",
      "mimetype": "text/x-python",
      "name": "python",
      "nbconvert_exporter": "python",
      "pygments_lexer": "ipython3",
      "version": "3.8.18"
    }
  },
  "nbformat": 4,
  "nbformat_minor": 0
}
