{
  "cells": [
    {
      "cell_type": "code",
      "execution_count": 1,
      "metadata": {
        "id": "TdBpmeqSyZ0W"
      },
      "outputs": [],
      "source": [
        "import pandas as pd\n",
        "import numpy as np\n",
        "import scipy.sparse as sps\n",
        "\n",
        "from scipy.sparse import *"
      ]
    },
    {
      "cell_type": "markdown",
      "metadata": {
        "id": "BL53ZQ4rm-IV"
      },
      "source": [
        "Content Based recommender for competion data\n"
      ]
    },
    {
      "cell_type": "code",
      "execution_count": 2,
      "metadata": {
        "id": "D6wm0tQmgeYZ"
      },
      "outputs": [],
      "source": [
        "urm_path = '../content/data_train.csv'\n",
        "\n",
        "urm_all_df = pd.read_csv(filepath_or_buffer=urm_path,\n",
        "                                sep=\",\",\n",
        "                                header=0,\n",
        "                                dtype={0:int, 1:int, 2:float},\n",
        "                                engine='python')\n",
        "\n",
        "urm_all_df.columns = [\"UserID\", \"ItemID\", \"Interaction\"]"
      ]
    },
    {
      "cell_type": "code",
      "execution_count": 4,
      "metadata": {
        "colab": {
          "base_uri": "https://localhost:8080/",
          "height": 363
        },
        "id": "-QIVaUitoOkR",
        "outputId": "637ddc50-492e-4310-ce72-8abf5df551dc"
      },
      "outputs": [
        {
          "data": {
            "text/html": [
              "<div>\n",
              "<style scoped>\n",
              "    .dataframe tbody tr th:only-of-type {\n",
              "        vertical-align: middle;\n",
              "    }\n",
              "\n",
              "    .dataframe tbody tr th {\n",
              "        vertical-align: top;\n",
              "    }\n",
              "\n",
              "    .dataframe thead th {\n",
              "        text-align: right;\n",
              "    }\n",
              "</style>\n",
              "<table border=\"1\" class=\"dataframe\">\n",
              "  <thead>\n",
              "    <tr style=\"text-align: right;\">\n",
              "      <th></th>\n",
              "      <th>UserID</th>\n",
              "      <th>ItemID</th>\n",
              "      <th>Interaction</th>\n",
              "    </tr>\n",
              "  </thead>\n",
              "  <tbody>\n",
              "    <tr>\n",
              "      <th>0</th>\n",
              "      <td>1</td>\n",
              "      <td>7</td>\n",
              "      <td>1.0</td>\n",
              "    </tr>\n",
              "    <tr>\n",
              "      <th>1</th>\n",
              "      <td>1</td>\n",
              "      <td>15</td>\n",
              "      <td>1.0</td>\n",
              "    </tr>\n",
              "    <tr>\n",
              "      <th>2</th>\n",
              "      <td>1</td>\n",
              "      <td>16</td>\n",
              "      <td>1.0</td>\n",
              "    </tr>\n",
              "    <tr>\n",
              "      <th>3</th>\n",
              "      <td>1</td>\n",
              "      <td>133</td>\n",
              "      <td>1.0</td>\n",
              "    </tr>\n",
              "    <tr>\n",
              "      <th>4</th>\n",
              "      <td>1</td>\n",
              "      <td>161</td>\n",
              "      <td>1.0</td>\n",
              "    </tr>\n",
              "    <tr>\n",
              "      <th>5</th>\n",
              "      <td>1</td>\n",
              "      <td>187</td>\n",
              "      <td>1.0</td>\n",
              "    </tr>\n",
              "    <tr>\n",
              "      <th>6</th>\n",
              "      <td>1</td>\n",
              "      <td>205</td>\n",
              "      <td>1.0</td>\n",
              "    </tr>\n",
              "    <tr>\n",
              "      <th>7</th>\n",
              "      <td>1</td>\n",
              "      <td>222</td>\n",
              "      <td>1.0</td>\n",
              "    </tr>\n",
              "    <tr>\n",
              "      <th>8</th>\n",
              "      <td>1</td>\n",
              "      <td>237</td>\n",
              "      <td>1.0</td>\n",
              "    </tr>\n",
              "    <tr>\n",
              "      <th>9</th>\n",
              "      <td>1</td>\n",
              "      <td>354</td>\n",
              "      <td>1.0</td>\n",
              "    </tr>\n",
              "  </tbody>\n",
              "</table>\n",
              "</div>"
            ],
            "text/plain": [
              "   UserID  ItemID  Interaction\n",
              "0       1       7          1.0\n",
              "1       1      15          1.0\n",
              "2       1      16          1.0\n",
              "3       1     133          1.0\n",
              "4       1     161          1.0\n",
              "5       1     187          1.0\n",
              "6       1     205          1.0\n",
              "7       1     222          1.0\n",
              "8       1     237          1.0\n",
              "9       1     354          1.0"
            ]
          },
          "execution_count": 4,
          "metadata": {},
          "output_type": "execute_result"
        }
      ],
      "source": [
        "urm_all_df.head(10)"
      ]
    },
    {
      "cell_type": "code",
      "execution_count": 4,
      "metadata": {
        "colab": {
          "base_uri": "https://localhost:8080/"
        },
        "id": "KQWSAcheqshX",
        "outputId": "2f61be53-0557-416a-bcb3-dabd6a694946"
      },
      "outputs": [
        {
          "name": "stdout",
          "output_type": "stream",
          "text": [
            "The number of interactions is 478730\n"
          ]
        }
      ],
      "source": [
        "print (\"The number of interactions is {}\".format(len(urm_all_df)))"
      ]
    },
    {
      "cell_type": "code",
      "execution_count": 5,
      "metadata": {
        "colab": {
          "base_uri": "https://localhost:8080/"
        },
        "id": "dD663Pajrych",
        "outputId": "39c2b618-0f4b-492c-fd2b-bc4dc282ea96"
      },
      "outputs": [
        {
          "name": "stdout",
          "output_type": "stream",
          "text": [
            "Number of items\t 22222, Number of users\t 12638\n",
            "Max ID items\t 22347, Max Id users\t 13024\n",
            "\n",
            "Average interactions per user 37.88\n",
            "Average interactions per item 21.54\n",
            "\n",
            "Sparsity 99.83 %\n"
          ]
        }
      ],
      "source": [
        "userID_unique = urm_all_df[\"UserID\"].unique()\n",
        "itemID_unique = urm_all_df[\"ItemID\"].unique()\n",
        "\n",
        "n_users = len(userID_unique)\n",
        "n_items = len(itemID_unique)\n",
        "n_interactions = len(urm_all_df)\n",
        "\n",
        "print (\"Number of items\\t {}, Number of users\\t {}\".format(n_items, n_users))\n",
        "print (\"Max ID items\\t {}, Max Id users\\t {}\\n\".format(max(itemID_unique), max(userID_unique)))\n",
        "print (\"Average interactions per user {:.2f}\".format(n_interactions/n_users))\n",
        "print (\"Average interactions per item {:.2f}\\n\".format(n_interactions/n_items))\n",
        "\n",
        "print (\"Sparsity {:.2f} %\".format((1-float(n_interactions)/(n_items*n_users))*100))"
      ]
    },
    {
      "cell_type": "code",
      "execution_count": 6,
      "metadata": {
        "colab": {
          "base_uri": "https://localhost:8080/"
        },
        "id": "wiHOrfUYsOB2",
        "outputId": "7c8017d7-5af6-4e8b-fcba-b700ae78cdb2"
      },
      "outputs": [
        {
          "data": {
            "text/plain": [
              "<13025x22348 sparse matrix of type '<class 'numpy.float64'>'\n",
              "\twith 478730 stored elements in COOrdinate format>"
            ]
          },
          "execution_count": 6,
          "metadata": {},
          "output_type": "execute_result"
        }
      ],
      "source": [
        "urm_all = sps.coo_matrix((urm_all_df[\"Interaction\"].values,\n",
        "                          (urm_all_df[\"UserID\"].values, urm_all_df[\"ItemID\"].values)))\n",
        "\n",
        "urm_all"
      ]
    },
    {
      "cell_type": "code",
      "execution_count": 7,
      "metadata": {
        "colab": {
          "base_uri": "https://localhost:8080/"
        },
        "id": "TUnLJs1Pswnu",
        "outputId": "334ac634-ec55-43d7-b2a0-c28e83d8d1f2"
      },
      "outputs": [
        {
          "data": {
            "text/plain": [
              "<13025x22348 sparse matrix of type '<class 'numpy.float64'>'\n",
              "\twith 478730 stored elements in Compressed Sparse Row format>"
            ]
          },
          "execution_count": 7,
          "metadata": {},
          "output_type": "execute_result"
        }
      ],
      "source": [
        "urm_all.tocsr()"
      ]
    },
    {
      "cell_type": "code",
      "execution_count": 8,
      "metadata": {
        "id": "IJ-h5XsbuvEU"
      },
      "outputs": [],
      "source": [
        "def precision(recommended_items, relevant_items):\n",
        "\n",
        "    is_relevant = np.in1d(recommended_items, relevant_items, assume_unique=True)\n",
        "\n",
        "    precision_score = np.sum(is_relevant, dtype=np.float32) / len(is_relevant)\n",
        "\n",
        "    return precision_score\n",
        "\n",
        "def recall(recommended_items, relevant_items):\n",
        "\n",
        "    is_relevant = np.in1d(recommended_items, relevant_items, assume_unique=True)\n",
        "\n",
        "    recall_score = np.sum(is_relevant, dtype=np.float32) / relevant_items.shape[0]\n",
        "\n",
        "    return recall_score\n",
        "\n",
        "def AP(recommended_items, relevant_items):\n",
        "\n",
        "    is_relevant = np.in1d(recommended_items, relevant_items, assume_unique=True)\n",
        "\n",
        "    # Cumulative sum: precision at 1, at 2, at 3 ...\n",
        "    p_at_k = is_relevant * np.cumsum(is_relevant, dtype=np.float32) / (1 + np.arange(is_relevant.shape[0]))\n",
        "\n",
        "    ap_score = np.sum(p_at_k) / np.min([relevant_items.shape[0], is_relevant.shape[0]])\n",
        "\n",
        "    return ap_score"
      ]
    },
    {
      "cell_type": "code",
      "execution_count": 9,
      "metadata": {
        "id": "WMRVTPEwu4Qb"
      },
      "outputs": [],
      "source": [
        "def evaluate_algorithm(URM_test, recommender_object, at=5):\n",
        "\n",
        "    cumulative_precision = 0.0\n",
        "    cumulative_recall = 0.0\n",
        "    cumulative_AP = 0.0\n",
        "\n",
        "    num_eval = 0\n",
        "\n",
        "\n",
        "    for user_id in range(URM_test.shape[0]):\n",
        "\n",
        "        relevant_items = URM_test.indices[URM_test.indptr[user_id]:URM_test.indptr[user_id+1]]\n",
        "\n",
        "        if len(relevant_items)>0:\n",
        "\n",
        "            recommended_items = recommender_object.recommend(user_id, at=at)\n",
        "            num_eval+=1\n",
        "\n",
        "            cumulative_precision += precision(recommended_items, relevant_items)\n",
        "            cumulative_recall += recall(recommended_items, relevant_items)\n",
        "            cumulative_AP += AP(recommended_items, relevant_items)\n",
        "\n",
        "    cumulative_precision /= num_eval\n",
        "    cumulative_recall /= num_eval\n",
        "    MAP = cumulative_AP / num_eval\n",
        "\n",
        "    print(\"Recommender results are: Precision = {:.4f}, Recall = {:.4f}, MAP = {:.4f}\".format(\n",
        "        cumulative_precision, cumulative_recall, MAP))"
      ]
    },
    {
      "cell_type": "markdown",
      "metadata": {},
      "source": [
        "# Predictor"
      ]
    },
    {
      "cell_type": "markdown",
      "metadata": {},
      "source": [
        "Here's the class for our predictor"
      ]
    },
    {
      "cell_type": "code",
      "execution_count": 45,
      "metadata": {},
      "outputs": [],
      "source": [
        "from Recommenders.Similarity.Compute_Similarity_Python import Compute_Similarity_Python \n",
        "class ItemKNNCFRecommender(object):\n",
        "    \n",
        "    def __init__(self, URM):\n",
        "        self.URM = URM\n",
        "        \n",
        "            \n",
        "    def fit(self, topK=50, shrink=100, normalize=True, similarity=\"cosine\"):\n",
        "        \n",
        "        similarity_object = Compute_Similarity_Python(self.URM, shrink=shrink, \n",
        "                                                  topK=topK, normalize=normalize, \n",
        "                                                  similarity = similarity)\n",
        "        \n",
        "        self.W_sparse = similarity_object.compute_similarity()\n",
        "\n",
        "        \n",
        "    def recommend(self, user_id, at=None, exclude_seen=True, users_not_in_train=[]):\n",
        "        # Check if user_id is a valid index\n",
        "        if user_id < 0 or user_id >= self.URM.shape[0]:\n",
        "            print(f\"Invalid user_id: {user_id}\")\n",
        "            return\n",
        "        \n",
        "        # Check if user_id not in train use the topRec\n",
        "        if user_id in users_not_in_train:\n",
        "            return [\"189 44 0 284 808 285 1 557 1266\"]\n",
        "        \n",
        "        # compute the scores using the dot product\n",
        "        user_profile = self.URM[user_id]\n",
        "        scores = user_profile.dot(self.W_sparse).toarray().ravel()\n",
        "\n",
        "        if exclude_seen:\n",
        "            scores = self.filter_seen(user_id, scores)\n",
        "\n",
        "        # rank items\n",
        "        ranking = scores.argsort()[::-1]\n",
        "            \n",
        "        return ranking[:at]\n",
        "    \n",
        "    \n",
        "    def filter_seen(self, user_id, scores):\n",
        "\n",
        "        start_pos = self.URM.indptr[user_id]\n",
        "        end_pos = self.URM.indptr[user_id+1]\n",
        "\n",
        "        user_profile = self.URM.indices[start_pos:end_pos]\n",
        "        \n",
        "        scores[user_profile] = -np.inf\n",
        "\n",
        "        return scores"
      ]
    },
    {
      "cell_type": "markdown",
      "metadata": {},
      "source": [
        "# **Make the recommendations**"
      ]
    },
    {
      "cell_type": "markdown",
      "metadata": {},
      "source": [
        "Here's the model:"
      ]
    },
    {
      "cell_type": "code",
      "execution_count": 15,
      "metadata": {},
      "outputs": [],
      "source": [
        "urm_all_train = sps.csr_matrix((urm_all.data,\n",
        "                            (urm_all.row, urm_all.col)))"
      ]
    },
    {
      "cell_type": "code",
      "execution_count": 49,
      "metadata": {},
      "outputs": [
        {
          "name": "stdout",
          "output_type": "stream",
          "text": [
            "Similarity column 22348 (100.0%), 795.85 column/sec. Elapsed time 28.08 sec\n"
          ]
        }
      ],
      "source": [
        "recommender = ItemKNNCFRecommender(urm_all_train)\n",
        "recommender.fit(shrink=0.0)"
      ]
    },
    {
      "cell_type": "markdown",
      "metadata": {
        "id": "LTzxN3OPGnQ-"
      },
      "source": [
        "**Now let's read the data we want to predict for and see if there're overlaps with UserIDs in train data**"
      ]
    },
    {
      "cell_type": "code",
      "execution_count": 23,
      "metadata": {
        "colab": {
          "base_uri": "https://localhost:8080/"
        },
        "id": "NJXejTbnDTnn",
        "outputId": "281c9a13-99cf-49fd-f634-674b26c769ef"
      },
      "outputs": [
        {
          "name": "stdout",
          "output_type": "stream",
          "text": [
            "Unique user id to predict: 10882\n"
          ]
        }
      ],
      "source": [
        "urm_pred_path = '../content/data_target_users_test.csv'\n",
        "\n",
        "urm_pred_df = pd.read_csv(filepath_or_buffer=urm_pred_path,\n",
        "                                sep=\",\",\n",
        "                                header=0,\n",
        "                                dtype={0:int},\n",
        "                                engine='python')\n",
        "\n",
        "urm_pred_df.columns = [\"UserID\"]\n",
        "len(urm_pred_df['UserID'])\n",
        "print('Unique user id to predict:', urm_pred_df['UserID'].nunique())"
      ]
    },
    {
      "cell_type": "markdown",
      "metadata": {},
      "source": [
        "Now we make the predictions for every user in our test set and add them to pred_df"
      ]
    },
    {
      "cell_type": "markdown",
      "metadata": {},
      "source": [
        "Here we list the users that are in our test set but not in our whole train set"
      ]
    },
    {
      "cell_type": "code",
      "execution_count": 63,
      "metadata": {},
      "outputs": [
        {
          "name": "stdout",
          "output_type": "stream",
          "text": [
            "Users in urm_pred_df but not in urm_all_orgdf:\n",
            "       UserID\n",
            "54         60\n",
            "58         65\n",
            "147       168\n",
            "223       261\n",
            "272       316\n",
            "...       ...\n",
            "10682   12775\n",
            "10699   12798\n",
            "10729   12837\n",
            "10802   12921\n",
            "10856   12992\n",
            "\n",
            "[221 rows x 1 columns]\n",
            "221\n"
          ]
        }
      ],
      "source": [
        "users_not_in_train = urm_pred_df[~urm_pred_df['UserID'].isin(urm_all_df['UserID'])]\n",
        "\n",
        "print(\"Users in urm_pred_df but not in urm_all_orgdf:\")\n",
        "print(users_not_in_train)\n",
        "print(len(users_not_in_train))\n",
        "\n",
        "users_not_in_train = users_not_in_train['UserID'].to_numpy()"
      ]
    },
    {
      "cell_type": "code",
      "execution_count": 65,
      "metadata": {},
      "outputs": [
        {
          "name": "stdout",
          "output_type": "stream",
          "text": [
            "['189 44 0 284 808 285 1 557 1266']\n"
          ]
        }
      ],
      "source": [
        "recommendations = recommender.recommend(60, at=10, users_not_in_train=users_not_in_train)\n",
        "print(recommendations)\n"
      ]
    },
    {
      "cell_type": "code",
      "execution_count": 66,
      "metadata": {
        "id": "NoopFoyfNHJq"
      },
      "outputs": [],
      "source": [
        "pred_df = pd.DataFrame(columns = ['user_id','item_list'])\n",
        "\n",
        "for userid in urm_pred_df['UserID']:\n",
        "  recommendations = recommender.recommend(userid, at=10, users_not_in_train=users_not_in_train)\n",
        "  recommendations = \" \".join(str(item) for item in recommendations)\n",
        "  pred_df.loc[len(pred_df)] = [userid,recommendations]"
      ]
    },
    {
      "cell_type": "code",
      "execution_count": 67,
      "metadata": {
        "colab": {
          "base_uri": "https://localhost:8080/",
          "height": 423
        },
        "id": "ITXuH9HGPk2J",
        "outputId": "d8824dad-b4b1-4ece-902f-e6015f131546"
      },
      "outputs": [
        {
          "data": {
            "text/html": [
              "<div>\n",
              "<style scoped>\n",
              "    .dataframe tbody tr th:only-of-type {\n",
              "        vertical-align: middle;\n",
              "    }\n",
              "\n",
              "    .dataframe tbody tr th {\n",
              "        vertical-align: top;\n",
              "    }\n",
              "\n",
              "    .dataframe thead th {\n",
              "        text-align: right;\n",
              "    }\n",
              "</style>\n",
              "<table border=\"1\" class=\"dataframe\">\n",
              "  <thead>\n",
              "    <tr style=\"text-align: right;\">\n",
              "      <th></th>\n",
              "      <th>user_id</th>\n",
              "      <th>item_list</th>\n",
              "    </tr>\n",
              "  </thead>\n",
              "  <tbody>\n",
              "    <tr>\n",
              "      <th>0</th>\n",
              "      <td>1</td>\n",
              "      <td>101 506 403 36 515 977 1546 637 869 3316</td>\n",
              "    </tr>\n",
              "    <tr>\n",
              "      <th>1</th>\n",
              "      <td>2</td>\n",
              "      <td>1095 2 50 11 47 5 28 19 14 9</td>\n",
              "    </tr>\n",
              "    <tr>\n",
              "      <th>2</th>\n",
              "      <td>3</td>\n",
              "      <td>59 956 2748 1281 857 584 2172 3152 536 259</td>\n",
              "    </tr>\n",
              "    <tr>\n",
              "      <th>3</th>\n",
              "      <td>4</td>\n",
              "      <td>28 50 249 145 136 5 1 14 277 111</td>\n",
              "    </tr>\n",
              "    <tr>\n",
              "      <th>4</th>\n",
              "      <td>5</td>\n",
              "      <td>4 8 1570 20 116 5138 75 135 9039 278</td>\n",
              "    </tr>\n",
              "    <tr>\n",
              "      <th>...</th>\n",
              "      <td>...</td>\n",
              "      <td>...</td>\n",
              "    </tr>\n",
              "    <tr>\n",
              "      <th>10877</th>\n",
              "      <td>13020</td>\n",
              "      <td>6450 6198 6452 7395 6749 7394 6429 7369 6724 7029</td>\n",
              "    </tr>\n",
              "    <tr>\n",
              "      <th>10878</th>\n",
              "      <td>13021</td>\n",
              "      <td>6720 6749 6179 20505 20518 6426 6451 7027 1362...</td>\n",
              "    </tr>\n",
              "    <tr>\n",
              "      <th>10879</th>\n",
              "      <td>13022</td>\n",
              "      <td>1668 1446 1411 1674 809 10789 10998 11056 1561...</td>\n",
              "    </tr>\n",
              "    <tr>\n",
              "      <th>10880</th>\n",
              "      <td>13023</td>\n",
              "      <td>1124 978 837 1290 706 828 1107 1534 1051 639</td>\n",
              "    </tr>\n",
              "    <tr>\n",
              "      <th>10881</th>\n",
              "      <td>13024</td>\n",
              "      <td>4076 6215 4082 10211 7811 7771 8259 9590 9059 ...</td>\n",
              "    </tr>\n",
              "  </tbody>\n",
              "</table>\n",
              "<p>10882 rows × 2 columns</p>\n",
              "</div>"
            ],
            "text/plain": [
              "       user_id                                          item_list\n",
              "0            1           101 506 403 36 515 977 1546 637 869 3316\n",
              "1            2                       1095 2 50 11 47 5 28 19 14 9\n",
              "2            3         59 956 2748 1281 857 584 2172 3152 536 259\n",
              "3            4                   28 50 249 145 136 5 1 14 277 111\n",
              "4            5               4 8 1570 20 116 5138 75 135 9039 278\n",
              "...        ...                                                ...\n",
              "10877    13020  6450 6198 6452 7395 6749 7394 6429 7369 6724 7029\n",
              "10878    13021  6720 6749 6179 20505 20518 6426 6451 7027 1362...\n",
              "10879    13022  1668 1446 1411 1674 809 10789 10998 11056 1561...\n",
              "10880    13023       1124 978 837 1290 706 828 1107 1534 1051 639\n",
              "10881    13024  4076 6215 4082 10211 7811 7771 8259 9590 9059 ...\n",
              "\n",
              "[10882 rows x 2 columns]"
            ]
          },
          "execution_count": 67,
          "metadata": {},
          "output_type": "execute_result"
        }
      ],
      "source": [
        "pred_df"
      ]
    },
    {
      "cell_type": "code",
      "execution_count": 68,
      "metadata": {
        "id": "4TP96xHPQG-V"
      },
      "outputs": [],
      "source": [
        "pred_df.to_csv('../content/predictionsCF.csv',index=False)"
      ]
    },
    {
      "cell_type": "markdown",
      "metadata": {},
      "source": [
        "-------------------------------------------------------------------------------"
      ]
    }
  ],
  "metadata": {
    "colab": {
      "provenance": []
    },
    "kernelspec": {
      "display_name": "Python 3",
      "name": "python3"
    },
    "language_info": {
      "codemirror_mode": {
        "name": "ipython",
        "version": 3
      },
      "file_extension": ".py",
      "mimetype": "text/x-python",
      "name": "python",
      "nbconvert_exporter": "python",
      "pygments_lexer": "ipython3",
      "version": "3.8.18"
    }
  },
  "nbformat": 4,
  "nbformat_minor": 0
}
