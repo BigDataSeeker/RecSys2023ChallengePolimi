{
  "nbformat": 4,
  "nbformat_minor": 0,
  "metadata": {
    "colab": {
      "provenance": []
    },
    "kernelspec": {
      "name": "python3",
      "display_name": "Python 3"
    },
    "language_info": {
      "name": "python"
    }
  },
  "cells": [
    {
      "cell_type": "code",
      "execution_count": null,
      "metadata": {
        "id": "7V5ouFqIV2wr"
      },
      "outputs": [],
      "source": []
    },
    {
      "cell_type": "code",
      "execution_count": null,
      "metadata": {
        "id": "TdBpmeqSyZ0W"
      },
      "outputs": [],
      "source": [
        "import pandas as pd\n",
        "import numpy as np\n",
        "import scipy.sparse as sps\n",
        "\n",
        "from scipy.sparse import *"
      ]
    },
    {
      "cell_type": "code",
      "execution_count": null,
      "metadata": {
        "id": "D6wm0tQmgeYZ"
      },
      "outputs": [],
      "source": [
        "urm_path = '/content/data_train.csv'\n",
        "\n",
        "urm_all_df = pd.read_csv(filepath_or_buffer=urm_path,\n",
        "                                sep=\",\",\n",
        "                                header=0,\n",
        "                                dtype={0:int, 1:int, 2:float},\n",
        "                                engine='python')\n",
        "\n",
        "urm_all_df.columns = [\"UserID\", \"ItemID\", \"Interaction\"]"
      ]
    },
    {
      "cell_type": "code",
      "execution_count": null,
      "metadata": {
        "colab": {
          "base_uri": "https://localhost:8080/",
          "height": 363
        },
        "id": "-QIVaUitoOkR",
        "outputId": "9a677f4c-b453-4f0f-cf40-af67905b0a5e"
      },
      "outputs": [
        {
          "output_type": "execute_result",
          "data": {
            "text/plain": [
              "   UserID  ItemID  Interaction\n",
              "0       1       7          1.0\n",
              "1       1      15          1.0\n",
              "2       1      16          1.0\n",
              "3       1     133          1.0\n",
              "4       1     161          1.0\n",
              "5       1     187          1.0\n",
              "6       1     205          1.0\n",
              "7       1     222          1.0\n",
              "8       1     237          1.0\n",
              "9       1     354          1.0"
            ],
            "text/html": [
              "\n",
              "  <div id=\"df-7feaeaee-1f4d-4df5-8d2b-f98f006c18ad\" class=\"colab-df-container\">\n",
              "    <div>\n",
              "<style scoped>\n",
              "    .dataframe tbody tr th:only-of-type {\n",
              "        vertical-align: middle;\n",
              "    }\n",
              "\n",
              "    .dataframe tbody tr th {\n",
              "        vertical-align: top;\n",
              "    }\n",
              "\n",
              "    .dataframe thead th {\n",
              "        text-align: right;\n",
              "    }\n",
              "</style>\n",
              "<table border=\"1\" class=\"dataframe\">\n",
              "  <thead>\n",
              "    <tr style=\"text-align: right;\">\n",
              "      <th></th>\n",
              "      <th>UserID</th>\n",
              "      <th>ItemID</th>\n",
              "      <th>Interaction</th>\n",
              "    </tr>\n",
              "  </thead>\n",
              "  <tbody>\n",
              "    <tr>\n",
              "      <th>0</th>\n",
              "      <td>1</td>\n",
              "      <td>7</td>\n",
              "      <td>1.0</td>\n",
              "    </tr>\n",
              "    <tr>\n",
              "      <th>1</th>\n",
              "      <td>1</td>\n",
              "      <td>15</td>\n",
              "      <td>1.0</td>\n",
              "    </tr>\n",
              "    <tr>\n",
              "      <th>2</th>\n",
              "      <td>1</td>\n",
              "      <td>16</td>\n",
              "      <td>1.0</td>\n",
              "    </tr>\n",
              "    <tr>\n",
              "      <th>3</th>\n",
              "      <td>1</td>\n",
              "      <td>133</td>\n",
              "      <td>1.0</td>\n",
              "    </tr>\n",
              "    <tr>\n",
              "      <th>4</th>\n",
              "      <td>1</td>\n",
              "      <td>161</td>\n",
              "      <td>1.0</td>\n",
              "    </tr>\n",
              "    <tr>\n",
              "      <th>5</th>\n",
              "      <td>1</td>\n",
              "      <td>187</td>\n",
              "      <td>1.0</td>\n",
              "    </tr>\n",
              "    <tr>\n",
              "      <th>6</th>\n",
              "      <td>1</td>\n",
              "      <td>205</td>\n",
              "      <td>1.0</td>\n",
              "    </tr>\n",
              "    <tr>\n",
              "      <th>7</th>\n",
              "      <td>1</td>\n",
              "      <td>222</td>\n",
              "      <td>1.0</td>\n",
              "    </tr>\n",
              "    <tr>\n",
              "      <th>8</th>\n",
              "      <td>1</td>\n",
              "      <td>237</td>\n",
              "      <td>1.0</td>\n",
              "    </tr>\n",
              "    <tr>\n",
              "      <th>9</th>\n",
              "      <td>1</td>\n",
              "      <td>354</td>\n",
              "      <td>1.0</td>\n",
              "    </tr>\n",
              "  </tbody>\n",
              "</table>\n",
              "</div>\n",
              "    <div class=\"colab-df-buttons\">\n",
              "\n",
              "  <div class=\"colab-df-container\">\n",
              "    <button class=\"colab-df-convert\" onclick=\"convertToInteractive('df-7feaeaee-1f4d-4df5-8d2b-f98f006c18ad')\"\n",
              "            title=\"Convert this dataframe to an interactive table.\"\n",
              "            style=\"display:none;\">\n",
              "\n",
              "  <svg xmlns=\"http://www.w3.org/2000/svg\" height=\"24px\" viewBox=\"0 -960 960 960\">\n",
              "    <path d=\"M120-120v-720h720v720H120Zm60-500h600v-160H180v160Zm220 220h160v-160H400v160Zm0 220h160v-160H400v160ZM180-400h160v-160H180v160Zm440 0h160v-160H620v160ZM180-180h160v-160H180v160Zm440 0h160v-160H620v160Z\"/>\n",
              "  </svg>\n",
              "    </button>\n",
              "\n",
              "  <style>\n",
              "    .colab-df-container {\n",
              "      display:flex;\n",
              "      gap: 12px;\n",
              "    }\n",
              "\n",
              "    .colab-df-convert {\n",
              "      background-color: #E8F0FE;\n",
              "      border: none;\n",
              "      border-radius: 50%;\n",
              "      cursor: pointer;\n",
              "      display: none;\n",
              "      fill: #1967D2;\n",
              "      height: 32px;\n",
              "      padding: 0 0 0 0;\n",
              "      width: 32px;\n",
              "    }\n",
              "\n",
              "    .colab-df-convert:hover {\n",
              "      background-color: #E2EBFA;\n",
              "      box-shadow: 0px 1px 2px rgba(60, 64, 67, 0.3), 0px 1px 3px 1px rgba(60, 64, 67, 0.15);\n",
              "      fill: #174EA6;\n",
              "    }\n",
              "\n",
              "    .colab-df-buttons div {\n",
              "      margin-bottom: 4px;\n",
              "    }\n",
              "\n",
              "    [theme=dark] .colab-df-convert {\n",
              "      background-color: #3B4455;\n",
              "      fill: #D2E3FC;\n",
              "    }\n",
              "\n",
              "    [theme=dark] .colab-df-convert:hover {\n",
              "      background-color: #434B5C;\n",
              "      box-shadow: 0px 1px 3px 1px rgba(0, 0, 0, 0.15);\n",
              "      filter: drop-shadow(0px 1px 2px rgba(0, 0, 0, 0.3));\n",
              "      fill: #FFFFFF;\n",
              "    }\n",
              "  </style>\n",
              "\n",
              "    <script>\n",
              "      const buttonEl =\n",
              "        document.querySelector('#df-7feaeaee-1f4d-4df5-8d2b-f98f006c18ad button.colab-df-convert');\n",
              "      buttonEl.style.display =\n",
              "        google.colab.kernel.accessAllowed ? 'block' : 'none';\n",
              "\n",
              "      async function convertToInteractive(key) {\n",
              "        const element = document.querySelector('#df-7feaeaee-1f4d-4df5-8d2b-f98f006c18ad');\n",
              "        const dataTable =\n",
              "          await google.colab.kernel.invokeFunction('convertToInteractive',\n",
              "                                                    [key], {});\n",
              "        if (!dataTable) return;\n",
              "\n",
              "        const docLinkHtml = 'Like what you see? Visit the ' +\n",
              "          '<a target=\"_blank\" href=https://colab.research.google.com/notebooks/data_table.ipynb>data table notebook</a>'\n",
              "          + ' to learn more about interactive tables.';\n",
              "        element.innerHTML = '';\n",
              "        dataTable['output_type'] = 'display_data';\n",
              "        await google.colab.output.renderOutput(dataTable, element);\n",
              "        const docLink = document.createElement('div');\n",
              "        docLink.innerHTML = docLinkHtml;\n",
              "        element.appendChild(docLink);\n",
              "      }\n",
              "    </script>\n",
              "  </div>\n",
              "\n",
              "\n",
              "<div id=\"df-b16d3275-8915-4eb0-b748-007ddeb14f3c\">\n",
              "  <button class=\"colab-df-quickchart\" onclick=\"quickchart('df-b16d3275-8915-4eb0-b748-007ddeb14f3c')\"\n",
              "            title=\"Suggest charts\"\n",
              "            style=\"display:none;\">\n",
              "\n",
              "<svg xmlns=\"http://www.w3.org/2000/svg\" height=\"24px\"viewBox=\"0 0 24 24\"\n",
              "     width=\"24px\">\n",
              "    <g>\n",
              "        <path d=\"M19 3H5c-1.1 0-2 .9-2 2v14c0 1.1.9 2 2 2h14c1.1 0 2-.9 2-2V5c0-1.1-.9-2-2-2zM9 17H7v-7h2v7zm4 0h-2V7h2v10zm4 0h-2v-4h2v4z\"/>\n",
              "    </g>\n",
              "</svg>\n",
              "  </button>\n",
              "\n",
              "<style>\n",
              "  .colab-df-quickchart {\n",
              "      --bg-color: #E8F0FE;\n",
              "      --fill-color: #1967D2;\n",
              "      --hover-bg-color: #E2EBFA;\n",
              "      --hover-fill-color: #174EA6;\n",
              "      --disabled-fill-color: #AAA;\n",
              "      --disabled-bg-color: #DDD;\n",
              "  }\n",
              "\n",
              "  [theme=dark] .colab-df-quickchart {\n",
              "      --bg-color: #3B4455;\n",
              "      --fill-color: #D2E3FC;\n",
              "      --hover-bg-color: #434B5C;\n",
              "      --hover-fill-color: #FFFFFF;\n",
              "      --disabled-bg-color: #3B4455;\n",
              "      --disabled-fill-color: #666;\n",
              "  }\n",
              "\n",
              "  .colab-df-quickchart {\n",
              "    background-color: var(--bg-color);\n",
              "    border: none;\n",
              "    border-radius: 50%;\n",
              "    cursor: pointer;\n",
              "    display: none;\n",
              "    fill: var(--fill-color);\n",
              "    height: 32px;\n",
              "    padding: 0;\n",
              "    width: 32px;\n",
              "  }\n",
              "\n",
              "  .colab-df-quickchart:hover {\n",
              "    background-color: var(--hover-bg-color);\n",
              "    box-shadow: 0 1px 2px rgba(60, 64, 67, 0.3), 0 1px 3px 1px rgba(60, 64, 67, 0.15);\n",
              "    fill: var(--button-hover-fill-color);\n",
              "  }\n",
              "\n",
              "  .colab-df-quickchart-complete:disabled,\n",
              "  .colab-df-quickchart-complete:disabled:hover {\n",
              "    background-color: var(--disabled-bg-color);\n",
              "    fill: var(--disabled-fill-color);\n",
              "    box-shadow: none;\n",
              "  }\n",
              "\n",
              "  .colab-df-spinner {\n",
              "    border: 2px solid var(--fill-color);\n",
              "    border-color: transparent;\n",
              "    border-bottom-color: var(--fill-color);\n",
              "    animation:\n",
              "      spin 1s steps(1) infinite;\n",
              "  }\n",
              "\n",
              "  @keyframes spin {\n",
              "    0% {\n",
              "      border-color: transparent;\n",
              "      border-bottom-color: var(--fill-color);\n",
              "      border-left-color: var(--fill-color);\n",
              "    }\n",
              "    20% {\n",
              "      border-color: transparent;\n",
              "      border-left-color: var(--fill-color);\n",
              "      border-top-color: var(--fill-color);\n",
              "    }\n",
              "    30% {\n",
              "      border-color: transparent;\n",
              "      border-left-color: var(--fill-color);\n",
              "      border-top-color: var(--fill-color);\n",
              "      border-right-color: var(--fill-color);\n",
              "    }\n",
              "    40% {\n",
              "      border-color: transparent;\n",
              "      border-right-color: var(--fill-color);\n",
              "      border-top-color: var(--fill-color);\n",
              "    }\n",
              "    60% {\n",
              "      border-color: transparent;\n",
              "      border-right-color: var(--fill-color);\n",
              "    }\n",
              "    80% {\n",
              "      border-color: transparent;\n",
              "      border-right-color: var(--fill-color);\n",
              "      border-bottom-color: var(--fill-color);\n",
              "    }\n",
              "    90% {\n",
              "      border-color: transparent;\n",
              "      border-bottom-color: var(--fill-color);\n",
              "    }\n",
              "  }\n",
              "</style>\n",
              "\n",
              "  <script>\n",
              "    async function quickchart(key) {\n",
              "      const quickchartButtonEl =\n",
              "        document.querySelector('#' + key + ' button');\n",
              "      quickchartButtonEl.disabled = true;  // To prevent multiple clicks.\n",
              "      quickchartButtonEl.classList.add('colab-df-spinner');\n",
              "      try {\n",
              "        const charts = await google.colab.kernel.invokeFunction(\n",
              "            'suggestCharts', [key], {});\n",
              "      } catch (error) {\n",
              "        console.error('Error during call to suggestCharts:', error);\n",
              "      }\n",
              "      quickchartButtonEl.classList.remove('colab-df-spinner');\n",
              "      quickchartButtonEl.classList.add('colab-df-quickchart-complete');\n",
              "    }\n",
              "    (() => {\n",
              "      let quickchartButtonEl =\n",
              "        document.querySelector('#df-b16d3275-8915-4eb0-b748-007ddeb14f3c button');\n",
              "      quickchartButtonEl.style.display =\n",
              "        google.colab.kernel.accessAllowed ? 'block' : 'none';\n",
              "    })();\n",
              "  </script>\n",
              "</div>\n",
              "    </div>\n",
              "  </div>\n"
            ]
          },
          "metadata": {},
          "execution_count": 3
        }
      ],
      "source": [
        "urm_all_df.head(10)"
      ]
    },
    {
      "cell_type": "code",
      "execution_count": null,
      "metadata": {
        "colab": {
          "base_uri": "https://localhost:8080/"
        },
        "id": "KQWSAcheqshX",
        "outputId": "005e673f-02ba-4e89-f832-e6a06caf4724"
      },
      "outputs": [
        {
          "output_type": "stream",
          "name": "stdout",
          "text": [
            "The number of interactions is 478730\n"
          ]
        }
      ],
      "source": [
        "print (\"The number of interactions is {}\".format(len(urm_all_df)))"
      ]
    },
    {
      "cell_type": "code",
      "execution_count": null,
      "metadata": {
        "colab": {
          "base_uri": "https://localhost:8080/"
        },
        "id": "dD663Pajrych",
        "outputId": "485e7bef-87ae-4e2d-a292-1d5250ac2c3a"
      },
      "outputs": [
        {
          "output_type": "stream",
          "name": "stdout",
          "text": [
            "Number of items\t 22222, Number of users\t 12638\n",
            "Max ID items\t 22347, Max Id users\t 13024\n",
            "\n",
            "Average interactions per user 37.88\n",
            "Average interactions per item 21.54\n",
            "\n",
            "Sparsity 99.83 %\n"
          ]
        }
      ],
      "source": [
        "userID_unique = urm_all_df[\"UserID\"].unique()\n",
        "itemID_unique = urm_all_df[\"ItemID\"].unique()\n",
        "\n",
        "n_users = len(userID_unique)\n",
        "n_items = len(itemID_unique)\n",
        "n_interactions = len(urm_all_df)\n",
        "\n",
        "print (\"Number of items\\t {}, Number of users\\t {}\".format(n_items, n_users))\n",
        "print (\"Max ID items\\t {}, Max Id users\\t {}\\n\".format(max(itemID_unique), max(userID_unique)))\n",
        "print (\"Average interactions per user {:.2f}\".format(n_interactions/n_users))\n",
        "print (\"Average interactions per item {:.2f}\\n\".format(n_interactions/n_items))\n",
        "\n",
        "print (\"Sparsity {:.2f} %\".format((1-float(n_interactions)/(n_items*n_users))*100))"
      ]
    },
    {
      "cell_type": "code",
      "execution_count": null,
      "metadata": {
        "colab": {
          "base_uri": "https://localhost:8080/"
        },
        "id": "wiHOrfUYsOB2",
        "outputId": "0a34baaa-d9bf-4e7d-de57-68637d3b1791"
      },
      "outputs": [
        {
          "output_type": "execute_result",
          "data": {
            "text/plain": [
              "<13025x22348 sparse matrix of type '<class 'numpy.float64'>'\n",
              "\twith 478730 stored elements in COOrdinate format>"
            ]
          },
          "metadata": {},
          "execution_count": 6
        }
      ],
      "source": [
        "urm_all = sps.coo_matrix((urm_all_df[\"Interaction\"].values,\n",
        "                          (urm_all_df[\"UserID\"].values, urm_all_df[\"ItemID\"].values)))\n",
        "\n",
        "urm_all"
      ]
    },
    {
      "cell_type": "code",
      "execution_count": null,
      "metadata": {
        "colab": {
          "base_uri": "https://localhost:8080/"
        },
        "id": "TUnLJs1Pswnu",
        "outputId": "0bfc6f43-b23b-43af-8786-316f4d6e46ab"
      },
      "outputs": [
        {
          "output_type": "execute_result",
          "data": {
            "text/plain": [
              "<13025x22348 sparse matrix of type '<class 'numpy.float64'>'\n",
              "\twith 478730 stored elements in Compressed Sparse Row format>"
            ]
          },
          "metadata": {},
          "execution_count": 7
        }
      ],
      "source": [
        "urm_all.tocsr()"
      ]
    },
    {
      "cell_type": "code",
      "execution_count": null,
      "metadata": {
        "id": "IJ-h5XsbuvEU"
      },
      "outputs": [],
      "source": [
        "def precision(recommended_items, relevant_items):\n",
        "\n",
        "    is_relevant = np.in1d(recommended_items, relevant_items, assume_unique=True)\n",
        "\n",
        "    precision_score = np.sum(is_relevant, dtype=np.float32) / len(is_relevant)\n",
        "\n",
        "    return precision_score\n",
        "\n",
        "def recall(recommended_items, relevant_items):\n",
        "\n",
        "    is_relevant = np.in1d(recommended_items, relevant_items, assume_unique=True)\n",
        "\n",
        "    recall_score = np.sum(is_relevant, dtype=np.float32) / relevant_items.shape[0]\n",
        "\n",
        "    return recall_score\n",
        "\n",
        "def AP(recommended_items, relevant_items):\n",
        "\n",
        "    is_relevant = np.in1d(recommended_items, relevant_items, assume_unique=True)\n",
        "\n",
        "    # Cumulative sum: precision at 1, at 2, at 3 ...\n",
        "    p_at_k = is_relevant * np.cumsum(is_relevant, dtype=np.float32) / (1 + np.arange(is_relevant.shape[0]))\n",
        "\n",
        "    ap_score = np.sum(p_at_k) / np.min([relevant_items.shape[0], is_relevant.shape[0]])\n",
        "\n",
        "    return ap_score"
      ]
    },
    {
      "cell_type": "code",
      "execution_count": null,
      "metadata": {
        "id": "WMRVTPEwu4Qb"
      },
      "outputs": [],
      "source": [
        "def evaluate_algorithm(URM_test, recommender_object, at=5):\n",
        "\n",
        "    cumulative_precision = 0.0\n",
        "    cumulative_recall = 0.0\n",
        "    cumulative_AP = 0.0\n",
        "\n",
        "    num_eval = 0\n",
        "\n",
        "\n",
        "    for user_id in range(URM_test.shape[0]):\n",
        "\n",
        "        relevant_items = URM_test.indices[URM_test.indptr[user_id]:URM_test.indptr[user_id+1]]\n",
        "\n",
        "        if len(relevant_items)>0:\n",
        "\n",
        "            recommended_items = recommender_object.recommend(user_id, at=at)\n",
        "            num_eval+=1\n",
        "\n",
        "            cumulative_precision += precision(recommended_items, relevant_items)\n",
        "            cumulative_recall += recall(recommended_items, relevant_items)\n",
        "            cumulative_AP += AP(recommended_items, relevant_items)\n",
        "\n",
        "    cumulative_precision /= num_eval\n",
        "    cumulative_recall /= num_eval\n",
        "    MAP = cumulative_AP / num_eval\n",
        "\n",
        "    print(\"Recommender results are: Precision = {:.4f}, Recall = {:.4f}, MAP = {:.4f}\".format(\n",
        "        cumulative_precision, cumulative_recall, MAP))"
      ]
    },
    {
      "cell_type": "code",
      "source": [
        "n_users, n_items = urm_all.shape"
      ],
      "metadata": {
        "id": "r2itI0x6WIlD"
      },
      "execution_count": null,
      "outputs": []
    },
    {
      "cell_type": "code",
      "source": [
        "from sklearn.utils.extmath import randomized_svd\n",
        "\n",
        "num_factors = 20\n",
        "\n",
        "U, Sigma, VT = randomized_svd(urm_all,\n",
        "                              n_components=num_factors)"
      ],
      "metadata": {
        "id": "qFEyte_GWNoK"
      },
      "execution_count": null,
      "outputs": []
    },
    {
      "cell_type": "code",
      "source": [
        "U.shape"
      ],
      "metadata": {
        "colab": {
          "base_uri": "https://localhost:8080/"
        },
        "id": "9HlCem6HWRtx",
        "outputId": "2d15159d-22fe-48de-cf66-997d6ceb966c"
      },
      "execution_count": null,
      "outputs": [
        {
          "output_type": "execute_result",
          "data": {
            "text/plain": [
              "(13025, 20)"
            ]
          },
          "metadata": {},
          "execution_count": 12
        }
      ]
    },
    {
      "cell_type": "code",
      "source": [
        "Sigma.shape"
      ],
      "metadata": {
        "colab": {
          "base_uri": "https://localhost:8080/"
        },
        "id": "mMIIdqh3WUYI",
        "outputId": "bd9dec96-282e-4f76-8582-ae91738cf1cf"
      },
      "execution_count": null,
      "outputs": [
        {
          "output_type": "execute_result",
          "data": {
            "text/plain": [
              "(20,)"
            ]
          },
          "metadata": {},
          "execution_count": 13
        }
      ]
    },
    {
      "cell_type": "code",
      "source": [
        "VT.shape"
      ],
      "metadata": {
        "colab": {
          "base_uri": "https://localhost:8080/"
        },
        "id": "rr99uVZEWWse",
        "outputId": "343cbead-d988-46dc-a091-ac5275de4bf9"
      },
      "execution_count": null,
      "outputs": [
        {
          "output_type": "execute_result",
          "data": {
            "text/plain": [
              "(20, 22348)"
            ]
          },
          "metadata": {},
          "execution_count": 14
        }
      ]
    },
    {
      "cell_type": "code",
      "source": [
        "user_id = 61\n",
        "item_id = 100\n",
        "\n",
        "user_factors = np.dot(U, np.diag(Sigma))\n",
        "item_factors = VT\n",
        "\n",
        "predicted_rating_mf = np.dot(user_factors[user_id,:], item_factors[:,:])\n",
        "predicted_rating_mf"
      ],
      "metadata": {
        "colab": {
          "base_uri": "https://localhost:8080/"
        },
        "id": "Tcl-BTe6WZvj",
        "outputId": "ce864b9f-f88f-45dc-f78d-ce31a1a4cbca"
      },
      "execution_count": null,
      "outputs": [
        {
          "output_type": "execute_result",
          "data": {
            "text/plain": [
              "array([ 2.33797723e-16, -1.45268384e-04,  8.76762924e-03, ...,\n",
              "        2.50865634e-04,  1.42885281e-04,  4.97089069e-06])"
            ]
          },
          "metadata": {},
          "execution_count": 18
        }
      ]
    },
    {
      "cell_type": "markdown",
      "metadata": {
        "id": "LTzxN3OPGnQ-"
      },
      "source": [
        "**Now let's read the data we want to predict for and see if there're overlaps with UserIDs in train data**"
      ]
    },
    {
      "cell_type": "code",
      "source": [
        "urm_pred_path = '../content/data_target_users_test.csv'\n",
        "\n",
        "urm_pred_df = pd.read_csv(filepath_or_buffer=urm_pred_path,\n",
        "                                sep=\",\",\n",
        "                                header=0,\n",
        "                                dtype={0:int},\n",
        "                                engine='python')\n",
        "\n",
        "urm_pred_df.columns = [\"UserID\"]\n",
        "len(urm_pred_df['UserID'])\n",
        "print('Unique user id to predict:', urm_pred_df['UserID'].nunique())"
      ],
      "metadata": {
        "colab": {
          "base_uri": "https://localhost:8080/"
        },
        "id": "fevIQT6pZYcX",
        "outputId": "9efd178c-b6e5-42d4-ea89-565fbcfe288f"
      },
      "execution_count": null,
      "outputs": [
        {
          "output_type": "stream",
          "name": "stdout",
          "text": [
            "Unique user id to predict: 10882\n"
          ]
        }
      ]
    },
    {
      "cell_type": "code",
      "source": [
        "users_not_in_train = urm_pred_df[~urm_pred_df['UserID'].isin(urm_all_df['UserID'])]\n",
        "\n",
        "print(\"Users in urm_pred_df but not in urm_all_orgdf:\")\n",
        "print(users_not_in_train)\n",
        "print(len(users_not_in_train))\n",
        "\n",
        "users_not_in_train = users_not_in_train['UserID'].to_numpy()"
      ],
      "metadata": {
        "colab": {
          "base_uri": "https://localhost:8080/"
        },
        "id": "lyT7t0CwZ2RC",
        "outputId": "ff436bd0-1a4a-4d73-f5eb-11ddd9f60a7a"
      },
      "execution_count": null,
      "outputs": [
        {
          "output_type": "stream",
          "name": "stdout",
          "text": [
            "Users in urm_pred_df but not in urm_all_orgdf:\n",
            "       UserID\n",
            "54         60\n",
            "58         65\n",
            "147       168\n",
            "223       261\n",
            "272       316\n",
            "...       ...\n",
            "10682   12775\n",
            "10699   12798\n",
            "10729   12837\n",
            "10802   12921\n",
            "10856   12992\n",
            "\n",
            "[221 rows x 1 columns]\n",
            "221\n"
          ]
        }
      ]
    },
    {
      "cell_type": "code",
      "source": [
        "def filter_seen(URM, user_id, scores):\n",
        "\n",
        "        start_pos = URM.indptr[user_id]\n",
        "        end_pos = URM.indptr[user_id+1]\n",
        "\n",
        "        user_profile = URM.indices[start_pos:end_pos]\n",
        "\n",
        "        scores[user_profile] = -np.inf\n",
        "\n",
        "        return scores\n",
        "\n",
        "def recommend(URM,usr_factors, itm_factors,user_id, at=None, exclude_seen=True, users_not_in_train=[]):\n",
        "        # Check if user_id is a valid index\n",
        "        if user_id < 0 or user_id >= URM.shape[0]:\n",
        "            print(f\"Invalid user_id: {user_id}\")\n",
        "            return\n",
        "\n",
        "        # Check if user_id not in train use the topRec\n",
        "        if user_id in users_not_in_train:\n",
        "            return [\"517 189 44 0 284 808 285 1 557 1266\"]\n",
        "\n",
        "        # compute the scores using the dot product\n",
        "        user_profile = URM[user_id]\n",
        "        scores = np.dot(usr_factors[user_id,:], itm_factors)\n",
        "\n",
        "        if exclude_seen:\n",
        "            scores = filter_seen(URM,user_id, scores)\n",
        "\n",
        "        # rank items\n",
        "        ranking = scores.argsort()[::-1]\n",
        "\n",
        "        return ranking[:at]"
      ],
      "metadata": {
        "id": "NMyrwz4BZ9Sr"
      },
      "execution_count": null,
      "outputs": []
    },
    {
      "cell_type": "code",
      "execution_count": null,
      "metadata": {
        "id": "_QbtV9WqQUkl"
      },
      "outputs": [],
      "source": [
        "urm_all_train = sps.csr_matrix((urm_all.data,\n",
        "                            (urm_all.row, urm_all.col)))"
      ]
    },
    {
      "cell_type": "code",
      "source": [
        "recommendations = recommend(urm_all_train,user_factors,item_factors,60, at=10, users_not_in_train=users_not_in_train)\n",
        "print(recommendations)"
      ],
      "metadata": {
        "colab": {
          "base_uri": "https://localhost:8080/"
        },
        "id": "yPe3eMjscIBP",
        "outputId": "ff4d1d42-4ffa-49eb-8646-f7bc72802264"
      },
      "execution_count": null,
      "outputs": [
        {
          "output_type": "stream",
          "name": "stdout",
          "text": [
            "['517 189 44 0 284 808 285 1 557 1266']\n"
          ]
        }
      ]
    },
    {
      "cell_type": "code",
      "execution_count": null,
      "metadata": {
        "id": "NoopFoyfNHJq"
      },
      "outputs": [],
      "source": [
        "pred_df = pd.DataFrame(columns = ['user_id','item_list'])\n",
        "\n",
        "for userid in urm_pred_df['UserID']:\n",
        "  recommendations = recommend(urm_all_train,user_factors,item_factors,userid, at=10, users_not_in_train=users_not_in_train)\n",
        "  recommendations = \" \".join(str(item) for item in recommendations)\n",
        "  pred_df.loc[len(pred_df)] = [userid,recommendations]"
      ]
    },
    {
      "cell_type": "code",
      "source": [
        "pred_df"
      ],
      "metadata": {
        "colab": {
          "base_uri": "https://localhost:8080/",
          "height": 423
        },
        "id": "fHgx4qwlzH4B",
        "outputId": "4b686833-bd7d-468a-f2f6-624726d86e11"
      },
      "execution_count": null,
      "outputs": [
        {
          "output_type": "execute_result",
          "data": {
            "text/plain": [
              "       user_id                             item_list\n",
              "0            1         36 3 101 8 112 54 18 29 85 44\n",
              "1            2            11 5 28 3 8 47 38 37 50 54\n",
              "2            3      9 35 56 7 104 144 149 168 59 184\n",
              "3            4         28 50 5 145 136 3 122 7 23 71\n",
              "4            5      51 88 77 116 8 87 38 148 202 179\n",
              "...        ...                                   ...\n",
              "10877    13020  161 85 337 29 154 257 87 506 403 303\n",
              "10878    13021    133 254 139 13 6 25 474 36 316 350\n",
              "10879    13022      34 94 99 66 77 60 116 53 148 320\n",
              "10880    13023     32 96 82 138 89 208 282 324 344 1\n",
              "10881    13024      4 3 139 347 292 54 329 38 408 14\n",
              "\n",
              "[10882 rows x 2 columns]"
            ],
            "text/html": [
              "\n",
              "  <div id=\"df-92312588-2574-4586-93ae-1a5638af28c5\" class=\"colab-df-container\">\n",
              "    <div>\n",
              "<style scoped>\n",
              "    .dataframe tbody tr th:only-of-type {\n",
              "        vertical-align: middle;\n",
              "    }\n",
              "\n",
              "    .dataframe tbody tr th {\n",
              "        vertical-align: top;\n",
              "    }\n",
              "\n",
              "    .dataframe thead th {\n",
              "        text-align: right;\n",
              "    }\n",
              "</style>\n",
              "<table border=\"1\" class=\"dataframe\">\n",
              "  <thead>\n",
              "    <tr style=\"text-align: right;\">\n",
              "      <th></th>\n",
              "      <th>user_id</th>\n",
              "      <th>item_list</th>\n",
              "    </tr>\n",
              "  </thead>\n",
              "  <tbody>\n",
              "    <tr>\n",
              "      <th>0</th>\n",
              "      <td>1</td>\n",
              "      <td>36 3 101 8 112 54 18 29 85 44</td>\n",
              "    </tr>\n",
              "    <tr>\n",
              "      <th>1</th>\n",
              "      <td>2</td>\n",
              "      <td>11 5 28 3 8 47 38 37 50 54</td>\n",
              "    </tr>\n",
              "    <tr>\n",
              "      <th>2</th>\n",
              "      <td>3</td>\n",
              "      <td>9 35 56 7 104 144 149 168 59 184</td>\n",
              "    </tr>\n",
              "    <tr>\n",
              "      <th>3</th>\n",
              "      <td>4</td>\n",
              "      <td>28 50 5 145 136 3 122 7 23 71</td>\n",
              "    </tr>\n",
              "    <tr>\n",
              "      <th>4</th>\n",
              "      <td>5</td>\n",
              "      <td>51 88 77 116 8 87 38 148 202 179</td>\n",
              "    </tr>\n",
              "    <tr>\n",
              "      <th>...</th>\n",
              "      <td>...</td>\n",
              "      <td>...</td>\n",
              "    </tr>\n",
              "    <tr>\n",
              "      <th>10877</th>\n",
              "      <td>13020</td>\n",
              "      <td>161 85 337 29 154 257 87 506 403 303</td>\n",
              "    </tr>\n",
              "    <tr>\n",
              "      <th>10878</th>\n",
              "      <td>13021</td>\n",
              "      <td>133 254 139 13 6 25 474 36 316 350</td>\n",
              "    </tr>\n",
              "    <tr>\n",
              "      <th>10879</th>\n",
              "      <td>13022</td>\n",
              "      <td>34 94 99 66 77 60 116 53 148 320</td>\n",
              "    </tr>\n",
              "    <tr>\n",
              "      <th>10880</th>\n",
              "      <td>13023</td>\n",
              "      <td>32 96 82 138 89 208 282 324 344 1</td>\n",
              "    </tr>\n",
              "    <tr>\n",
              "      <th>10881</th>\n",
              "      <td>13024</td>\n",
              "      <td>4 3 139 347 292 54 329 38 408 14</td>\n",
              "    </tr>\n",
              "  </tbody>\n",
              "</table>\n",
              "<p>10882 rows × 2 columns</p>\n",
              "</div>\n",
              "    <div class=\"colab-df-buttons\">\n",
              "\n",
              "  <div class=\"colab-df-container\">\n",
              "    <button class=\"colab-df-convert\" onclick=\"convertToInteractive('df-92312588-2574-4586-93ae-1a5638af28c5')\"\n",
              "            title=\"Convert this dataframe to an interactive table.\"\n",
              "            style=\"display:none;\">\n",
              "\n",
              "  <svg xmlns=\"http://www.w3.org/2000/svg\" height=\"24px\" viewBox=\"0 -960 960 960\">\n",
              "    <path d=\"M120-120v-720h720v720H120Zm60-500h600v-160H180v160Zm220 220h160v-160H400v160Zm0 220h160v-160H400v160ZM180-400h160v-160H180v160Zm440 0h160v-160H620v160ZM180-180h160v-160H180v160Zm440 0h160v-160H620v160Z\"/>\n",
              "  </svg>\n",
              "    </button>\n",
              "\n",
              "  <style>\n",
              "    .colab-df-container {\n",
              "      display:flex;\n",
              "      gap: 12px;\n",
              "    }\n",
              "\n",
              "    .colab-df-convert {\n",
              "      background-color: #E8F0FE;\n",
              "      border: none;\n",
              "      border-radius: 50%;\n",
              "      cursor: pointer;\n",
              "      display: none;\n",
              "      fill: #1967D2;\n",
              "      height: 32px;\n",
              "      padding: 0 0 0 0;\n",
              "      width: 32px;\n",
              "    }\n",
              "\n",
              "    .colab-df-convert:hover {\n",
              "      background-color: #E2EBFA;\n",
              "      box-shadow: 0px 1px 2px rgba(60, 64, 67, 0.3), 0px 1px 3px 1px rgba(60, 64, 67, 0.15);\n",
              "      fill: #174EA6;\n",
              "    }\n",
              "\n",
              "    .colab-df-buttons div {\n",
              "      margin-bottom: 4px;\n",
              "    }\n",
              "\n",
              "    [theme=dark] .colab-df-convert {\n",
              "      background-color: #3B4455;\n",
              "      fill: #D2E3FC;\n",
              "    }\n",
              "\n",
              "    [theme=dark] .colab-df-convert:hover {\n",
              "      background-color: #434B5C;\n",
              "      box-shadow: 0px 1px 3px 1px rgba(0, 0, 0, 0.15);\n",
              "      filter: drop-shadow(0px 1px 2px rgba(0, 0, 0, 0.3));\n",
              "      fill: #FFFFFF;\n",
              "    }\n",
              "  </style>\n",
              "\n",
              "    <script>\n",
              "      const buttonEl =\n",
              "        document.querySelector('#df-92312588-2574-4586-93ae-1a5638af28c5 button.colab-df-convert');\n",
              "      buttonEl.style.display =\n",
              "        google.colab.kernel.accessAllowed ? 'block' : 'none';\n",
              "\n",
              "      async function convertToInteractive(key) {\n",
              "        const element = document.querySelector('#df-92312588-2574-4586-93ae-1a5638af28c5');\n",
              "        const dataTable =\n",
              "          await google.colab.kernel.invokeFunction('convertToInteractive',\n",
              "                                                    [key], {});\n",
              "        if (!dataTable) return;\n",
              "\n",
              "        const docLinkHtml = 'Like what you see? Visit the ' +\n",
              "          '<a target=\"_blank\" href=https://colab.research.google.com/notebooks/data_table.ipynb>data table notebook</a>'\n",
              "          + ' to learn more about interactive tables.';\n",
              "        element.innerHTML = '';\n",
              "        dataTable['output_type'] = 'display_data';\n",
              "        await google.colab.output.renderOutput(dataTable, element);\n",
              "        const docLink = document.createElement('div');\n",
              "        docLink.innerHTML = docLinkHtml;\n",
              "        element.appendChild(docLink);\n",
              "      }\n",
              "    </script>\n",
              "  </div>\n",
              "\n",
              "\n",
              "<div id=\"df-4c4bc7a7-e6ca-419b-a64c-36da40a5ad8b\">\n",
              "  <button class=\"colab-df-quickchart\" onclick=\"quickchart('df-4c4bc7a7-e6ca-419b-a64c-36da40a5ad8b')\"\n",
              "            title=\"Suggest charts\"\n",
              "            style=\"display:none;\">\n",
              "\n",
              "<svg xmlns=\"http://www.w3.org/2000/svg\" height=\"24px\"viewBox=\"0 0 24 24\"\n",
              "     width=\"24px\">\n",
              "    <g>\n",
              "        <path d=\"M19 3H5c-1.1 0-2 .9-2 2v14c0 1.1.9 2 2 2h14c1.1 0 2-.9 2-2V5c0-1.1-.9-2-2-2zM9 17H7v-7h2v7zm4 0h-2V7h2v10zm4 0h-2v-4h2v4z\"/>\n",
              "    </g>\n",
              "</svg>\n",
              "  </button>\n",
              "\n",
              "<style>\n",
              "  .colab-df-quickchart {\n",
              "      --bg-color: #E8F0FE;\n",
              "      --fill-color: #1967D2;\n",
              "      --hover-bg-color: #E2EBFA;\n",
              "      --hover-fill-color: #174EA6;\n",
              "      --disabled-fill-color: #AAA;\n",
              "      --disabled-bg-color: #DDD;\n",
              "  }\n",
              "\n",
              "  [theme=dark] .colab-df-quickchart {\n",
              "      --bg-color: #3B4455;\n",
              "      --fill-color: #D2E3FC;\n",
              "      --hover-bg-color: #434B5C;\n",
              "      --hover-fill-color: #FFFFFF;\n",
              "      --disabled-bg-color: #3B4455;\n",
              "      --disabled-fill-color: #666;\n",
              "  }\n",
              "\n",
              "  .colab-df-quickchart {\n",
              "    background-color: var(--bg-color);\n",
              "    border: none;\n",
              "    border-radius: 50%;\n",
              "    cursor: pointer;\n",
              "    display: none;\n",
              "    fill: var(--fill-color);\n",
              "    height: 32px;\n",
              "    padding: 0;\n",
              "    width: 32px;\n",
              "  }\n",
              "\n",
              "  .colab-df-quickchart:hover {\n",
              "    background-color: var(--hover-bg-color);\n",
              "    box-shadow: 0 1px 2px rgba(60, 64, 67, 0.3), 0 1px 3px 1px rgba(60, 64, 67, 0.15);\n",
              "    fill: var(--button-hover-fill-color);\n",
              "  }\n",
              "\n",
              "  .colab-df-quickchart-complete:disabled,\n",
              "  .colab-df-quickchart-complete:disabled:hover {\n",
              "    background-color: var(--disabled-bg-color);\n",
              "    fill: var(--disabled-fill-color);\n",
              "    box-shadow: none;\n",
              "  }\n",
              "\n",
              "  .colab-df-spinner {\n",
              "    border: 2px solid var(--fill-color);\n",
              "    border-color: transparent;\n",
              "    border-bottom-color: var(--fill-color);\n",
              "    animation:\n",
              "      spin 1s steps(1) infinite;\n",
              "  }\n",
              "\n",
              "  @keyframes spin {\n",
              "    0% {\n",
              "      border-color: transparent;\n",
              "      border-bottom-color: var(--fill-color);\n",
              "      border-left-color: var(--fill-color);\n",
              "    }\n",
              "    20% {\n",
              "      border-color: transparent;\n",
              "      border-left-color: var(--fill-color);\n",
              "      border-top-color: var(--fill-color);\n",
              "    }\n",
              "    30% {\n",
              "      border-color: transparent;\n",
              "      border-left-color: var(--fill-color);\n",
              "      border-top-color: var(--fill-color);\n",
              "      border-right-color: var(--fill-color);\n",
              "    }\n",
              "    40% {\n",
              "      border-color: transparent;\n",
              "      border-right-color: var(--fill-color);\n",
              "      border-top-color: var(--fill-color);\n",
              "    }\n",
              "    60% {\n",
              "      border-color: transparent;\n",
              "      border-right-color: var(--fill-color);\n",
              "    }\n",
              "    80% {\n",
              "      border-color: transparent;\n",
              "      border-right-color: var(--fill-color);\n",
              "      border-bottom-color: var(--fill-color);\n",
              "    }\n",
              "    90% {\n",
              "      border-color: transparent;\n",
              "      border-bottom-color: var(--fill-color);\n",
              "    }\n",
              "  }\n",
              "</style>\n",
              "\n",
              "  <script>\n",
              "    async function quickchart(key) {\n",
              "      const quickchartButtonEl =\n",
              "        document.querySelector('#' + key + ' button');\n",
              "      quickchartButtonEl.disabled = true;  // To prevent multiple clicks.\n",
              "      quickchartButtonEl.classList.add('colab-df-spinner');\n",
              "      try {\n",
              "        const charts = await google.colab.kernel.invokeFunction(\n",
              "            'suggestCharts', [key], {});\n",
              "      } catch (error) {\n",
              "        console.error('Error during call to suggestCharts:', error);\n",
              "      }\n",
              "      quickchartButtonEl.classList.remove('colab-df-spinner');\n",
              "      quickchartButtonEl.classList.add('colab-df-quickchart-complete');\n",
              "    }\n",
              "    (() => {\n",
              "      let quickchartButtonEl =\n",
              "        document.querySelector('#df-4c4bc7a7-e6ca-419b-a64c-36da40a5ad8b button');\n",
              "      quickchartButtonEl.style.display =\n",
              "        google.colab.kernel.accessAllowed ? 'block' : 'none';\n",
              "    })();\n",
              "  </script>\n",
              "</div>\n",
              "    </div>\n",
              "  </div>\n"
            ]
          },
          "metadata": {},
          "execution_count": 28
        }
      ]
    },
    {
      "cell_type": "code",
      "execution_count": null,
      "metadata": {
        "id": "4TP96xHPQG-V"
      },
      "outputs": [],
      "source": [
        "pred_df.to_csv('/content/predPureSVD_Max.csv',index=False)"
      ]
    },
    {
      "cell_type": "code",
      "source": [],
      "metadata": {
        "id": "Ry0NrliLdS-F"
      },
      "execution_count": null,
      "outputs": []
    }
  ]
}